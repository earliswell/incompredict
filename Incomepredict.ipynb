{
 "cells": [
  {
   "cell_type": "code",
   "execution_count": 44,
   "id": "833f18af",
   "metadata": {
    "ExecuteTime": {
     "end_time": "2024-04-08T00:16:53.346257Z",
     "start_time": "2024-04-08T00:16:53.234273Z"
    }
   },
   "outputs": [],
   "source": [
    "# 라이브러리 설치\n",
    "import pandas as pd\n",
    "import numpy as np\n",
    "import matplotlib.pyplot as plt\n",
    "import seaborn as sns\n",
    "import random\n",
    "import os\n",
    "import optuna\n",
    "import warnings\n",
    "warnings.filterwarnings('ignore')\n",
    "\n",
    "# Rgression Libraries\n",
    "from catboost import CatBoostRegressor\n",
    "from lightgbm import LGBMRegressor\n",
    "from xgboost import XGBRegressor\n",
    "\n",
    "from sklearn.ensemble import VotingRegressor, HistGradientBoostingRegressor\n",
    "from sklearn.preprocessing import LabelEncoder\n",
    "from sklearn.model_selection import train_test_split, cross_val_score\n",
    "from sklearn.metrics import root_mean_squared_error, r2_score\n",
    "\n",
    "%matplotlib inline\n",
    "\n",
    "def seed_everything(seed):\n",
    "    random.seed(seed)\n",
    "    os.environ['PYTHONHASHSEED'] = str(seed)\n",
    "    np.random.seed(seed)\n",
    "\n",
    "seed_everything(42) # Seed 고정\n",
    "\n",
    "train = pd.read_csv('data/train.csv', index_col='ID')\n",
    "test = pd.read_csv('data/test.csv', index_col='ID')\n",
    "sub = pd.read_csv('data/sample_submission.csv')"
   ]
  },
  {
   "cell_type": "code",
   "execution_count": 45,
   "id": "1de6b244",
   "metadata": {
    "ExecuteTime": {
     "end_time": "2024-04-08T00:16:53.980021Z",
     "start_time": "2024-04-08T00:16:53.662987Z"
    }
   },
   "outputs": [
    {
     "data": {
      "text/plain": [
       "<Axes: xlabel='Income', ylabel='Count'>"
      ]
     },
     "execution_count": 45,
     "metadata": {},
     "output_type": "execute_result"
    },
    {
     "data": {
      "image/png": "[encoded data removed]",
      "text/plain": [
       "<Figure size 640x480 with 1 Axes>"
      ]
     },
     "metadata": {},
     "output_type": "display_data"
    }
   ],
   "source": [
    "# Income 시각화\n",
    "sns.histplot(train['Income'], kde=True)"
   ]
  },
  {
   "cell_type": "code",
   "execution_count": 46,
   "id": "9756dbbe",
   "metadata": {
    "ExecuteTime": {
     "end_time": "2024-04-08T00:16:53.986703Z",
     "start_time": "2024-04-08T00:16:53.982476Z"
    }
   },
   "outputs": [],
   "source": [
    "# 이상치 처리 1\n",
    "idx = train[(train['Income'] >= 5000) & (train['Income'] < 10000) & (train['Income_Status'] == 'Under Median')].index\n",
    "train.drop(idx, axis=0, inplace=True)"
   ]
  },
  {
   "cell_type": "code",
   "execution_count": 48,
   "id": "6f4e5b6e",
   "metadata": {
    "ExecuteTime": {
     "end_time": "2024-04-08T00:16:54.711082Z",
     "start_time": "2024-04-08T00:16:54.704056Z"
    }
   },
   "outputs": [],
   "source": [
    "# 이상치 처리 2\n",
    "train.loc[(train['Gains'] == 99999), 'Gains'] = 0"
   ]
  },
  {
   "cell_type": "code",
   "execution_count": 49,
   "id": "25d515c1",
   "metadata": {
    "ExecuteTime": {
     "end_time": "2024-04-08T00:16:55.124870Z",
     "start_time": "2024-04-08T00:16:55.101382Z"
    }
   },
   "outputs": [
    {
     "data": {
      "text/html": [
       "<div>\n",
       "<style scoped>\n",
       "    .dataframe tbody tr th:only-of-type {\n",
       "        vertical-align: middle;\n",
       "    }\n",
       "\n",
       "    .dataframe tbody tr th {\n",
       "        vertical-align: top;\n",
       "    }\n",
       "\n",
       "    .dataframe thead th {\n",
       "        text-align: right;\n",
       "    }\n",
       "</style>\n",
       "<table border=\"1\" class=\"dataframe\">\n",
       "  <thead>\n",
       "    <tr style=\"text-align: right;\">\n",
       "      <th></th>\n",
       "      <th>Age</th>\n",
       "      <th>Gender</th>\n",
       "      <th>Education_Status</th>\n",
       "      <th>Employment_Status</th>\n",
       "      <th>Working_Week (Yearly)</th>\n",
       "      <th>Industry_Status</th>\n",
       "      <th>Occupation_Status</th>\n",
       "      <th>Race</th>\n",
       "      <th>Hispanic_Origin</th>\n",
       "      <th>Martial_Status</th>\n",
       "      <th>...</th>\n",
       "      <th>Citizenship</th>\n",
       "      <th>Birth_Country</th>\n",
       "      <th>Birth_Country (Father)</th>\n",
       "      <th>Birth_Country (Mother)</th>\n",
       "      <th>Tax_Status</th>\n",
       "      <th>Gains</th>\n",
       "      <th>Losses</th>\n",
       "      <th>Dividends</th>\n",
       "      <th>Income_Status</th>\n",
       "      <th>Income</th>\n",
       "    </tr>\n",
       "    <tr>\n",
       "      <th>ID</th>\n",
       "      <th></th>\n",
       "      <th></th>\n",
       "      <th></th>\n",
       "      <th></th>\n",
       "      <th></th>\n",
       "      <th></th>\n",
       "      <th></th>\n",
       "      <th></th>\n",
       "      <th></th>\n",
       "      <th></th>\n",
       "      <th></th>\n",
       "      <th></th>\n",
       "      <th></th>\n",
       "      <th></th>\n",
       "      <th></th>\n",
       "      <th></th>\n",
       "      <th></th>\n",
       "      <th></th>\n",
       "      <th></th>\n",
       "      <th></th>\n",
       "      <th></th>\n",
       "    </tr>\n",
       "  </thead>\n",
       "  <tbody>\n",
       "    <tr>\n",
       "      <th>TRAIN_02008</th>\n",
       "      <td>46</td>\n",
       "      <td>M</td>\n",
       "      <td>Doctorate degree</td>\n",
       "      <td>Children or Armed Forces</td>\n",
       "      <td>52</td>\n",
       "      <td>Other professional services</td>\n",
       "      <td>Professional</td>\n",
       "      <td>White</td>\n",
       "      <td>All other</td>\n",
       "      <td>Single</td>\n",
       "      <td>...</td>\n",
       "      <td>Native</td>\n",
       "      <td>US</td>\n",
       "      <td>US</td>\n",
       "      <td>US</td>\n",
       "      <td>Single</td>\n",
       "      <td>0</td>\n",
       "      <td>0</td>\n",
       "      <td>0</td>\n",
       "      <td>Over Median</td>\n",
       "      <td>9999</td>\n",
       "    </tr>\n",
       "    <tr>\n",
       "      <th>TRAIN_14222</th>\n",
       "      <td>19</td>\n",
       "      <td>M</td>\n",
       "      <td>Middle (7-8)</td>\n",
       "      <td>Children or Armed Forces</td>\n",
       "      <td>34</td>\n",
       "      <td>Retail</td>\n",
       "      <td>Services</td>\n",
       "      <td>White</td>\n",
       "      <td>All other</td>\n",
       "      <td>Single</td>\n",
       "      <td>...</td>\n",
       "      <td>Native</td>\n",
       "      <td>US</td>\n",
       "      <td>US</td>\n",
       "      <td>US</td>\n",
       "      <td>Single</td>\n",
       "      <td>0</td>\n",
       "      <td>0</td>\n",
       "      <td>0</td>\n",
       "      <td>Unknown</td>\n",
       "      <td>8000</td>\n",
       "    </tr>\n",
       "    <tr>\n",
       "      <th>TRAIN_19030</th>\n",
       "      <td>60</td>\n",
       "      <td>F</td>\n",
       "      <td>High graduate</td>\n",
       "      <td>Full-Time</td>\n",
       "      <td>18</td>\n",
       "      <td>Entertainment</td>\n",
       "      <td>Services</td>\n",
       "      <td>White</td>\n",
       "      <td>All other</td>\n",
       "      <td>Widowed</td>\n",
       "      <td>...</td>\n",
       "      <td>Native</td>\n",
       "      <td>US</td>\n",
       "      <td>US</td>\n",
       "      <td>US</td>\n",
       "      <td>Single</td>\n",
       "      <td>0</td>\n",
       "      <td>0</td>\n",
       "      <td>1920</td>\n",
       "      <td>Unknown</td>\n",
       "      <td>9400</td>\n",
       "    </tr>\n",
       "  </tbody>\n",
       "</table>\n",
       "<p>3 rows × 22 columns</p>\n",
       "</div>"
      ],
      "text/plain": [
       "             Age Gender  Education_Status         Employment_Status  \\\n",
       "ID                                                                    \n",
       "TRAIN_02008   46      M  Doctorate degree  Children or Armed Forces   \n",
       "TRAIN_14222   19      M      Middle (7-8)  Children or Armed Forces   \n",
       "TRAIN_19030   60      F     High graduate                 Full-Time   \n",
       "\n",
       "             Working_Week (Yearly)              Industry_Status  \\\n",
       "ID                                                                \n",
       "TRAIN_02008                     52  Other professional services   \n",
       "TRAIN_14222                     34                       Retail   \n",
       "TRAIN_19030                     18                Entertainment   \n",
       "\n",
       "            Occupation_Status   Race Hispanic_Origin Martial_Status  ...  \\\n",
       "ID                                                                   ...   \n",
       "TRAIN_02008      Professional  White       All other         Single  ...   \n",
       "TRAIN_14222          Services  White       All other         Single  ...   \n",
       "TRAIN_19030          Services  White       All other        Widowed  ...   \n",
       "\n",
       "            Citizenship Birth_Country Birth_Country (Father)  \\\n",
       "ID                                                             \n",
       "TRAIN_02008      Native            US                     US   \n",
       "TRAIN_14222      Native            US                     US   \n",
       "TRAIN_19030      Native            US                     US   \n",
       "\n",
       "            Birth_Country (Mother) Tax_Status Gains Losses  Dividends  \\\n",
       "ID                                                                      \n",
       "TRAIN_02008                     US     Single     0      0          0   \n",
       "TRAIN_14222                     US     Single     0      0          0   \n",
       "TRAIN_19030                     US     Single     0      0       1920   \n",
       "\n",
       "             Income_Status  Income  \n",
       "ID                                  \n",
       "TRAIN_02008    Over Median    9999  \n",
       "TRAIN_14222        Unknown    8000  \n",
       "TRAIN_19030        Unknown    9400  \n",
       "\n",
       "[3 rows x 22 columns]"
      ]
     },
     "execution_count": 49,
     "metadata": {},
     "output_type": "execute_result"
    }
   ],
   "source": [
    "# 이상치 처리 3\n",
    "train[(train['Income'] > 7900)]\n",
    "ov_idx = train[(train['Income'] > 7900)].index\n",
    "train.drop(ov_idx, axis=0, inplace=True)"
   ]
  },
  {
   "cell_type": "markdown",
   "id": "73963f28",
   "metadata": {},
   "source": [
    "### 파생변수 생성\n",
    "- 이민자 여부 (아버지를 중점으로)\n",
    "- 투자와 관련된 값들이 이상치가 너무 높아 간단한 수학 공식을 적용해보았습니다.\n",
    "$$df['Total Income indicator'] = \\frac{df['Total Income indicator']}{||df['Tatal Income indicator']||_2}$$"
   ]
  },
  {
   "cell_type": "code",
   "execution_count": 52,
   "id": "04edaa3d",
   "metadata": {
    "ExecuteTime": {
     "end_time": "2024-04-08T00:16:56.240291Z",
     "start_time": "2024-04-08T00:16:56.198455Z"
    }
   },
   "outputs": [
    {
     "data": {
      "text/html": [
       "<div>\n",
       "<style scoped>\n",
       "    .dataframe tbody tr th:only-of-type {\n",
       "        vertical-align: middle;\n",
       "    }\n",
       "\n",
       "    .dataframe tbody tr th {\n",
       "        vertical-align: top;\n",
       "    }\n",
       "\n",
       "    .dataframe thead th {\n",
       "        text-align: right;\n",
       "    }\n",
       "</style>\n",
       "<table border=\"1\" class=\"dataframe\">\n",
       "  <thead>\n",
       "    <tr style=\"text-align: right;\">\n",
       "      <th></th>\n",
       "      <th>Age</th>\n",
       "      <th>Gender</th>\n",
       "      <th>Education_Status</th>\n",
       "      <th>Employment_Status</th>\n",
       "      <th>Working_Week (Yearly)</th>\n",
       "      <th>Industry_Status</th>\n",
       "      <th>Occupation_Status</th>\n",
       "      <th>Race</th>\n",
       "      <th>Hispanic_Origin</th>\n",
       "      <th>Martial_Status</th>\n",
       "      <th>...</th>\n",
       "      <th>Birth_Country</th>\n",
       "      <th>Birth_Country (Father)</th>\n",
       "      <th>Birth_Country (Mother)</th>\n",
       "      <th>Tax_Status</th>\n",
       "      <th>Gains</th>\n",
       "      <th>Losses</th>\n",
       "      <th>Dividends</th>\n",
       "      <th>Income_Status</th>\n",
       "      <th>Immigrant_Background</th>\n",
       "      <th>Total Income indicator</th>\n",
       "    </tr>\n",
       "    <tr>\n",
       "      <th>ID</th>\n",
       "      <th></th>\n",
       "      <th></th>\n",
       "      <th></th>\n",
       "      <th></th>\n",
       "      <th></th>\n",
       "      <th></th>\n",
       "      <th></th>\n",
       "      <th></th>\n",
       "      <th></th>\n",
       "      <th></th>\n",
       "      <th></th>\n",
       "      <th></th>\n",
       "      <th></th>\n",
       "      <th></th>\n",
       "      <th></th>\n",
       "      <th></th>\n",
       "      <th></th>\n",
       "      <th></th>\n",
       "      <th></th>\n",
       "      <th></th>\n",
       "      <th></th>\n",
       "    </tr>\n",
       "  </thead>\n",
       "  <tbody>\n",
       "    <tr>\n",
       "      <th>TEST_0000</th>\n",
       "      <td>79</td>\n",
       "      <td>M</td>\n",
       "      <td>High Junior</td>\n",
       "      <td>Children or Armed Forces</td>\n",
       "      <td>0</td>\n",
       "      <td>Not in universe or children</td>\n",
       "      <td>Unknown</td>\n",
       "      <td>White</td>\n",
       "      <td>All other</td>\n",
       "      <td>Single</td>\n",
       "      <td>...</td>\n",
       "      <td>US</td>\n",
       "      <td>Unknown</td>\n",
       "      <td>Unknown</td>\n",
       "      <td>Single</td>\n",
       "      <td>0</td>\n",
       "      <td>0</td>\n",
       "      <td>0</td>\n",
       "      <td>Under Median</td>\n",
       "      <td>Immigrant</td>\n",
       "      <td>0.0</td>\n",
       "    </tr>\n",
       "    <tr>\n",
       "      <th>TEST_0001</th>\n",
       "      <td>47</td>\n",
       "      <td>M</td>\n",
       "      <td>Elementary (5-6)</td>\n",
       "      <td>Children or Armed Forces</td>\n",
       "      <td>0</td>\n",
       "      <td>Not in universe or children</td>\n",
       "      <td>Unknown</td>\n",
       "      <td>White</td>\n",
       "      <td>Other Spanish</td>\n",
       "      <td>Single</td>\n",
       "      <td>...</td>\n",
       "      <td>US</td>\n",
       "      <td>US</td>\n",
       "      <td>US</td>\n",
       "      <td>Nonfiler</td>\n",
       "      <td>0</td>\n",
       "      <td>0</td>\n",
       "      <td>0</td>\n",
       "      <td>Under Median</td>\n",
       "      <td>Native</td>\n",
       "      <td>0.0</td>\n",
       "    </tr>\n",
       "    <tr>\n",
       "      <th>TEST_0002</th>\n",
       "      <td>18</td>\n",
       "      <td>F</td>\n",
       "      <td>High Junior</td>\n",
       "      <td>Children or Armed Forces</td>\n",
       "      <td>52</td>\n",
       "      <td>Retail</td>\n",
       "      <td>Services</td>\n",
       "      <td>White</td>\n",
       "      <td>All other</td>\n",
       "      <td>Single</td>\n",
       "      <td>...</td>\n",
       "      <td>US</td>\n",
       "      <td>US</td>\n",
       "      <td>US</td>\n",
       "      <td>Single</td>\n",
       "      <td>0</td>\n",
       "      <td>0</td>\n",
       "      <td>0</td>\n",
       "      <td>Under Median</td>\n",
       "      <td>Native</td>\n",
       "      <td>0.0</td>\n",
       "    </tr>\n",
       "    <tr>\n",
       "      <th>TEST_0003</th>\n",
       "      <td>39</td>\n",
       "      <td>F</td>\n",
       "      <td>Associates degree (Vocational)</td>\n",
       "      <td>Full-Time</td>\n",
       "      <td>30</td>\n",
       "      <td>Medical (except Hospitals)</td>\n",
       "      <td>Services</td>\n",
       "      <td>White</td>\n",
       "      <td>All other</td>\n",
       "      <td>Married</td>\n",
       "      <td>...</td>\n",
       "      <td>US</td>\n",
       "      <td>US</td>\n",
       "      <td>US</td>\n",
       "      <td>Married Filling Jointly both under 65 (MFJ)</td>\n",
       "      <td>0</td>\n",
       "      <td>0</td>\n",
       "      <td>0</td>\n",
       "      <td>Unknown</td>\n",
       "      <td>Native</td>\n",
       "      <td>0.0</td>\n",
       "    </tr>\n",
       "    <tr>\n",
       "      <th>TEST_0004</th>\n",
       "      <td>6</td>\n",
       "      <td>M</td>\n",
       "      <td>Children</td>\n",
       "      <td>Children or Armed Forces</td>\n",
       "      <td>0</td>\n",
       "      <td>Not in universe or children</td>\n",
       "      <td>Unknown</td>\n",
       "      <td>White</td>\n",
       "      <td>Mexican-American</td>\n",
       "      <td>Single</td>\n",
       "      <td>...</td>\n",
       "      <td>US</td>\n",
       "      <td>US</td>\n",
       "      <td>US</td>\n",
       "      <td>Nonfiler</td>\n",
       "      <td>0</td>\n",
       "      <td>0</td>\n",
       "      <td>0</td>\n",
       "      <td>Unknown</td>\n",
       "      <td>Native</td>\n",
       "      <td>0.0</td>\n",
       "    </tr>\n",
       "    <tr>\n",
       "      <th>...</th>\n",
       "      <td>...</td>\n",
       "      <td>...</td>\n",
       "      <td>...</td>\n",
       "      <td>...</td>\n",
       "      <td>...</td>\n",
       "      <td>...</td>\n",
       "      <td>...</td>\n",
       "      <td>...</td>\n",
       "      <td>...</td>\n",
       "      <td>...</td>\n",
       "      <td>...</td>\n",
       "      <td>...</td>\n",
       "      <td>...</td>\n",
       "      <td>...</td>\n",
       "      <td>...</td>\n",
       "      <td>...</td>\n",
       "      <td>...</td>\n",
       "      <td>...</td>\n",
       "      <td>...</td>\n",
       "      <td>...</td>\n",
       "      <td>...</td>\n",
       "    </tr>\n",
       "    <tr>\n",
       "      <th>TEST_9995</th>\n",
       "      <td>31</td>\n",
       "      <td>M</td>\n",
       "      <td>Bachelors degree</td>\n",
       "      <td>Children or Armed Forces</td>\n",
       "      <td>52</td>\n",
       "      <td>Other professional services</td>\n",
       "      <td>Technicians &amp; Support</td>\n",
       "      <td>White</td>\n",
       "      <td>All other</td>\n",
       "      <td>Single</td>\n",
       "      <td>...</td>\n",
       "      <td>US</td>\n",
       "      <td>US</td>\n",
       "      <td>US</td>\n",
       "      <td>Single</td>\n",
       "      <td>0</td>\n",
       "      <td>0</td>\n",
       "      <td>0</td>\n",
       "      <td>Under Median</td>\n",
       "      <td>Native</td>\n",
       "      <td>0.0</td>\n",
       "    </tr>\n",
       "    <tr>\n",
       "      <th>TEST_9996</th>\n",
       "      <td>27</td>\n",
       "      <td>M</td>\n",
       "      <td>College</td>\n",
       "      <td>Children or Armed Forces</td>\n",
       "      <td>52</td>\n",
       "      <td>Retail</td>\n",
       "      <td>Handlers/Cleaners</td>\n",
       "      <td>White</td>\n",
       "      <td>All other</td>\n",
       "      <td>Married</td>\n",
       "      <td>...</td>\n",
       "      <td>US</td>\n",
       "      <td>US</td>\n",
       "      <td>US</td>\n",
       "      <td>Married Filling Jointly both under 65 (MFJ)</td>\n",
       "      <td>0</td>\n",
       "      <td>0</td>\n",
       "      <td>0</td>\n",
       "      <td>Under Median</td>\n",
       "      <td>Native</td>\n",
       "      <td>0.0</td>\n",
       "    </tr>\n",
       "    <tr>\n",
       "      <th>TEST_9997</th>\n",
       "      <td>18</td>\n",
       "      <td>M</td>\n",
       "      <td>High graduate</td>\n",
       "      <td>Children or Armed Forces</td>\n",
       "      <td>7</td>\n",
       "      <td>Retail</td>\n",
       "      <td>Services</td>\n",
       "      <td>Black</td>\n",
       "      <td>All other</td>\n",
       "      <td>Single</td>\n",
       "      <td>...</td>\n",
       "      <td>US</td>\n",
       "      <td>US</td>\n",
       "      <td>US</td>\n",
       "      <td>Nonfiler</td>\n",
       "      <td>0</td>\n",
       "      <td>0</td>\n",
       "      <td>0</td>\n",
       "      <td>Under Median</td>\n",
       "      <td>Native</td>\n",
       "      <td>0.0</td>\n",
       "    </tr>\n",
       "    <tr>\n",
       "      <th>TEST_9998</th>\n",
       "      <td>9</td>\n",
       "      <td>M</td>\n",
       "      <td>Children</td>\n",
       "      <td>Children or Armed Forces</td>\n",
       "      <td>0</td>\n",
       "      <td>Not in universe or children</td>\n",
       "      <td>Unknown</td>\n",
       "      <td>White</td>\n",
       "      <td>All other</td>\n",
       "      <td>Single</td>\n",
       "      <td>...</td>\n",
       "      <td>US</td>\n",
       "      <td>US</td>\n",
       "      <td>US</td>\n",
       "      <td>Nonfiler</td>\n",
       "      <td>0</td>\n",
       "      <td>0</td>\n",
       "      <td>0</td>\n",
       "      <td>Under Median</td>\n",
       "      <td>Native</td>\n",
       "      <td>0.0</td>\n",
       "    </tr>\n",
       "    <tr>\n",
       "      <th>TEST_9999</th>\n",
       "      <td>34</td>\n",
       "      <td>M</td>\n",
       "      <td>High graduate</td>\n",
       "      <td>Full-Time</td>\n",
       "      <td>39</td>\n",
       "      <td>Retail</td>\n",
       "      <td>Management</td>\n",
       "      <td>White</td>\n",
       "      <td>All other</td>\n",
       "      <td>Married (Armed Force Spouse)</td>\n",
       "      <td>...</td>\n",
       "      <td>US</td>\n",
       "      <td>US</td>\n",
       "      <td>US</td>\n",
       "      <td>Married Filling Jointly both under 65 (MFJ)</td>\n",
       "      <td>0</td>\n",
       "      <td>0</td>\n",
       "      <td>0</td>\n",
       "      <td>Under Median</td>\n",
       "      <td>Native</td>\n",
       "      <td>0.0</td>\n",
       "    </tr>\n",
       "  </tbody>\n",
       "</table>\n",
       "<p>10000 rows × 23 columns</p>\n",
       "</div>"
      ],
      "text/plain": [
       "           Age Gender                Education_Status  \\\n",
       "ID                                                      \n",
       "TEST_0000   79      M                     High Junior   \n",
       "TEST_0001   47      M                Elementary (5-6)   \n",
       "TEST_0002   18      F                     High Junior   \n",
       "TEST_0003   39      F  Associates degree (Vocational)   \n",
       "TEST_0004    6      M                        Children   \n",
       "...        ...    ...                             ...   \n",
       "TEST_9995   31      M                Bachelors degree   \n",
       "TEST_9996   27      M                         College   \n",
       "TEST_9997   18      M                   High graduate   \n",
       "TEST_9998    9      M                        Children   \n",
       "TEST_9999   34      M                   High graduate   \n",
       "\n",
       "                  Employment_Status  Working_Week (Yearly)  \\\n",
       "ID                                                           \n",
       "TEST_0000  Children or Armed Forces                      0   \n",
       "TEST_0001  Children or Armed Forces                      0   \n",
       "TEST_0002  Children or Armed Forces                     52   \n",
       "TEST_0003                 Full-Time                     30   \n",
       "TEST_0004  Children or Armed Forces                      0   \n",
       "...                             ...                    ...   \n",
       "TEST_9995  Children or Armed Forces                     52   \n",
       "TEST_9996  Children or Armed Forces                     52   \n",
       "TEST_9997  Children or Armed Forces                      7   \n",
       "TEST_9998  Children or Armed Forces                      0   \n",
       "TEST_9999                 Full-Time                     39   \n",
       "\n",
       "                       Industry_Status      Occupation_Status   Race  \\\n",
       "ID                                                                     \n",
       "TEST_0000  Not in universe or children                Unknown  White   \n",
       "TEST_0001  Not in universe or children                Unknown  White   \n",
       "TEST_0002                       Retail               Services  White   \n",
       "TEST_0003   Medical (except Hospitals)               Services  White   \n",
       "TEST_0004  Not in universe or children                Unknown  White   \n",
       "...                                ...                    ...    ...   \n",
       "TEST_9995  Other professional services  Technicians & Support  White   \n",
       "TEST_9996                       Retail      Handlers/Cleaners  White   \n",
       "TEST_9997                       Retail               Services  Black   \n",
       "TEST_9998  Not in universe or children                Unknown  White   \n",
       "TEST_9999                       Retail             Management  White   \n",
       "\n",
       "             Hispanic_Origin                Martial_Status  ... Birth_Country  \\\n",
       "ID                                                          ...                 \n",
       "TEST_0000          All other                        Single  ...            US   \n",
       "TEST_0001      Other Spanish                        Single  ...            US   \n",
       "TEST_0002          All other                        Single  ...            US   \n",
       "TEST_0003          All other                       Married  ...            US   \n",
       "TEST_0004   Mexican-American                        Single  ...            US   \n",
       "...                      ...                           ...  ...           ...   \n",
       "TEST_9995          All other                        Single  ...            US   \n",
       "TEST_9996          All other                       Married  ...            US   \n",
       "TEST_9997          All other                        Single  ...            US   \n",
       "TEST_9998          All other                        Single  ...            US   \n",
       "TEST_9999          All other  Married (Armed Force Spouse)  ...            US   \n",
       "\n",
       "          Birth_Country (Father) Birth_Country (Mother)  \\\n",
       "ID                                                        \n",
       "TEST_0000                Unknown                Unknown   \n",
       "TEST_0001                     US                     US   \n",
       "TEST_0002                     US                     US   \n",
       "TEST_0003                     US                     US   \n",
       "TEST_0004                     US                     US   \n",
       "...                          ...                    ...   \n",
       "TEST_9995                     US                     US   \n",
       "TEST_9996                     US                     US   \n",
       "TEST_9997                     US                     US   \n",
       "TEST_9998                     US                     US   \n",
       "TEST_9999                     US                     US   \n",
       "\n",
       "                                            Tax_Status Gains Losses Dividends  \\\n",
       "ID                                                                              \n",
       "TEST_0000                                       Single     0      0         0   \n",
       "TEST_0001                                     Nonfiler     0      0         0   \n",
       "TEST_0002                                       Single     0      0         0   \n",
       "TEST_0003  Married Filling Jointly both under 65 (MFJ)     0      0         0   \n",
       "TEST_0004                                     Nonfiler     0      0         0   \n",
       "...                                                ...   ...    ...       ...   \n",
       "TEST_9995                                       Single     0      0         0   \n",
       "TEST_9996  Married Filling Jointly both under 65 (MFJ)     0      0         0   \n",
       "TEST_9997                                     Nonfiler     0      0         0   \n",
       "TEST_9998                                     Nonfiler     0      0         0   \n",
       "TEST_9999  Married Filling Jointly both under 65 (MFJ)     0      0         0   \n",
       "\n",
       "           Income_Status  Immigrant_Background  Total Income indicator  \n",
       "ID                                                                      \n",
       "TEST_0000   Under Median             Immigrant                     0.0  \n",
       "TEST_0001   Under Median                Native                     0.0  \n",
       "TEST_0002   Under Median                Native                     0.0  \n",
       "TEST_0003        Unknown                Native                     0.0  \n",
       "TEST_0004        Unknown                Native                     0.0  \n",
       "...                  ...                   ...                     ...  \n",
       "TEST_9995   Under Median                Native                     0.0  \n",
       "TEST_9996   Under Median                Native                     0.0  \n",
       "TEST_9997   Under Median                Native                     0.0  \n",
       "TEST_9998   Under Median                Native                     0.0  \n",
       "TEST_9999   Under Median                Native                     0.0  \n",
       "\n",
       "[10000 rows x 23 columns]"
      ]
     },
     "execution_count": 52,
     "metadata": {},
     "output_type": "execute_result"
    }
   ],
   "source": [
    "# 파생변수 생성\n",
    "def make_derived(df):\n",
    "    \n",
    "#     df['Gains'] = np.log1p(df['Gains'])\n",
    "#     df['Losses'] = np.log1p(df['Losses'])\n",
    "#     df['Dividends'] = np.log1p(df['Dividends'])\n",
    "#     df['Industry_Occupation'] = df['Industry_Status'] + \" - \" + df['Occupation_Status']\n",
    "    \n",
    "    df['Immigrant_Background'] = np.where((df['Birth_Country'] == 'US') &\n",
    "                                        (df['Birth_Country (Father)'] == 'US'), 'Native', 'Immigrant')\n",
    "    \n",
    "    df['Total Income indicator'] = (df['Gains'] - df['Losses'] + df['Dividends'])\n",
    "    df['Total Income indicator'] = (df['Total Income indicator']) / np.sqrt(np.sum(df['Total Income indicator']**2))\n",
    "    \n",
    "    return df\n",
    "\n",
    "make_derived(train)\n",
    "make_derived(test)"
   ]
  },
  {
   "cell_type": "code",
   "execution_count": 53,
   "id": "c148c6ad",
   "metadata": {
    "ExecuteTime": {
     "end_time": "2024-04-08T00:16:56.845295Z",
     "start_time": "2024-04-08T00:16:56.830239Z"
    }
   },
   "outputs": [],
   "source": [
    "# columns drop\n",
    "train = train.drop(['Losses', \n",
    "                    'Birth_Country (Father)', 'Birth_Country (Mother)'], axis=1)\n",
    "test = test.drop(['Losses',\n",
    "                  'Birth_Country (Father)', 'Birth_Country (Mother)'], axis=1)"
   ]
  },
  {
   "cell_type": "code",
   "execution_count": 54,
   "id": "dfcadfbd",
   "metadata": {
    "ExecuteTime": {
     "end_time": "2024-04-08T00:16:57.038175Z",
     "start_time": "2024-04-08T00:16:57.029752Z"
    }
   },
   "outputs": [],
   "source": [
    "# test값의 결측치 채우기\n",
    "test['Household_Status'].fillna(test['Household_Status'].mode()[0], inplace=True)"
   ]
  },
  {
   "cell_type": "code",
   "execution_count": 57,
   "id": "72ae325c",
   "metadata": {
    "ExecuteTime": {
     "end_time": "2024-04-08T00:16:58.094613Z",
     "start_time": "2024-04-08T00:16:57.995168Z"
    }
   },
   "outputs": [],
   "source": [
    "# 라벨 인코딩\n",
    "obj_cols = train.select_dtypes('object').columns.tolist()\n",
    "\n",
    "for i in obj_cols:\n",
    "    le = LabelEncoder()\n",
    "    le = le.fit(train[i])\n",
    "    train[i] = le.transform(train[i])\n",
    "    test[i] = le.transform(test[i])"
   ]
  },
  {
   "cell_type": "code",
   "execution_count": 58,
   "id": "d567191d",
   "metadata": {
    "ExecuteTime": {
     "end_time": "2024-04-08T00:16:58.411638Z",
     "start_time": "2024-04-08T00:16:58.405486Z"
    }
   },
   "outputs": [],
   "source": [
    "# index 초기화\n",
    "train.reset_index(drop=True, inplace=True)\n",
    "test.reset_index(drop=True, inplace=True)"
   ]
  },
  {
   "cell_type": "code",
   "execution_count": 60,
   "id": "709675fc",
   "metadata": {
    "ExecuteTime": {
     "end_time": "2024-04-08T00:17:01.359051Z",
     "start_time": "2024-04-08T00:17:01.336280Z"
    }
   },
   "outputs": [
    {
     "data": {
      "text/plain": [
       "((13974, 20), (5989, 20), (13974,), (5989,))"
      ]
     },
     "execution_count": 60,
     "metadata": {},
     "output_type": "execute_result"
    }
   ],
   "source": [
    "# X와 y 데이터 분리 및 splits train and validation \n",
    "X = train.drop(['Income'], axis=1).copy()\n",
    "y = train['Income'].copy()\n",
    "\n",
    "X_tr, X_val, y_tr, y_val = train_test_split(X, y,\n",
    "                                           test_size=0.3,\n",
    "                                           random_state=42)\n",
    "\n",
    "X_tr.shape, X_val.shape, y_tr.shape, y_val.shape"
   ]
  },
  {
   "cell_type": "code",
   "execution_count": 61,
   "id": "b881b4ba",
   "metadata": {
    "ExecuteTime": {
     "end_time": "2024-04-08T00:17:24.020778Z",
     "start_time": "2024-04-08T00:17:10.236765Z"
    }
   },
   "outputs": [
    {
     "name": "stdout",
     "output_type": "stream",
     "text": [
      "Learning rate set to 0.062107\n",
      "0:\tlearn: 616.6915763\ttotal: 11.6ms\tremaining: 11.6s\n",
      "500:\tlearn: 470.0753246\ttotal: 6.21s\tremaining: 6.18s\n",
      "999:\tlearn: 446.4673582\ttotal: 12.7s\tremaining: 0us\n"
     ]
    }
   ],
   "source": [
    "# 모델 생성\n",
    "cat = CatBoostRegressor(random_state=42,\n",
    "                       verbose=500,\n",
    "                       cat_features=[1, 2, 3, 5, 6, 7, 8 , 9, 10, 11, 12, 13, 14, 17, 18])\n",
    "\n",
    "xgb = XGBRegressor(random_state=42,\n",
    "                  n_jobs=-1)\n",
    "\n",
    "lgb = LGBMRegressor(random_state=42,\n",
    "                   n_jobs=-1)\n",
    "\n",
    "hgb = HistGradientBoostingRegressor(random_state=42,\n",
    "                                   categorical_features=[1, 2, 3, 5, 6, 7, 8 , 9, 10, 11, 12, 13, 14, 17, 18])\n",
    "\n",
    "models = [cat, xgb, lgb, hgb]\n",
    "scores_train = []\n",
    "scores_of_r2_train = []\n",
    "scores_of_r2_test = []\n",
    "for idx, model in enumerate(models):\n",
    "    model.fit(X_tr, y_tr)\n",
    "    y_pred_train = model.predict(X_tr)\n",
    "    y_pred_test = model.predict(X_val)\n",
    "    \n",
    "    train_r2 = r2_score(y_tr, y_pred_train)\n",
    "    test_r2 = r2_score(y_val, y_pred_test)\n",
    "    \n",
    "    scores_of_r2_train.append(train_r2)\n",
    "    scores_of_r2_test.append(test_r2)\n",
    "    \n",
    "    rmse = root_mean_squared_error(y_val, y_pred_test)\n",
    "    scores_train.append(rmse)"
   ]
  },
  {
   "cell_type": "code",
   "execution_count": 62,
   "id": "d0b0e4d1",
   "metadata": {
    "ExecuteTime": {
     "end_time": "2024-04-08T00:17:24.026923Z",
     "start_time": "2024-04-08T00:17:24.023396Z"
    }
   },
   "outputs": [
    {
     "data": {
      "text/plain": [
       "[521.8406270135337, 546.7315444058573, 523.7265908517159, 523.8136108749181]"
      ]
     },
     "execution_count": 62,
     "metadata": {},
     "output_type": "execute_result"
    }
   ],
   "source": [
    "scores_train"
   ]
  },
  {
   "cell_type": "code",
   "execution_count": 63,
   "id": "fcaa8c04",
   "metadata": {
    "ExecuteTime": {
     "end_time": "2024-04-08T00:17:24.037463Z",
     "start_time": "2024-04-08T00:17:24.028678Z"
    }
   },
   "outputs": [
    {
     "data": {
      "text/plain": [
       "[0.4347266502913095,\n",
       " 0.6763155050680278,\n",
       " 0.5046585189457015,\n",
       " 0.4787443972552584]"
      ]
     },
     "execution_count": 63,
     "metadata": {},
     "output_type": "execute_result"
    }
   ],
   "source": [
    "scores_of_r2_train"
   ]
  },
  {
   "cell_type": "code",
   "execution_count": 64,
   "id": "f132077a",
   "metadata": {
    "ExecuteTime": {
     "end_time": "2024-04-08T00:17:24.045179Z",
     "start_time": "2024-04-08T00:17:24.040791Z"
    }
   },
   "outputs": [
    {
     "data": {
      "text/plain": [
       "[0.35347305824915387,\n",
       " 0.29032563759694996,\n",
       " 0.3487914381170726,\n",
       " 0.3485750164458492]"
      ]
     },
     "execution_count": 64,
     "metadata": {},
     "output_type": "execute_result"
    }
   ],
   "source": [
    "scores_of_r2_test"
   ]
  },
  {
   "cell_type": "code",
   "execution_count": 31,
   "id": "27bd90c2",
   "metadata": {
    "ExecuteTime": {
     "end_time": "2024-04-08T00:03:54.651629Z",
     "start_time": "2024-04-08T00:01:23.849049Z"
    }
   },
   "outputs": [
    {
     "data": {
      "text/plain": [
       "513.6378671950822"
      ]
     },
     "execution_count": 31,
     "metadata": {},
     "output_type": "execute_result"
    }
   ],
   "source": [
    "scores = cross_val_score(estimator=cat,\n",
    "                        X=X, y=y,\n",
    "                        scoring='neg_root_mean_squared_error',\n",
    "                        cv=10,\n",
    "                        n_jobs=-1)\n",
    "-scores.mean()"
   ]
  },
  {
   "cell_type": "code",
   "execution_count": 73,
   "id": "42fba52d",
   "metadata": {
    "ExecuteTime": {
     "end_time": "2024-04-08T00:46:06.028649Z",
     "start_time": "2024-04-08T00:33:57.554351Z"
    },
    "scrolled": true
   },
   "outputs": [
    {
     "name": "stderr",
     "output_type": "stream",
     "text": [
      "[I 2024-04-08 09:33:57,560] A new study created in memory with name: no-name-4a9e9d71-8121-466b-a75a-e6c4262e2769\n",
      "[I 2024-04-08 09:34:01,411] Trial 0 finished with value: 556.6532513034022 and parameters: {'learning_rate': 0.0013482665773745053, 'depth': 3, 'subsample': 0.7125148704607959, 'colsample_bylevel': 0.7280138080430265, 'min_data_in_leaf': 36}. Best is trial 0 with value: 556.6532513034022.\n",
      "[I 2024-04-08 09:34:02,494] Trial 1 finished with value: 563.8380034951887 and parameters: {'learning_rate': 0.0020866914513362586, 'depth': 1, 'subsample': 0.4732686468854842, 'colsample_bylevel': 0.3338596696790115, 'min_data_in_leaf': 97}. Best is trial 0 with value: 556.6532513034022.\n",
      "[I 2024-04-08 09:34:03,479] Trial 2 finished with value: 551.3886117493512 and parameters: {'learning_rate': 0.004157997779172462, 'depth': 1, 'subsample': 0.37097587958143363, 'colsample_bylevel': 0.25408588668816223, 'min_data_in_leaf': 9}. Best is trial 2 with value: 551.3886117493512.\n",
      "[I 2024-04-08 09:34:10,398] Trial 3 finished with value: 524.8436546369 and parameters: {'learning_rate': 0.09766800246018616, 'depth': 6, 'subsample': 0.2090346188806661, 'colsample_bylevel': 0.31325701825868435, 'min_data_in_leaf': 61}. Best is trial 3 with value: 524.8436546369.\n",
      "[I 2024-04-08 09:34:38,634] Trial 4 finished with value: 536.5681496257334 and parameters: {'learning_rate': 0.001855996193283498, 'depth': 9, 'subsample': 0.5070450507647366, 'colsample_bylevel': 0.984855063036474, 'min_data_in_leaf': 49}. Best is trial 3 with value: 524.8436546369.\n",
      "[I 2024-04-08 09:34:42,076] Trial 5 finished with value: 525.5714906282179 and parameters: {'learning_rate': 0.046328816650041044, 'depth': 4, 'subsample': 0.19258855801442157, 'colsample_bylevel': 0.21423122741723616, 'min_data_in_leaf': 44}. Best is trial 3 with value: 524.8436546369.\n",
      "[I 2024-04-08 09:34:56,579] Trial 6 finished with value: 523.2842428873595 and parameters: {'learning_rate': 0.02198489402729048, 'depth': 8, 'subsample': 0.07368365432617266, 'colsample_bylevel': 0.5990562286729374, 'min_data_in_leaf': 29}. Best is trial 6 with value: 523.2842428873595.\n",
      "[I 2024-04-08 09:34:57,705] Trial 7 finished with value: 539.7214698198263 and parameters: {'learning_rate': 0.02596726945976157, 'depth': 1, 'subsample': 0.3901253400090019, 'colsample_bylevel': 0.39973087745084784, 'min_data_in_leaf': 28}. Best is trial 6 with value: 523.2842428873595.\n",
      "[I 2024-04-08 09:35:02,306] Trial 8 finished with value: 526.2451990267198 and parameters: {'learning_rate': 0.03310190446514913, 'depth': 3, 'subsample': 0.7826275062657511, 'colsample_bylevel': 0.7377880350306971, 'min_data_in_leaf': 86}. Best is trial 6 with value: 523.2842428873595.\n",
      "[I 2024-04-08 09:35:03,682] Trial 9 finished with value: 537.6431104495854 and parameters: {'learning_rate': 0.07203256489170015, 'depth': 1, 'subsample': 0.9680873119011572, 'colsample_bylevel': 0.7226219381239725, 'min_data_in_leaf': 25}. Best is trial 6 with value: 523.2842428873595.\n",
      "[I 2024-04-08 09:35:07,568] Trial 10 finished with value: 528.0311757603356 and parameters: {'learning_rate': 0.011211982600599234, 'depth': 10, 'subsample': 0.05185773044946204, 'colsample_bylevel': 0.05367693566012266, 'min_data_in_leaf': 2}. Best is trial 6 with value: 523.2842428873595.\n",
      "[I 2024-04-08 09:35:16,790] Trial 11 finished with value: 526.0575861597983 and parameters: {'learning_rate': 0.09474526154729596, 'depth': 7, 'subsample': 0.0594057301946011, 'colsample_bylevel': 0.5210287995532761, 'min_data_in_leaf': 70}. Best is trial 6 with value: 523.2842428873595.\n",
      "[I 2024-04-08 09:35:26,349] Trial 12 finished with value: 525.0479685455077 and parameters: {'learning_rate': 0.010556246122378106, 'depth': 7, 'subsample': 0.21250247711437592, 'colsample_bylevel': 0.5697761437003027, 'min_data_in_leaf': 65}. Best is trial 6 with value: 523.2842428873595.\n",
      "[I 2024-04-08 09:35:37,043] Trial 13 finished with value: 523.4014893615849 and parameters: {'learning_rate': 0.018263832054468087, 'depth': 7, 'subsample': 0.23462334733587442, 'colsample_bylevel': 0.5264174395243388, 'min_data_in_leaf': 66}. Best is trial 6 with value: 523.2842428873595.\n",
      "[I 2024-04-08 09:35:52,787] Trial 14 finished with value: 522.6859599190345 and parameters: {'learning_rate': 0.019191281384784077, 'depth': 8, 'subsample': 0.2905704097638641, 'colsample_bylevel': 0.5667918653536783, 'min_data_in_leaf': 74}. Best is trial 14 with value: 522.6859599190345.\n",
      "[I 2024-04-08 09:36:20,904] Trial 15 finished with value: 524.8787059969487 and parameters: {'learning_rate': 0.00543256774586569, 'depth': 9, 'subsample': 0.31682486471661997, 'colsample_bylevel': 0.9149882685055903, 'min_data_in_leaf': 80}. Best is trial 14 with value: 522.6859599190345.\n",
      "[I 2024-04-08 09:36:38,460] Trial 16 finished with value: 521.7500158479094 and parameters: {'learning_rate': 0.015199767642615821, 'depth': 8, 'subsample': 0.6203434826728125, 'colsample_bylevel': 0.6515171617514137, 'min_data_in_leaf': 19}. Best is trial 16 with value: 521.7500158479094.\n",
      "[I 2024-04-08 09:36:46,387] Trial 17 finished with value: 527.9640260844704 and parameters: {'learning_rate': 0.00610185722695413, 'depth': 5, 'subsample': 0.6523645501294353, 'colsample_bylevel': 0.8392886899042606, 'min_data_in_leaf': 13}. Best is trial 16 with value: 521.7500158479094.\n",
      "[I 2024-04-08 09:37:11,439] Trial 18 finished with value: 521.9497963638387 and parameters: {'learning_rate': 0.013620606260543124, 'depth': 10, 'subsample': 0.6466402329491495, 'colsample_bylevel': 0.4523995874790097, 'min_data_in_leaf': 99}. Best is trial 16 with value: 521.7500158479094.\n",
      "[I 2024-04-08 09:37:33,989] Trial 19 finished with value: 522.5105207969206 and parameters: {'learning_rate': 0.012431296742179696, 'depth': 10, 'subsample': 0.6244680371688648, 'colsample_bylevel': 0.43736893759923096, 'min_data_in_leaf': 100}. Best is trial 16 with value: 521.7500158479094.\n",
      "[I 2024-04-08 09:38:00,237] Trial 20 finished with value: 523.9806320435588 and parameters: {'learning_rate': 0.006812062411752847, 'depth': 9, 'subsample': 0.9158481379771861, 'colsample_bylevel': 0.6733484820409432, 'min_data_in_leaf': 56}. Best is trial 16 with value: 521.7500158479094.\n",
      "[I 2024-04-08 09:38:23,184] Trial 21 finished with value: 522.1112456187755 and parameters: {'learning_rate': 0.013494617575679223, 'depth': 10, 'subsample': 0.6046208654729648, 'colsample_bylevel': 0.44389105178877447, 'min_data_in_leaf': 99}. Best is trial 16 with value: 521.7500158479094.\n",
      "[I 2024-04-08 09:38:48,383] Trial 22 finished with value: 522.2426605871383 and parameters: {'learning_rate': 0.0439627426947689, 'depth': 10, 'subsample': 0.8103665912153357, 'colsample_bylevel': 0.43331880649352134, 'min_data_in_leaf': 86}. Best is trial 16 with value: 521.7500158479094.\n",
      "[I 2024-04-08 09:39:03,366] Trial 23 finished with value: 522.0442515315959 and parameters: {'learning_rate': 0.015236303071943593, 'depth': 8, 'subsample': 0.6248117457427327, 'colsample_bylevel': 0.49203752501856773, 'min_data_in_leaf': 91}. Best is trial 16 with value: 521.7500158479094.\n",
      "[I 2024-04-08 09:39:19,468] Trial 24 finished with value: 524.2111812898454 and parameters: {'learning_rate': 0.008003792833103889, 'depth': 8, 'subsample': 0.5490329337296188, 'colsample_bylevel': 0.6613233012685665, 'min_data_in_leaf': 89}. Best is trial 16 with value: 521.7500158479094.\n",
      "[I 2024-04-08 09:39:30,315] Trial 25 finished with value: 528.7080488481479 and parameters: {'learning_rate': 0.004075567945670954, 'depth': 6, 'subsample': 0.7902306350359869, 'colsample_bylevel': 0.8389150513172617, 'min_data_in_leaf': 77}. Best is trial 16 with value: 521.7500158479094.\n",
      "[I 2024-04-08 09:39:52,285] Trial 26 finished with value: 521.5144331156044 and parameters: {'learning_rate': 0.015625372578230653, 'depth': 9, 'subsample': 0.7070871494556443, 'colsample_bylevel': 0.5002468104715292, 'min_data_in_leaf': 18}. Best is trial 26 with value: 521.5144331156044.\n",
      "[I 2024-04-08 09:40:18,349] Trial 27 finished with value: 521.2643174957802 and parameters: {'learning_rate': 0.02922760380980228, 'depth': 9, 'subsample': 0.8661071583393032, 'colsample_bylevel': 0.6225891285562736, 'min_data_in_leaf': 17}. Best is trial 27 with value: 521.2643174957802.\n"
     ]
    },
    {
     "name": "stderr",
     "output_type": "stream",
     "text": [
      "[I 2024-04-08 09:40:45,223] Trial 28 finished with value: 521.9417767971471 and parameters: {'learning_rate': 0.03102731921565127, 'depth': 9, 'subsample': 0.8713416887816167, 'colsample_bylevel': 0.644970515295714, 'min_data_in_leaf': 18}. Best is trial 27 with value: 521.2643174957802.\n",
      "[I 2024-04-08 09:40:59,227] Trial 29 finished with value: 521.450070030189 and parameters: {'learning_rate': 0.04697063453621651, 'depth': 7, 'subsample': 0.7075336121552419, 'colsample_bylevel': 0.7578293962948665, 'min_data_in_leaf': 37}. Best is trial 27 with value: 521.2643174957802.\n",
      "[I 2024-04-08 09:41:07,993] Trial 30 finished with value: 522.9539888057369 and parameters: {'learning_rate': 0.05119771633160953, 'depth': 5, 'subsample': 0.7364159169986182, 'colsample_bylevel': 0.7806900645367232, 'min_data_in_leaf': 40}. Best is trial 27 with value: 521.2643174957802.\n",
      "[I 2024-04-08 09:41:22,296] Trial 31 finished with value: 521.646532166775 and parameters: {'learning_rate': 0.03506637523904851, 'depth': 7, 'subsample': 0.7179574471638214, 'colsample_bylevel': 0.7973958643272171, 'min_data_in_leaf': 21}. Best is trial 27 with value: 521.2643174957802.\n",
      "[I 2024-04-08 09:41:37,257] Trial 32 finished with value: 523.5402336668761 and parameters: {'learning_rate': 0.06299905508840624, 'depth': 7, 'subsample': 0.7153676884090053, 'colsample_bylevel': 0.843118042709689, 'min_data_in_leaf': 35}. Best is trial 27 with value: 521.2643174957802.\n",
      "[I 2024-04-08 09:41:48,951] Trial 33 finished with value: 521.3189010454175 and parameters: {'learning_rate': 0.037325711158689934, 'depth': 6, 'subsample': 0.8541852546575261, 'colsample_bylevel': 0.7754329041648451, 'min_data_in_leaf': 7}. Best is trial 27 with value: 521.2643174957802.\n",
      "[I 2024-04-08 09:42:01,314] Trial 34 finished with value: 522.134255462084 and parameters: {'learning_rate': 0.0273997285677223, 'depth': 6, 'subsample': 0.8635924357671354, 'colsample_bylevel': 0.9119215317868927, 'min_data_in_leaf': 1}. Best is trial 27 with value: 521.2643174957802.\n",
      "[I 2024-04-08 09:42:10,281] Trial 35 finished with value: 522.4236194633602 and parameters: {'learning_rate': 0.03885417580241943, 'depth': 5, 'subsample': 0.9234484044329873, 'colsample_bylevel': 0.7275140791964078, 'min_data_in_leaf': 9}. Best is trial 27 with value: 521.2643174957802.\n",
      "[I 2024-04-08 09:42:15,144] Trial 36 finished with value: 522.7001353069758 and parameters: {'learning_rate': 0.059766755204090374, 'depth': 4, 'subsample': 0.9904376559865453, 'colsample_bylevel': 0.3390262238882016, 'min_data_in_leaf': 34}. Best is trial 27 with value: 521.2643174957802.\n",
      "[I 2024-04-08 09:42:47,293] Trial 37 finished with value: 521.6784400192793 and parameters: {'learning_rate': 0.02282782914074104, 'depth': 9, 'subsample': 0.8373440680192001, 'colsample_bylevel': 0.9988779250375941, 'min_data_in_leaf': 9}. Best is trial 27 with value: 521.2643174957802.\n",
      "[I 2024-04-08 09:42:57,721] Trial 38 finished with value: 523.7540668234927 and parameters: {'learning_rate': 0.07930291111401122, 'depth': 6, 'subsample': 0.7561444203043148, 'colsample_bylevel': 0.6039769059235737, 'min_data_in_leaf': 15}. Best is trial 27 with value: 521.2643174957802.\n",
      "[I 2024-04-08 09:43:03,948] Trial 39 finished with value: 523.4369831901396 and parameters: {'learning_rate': 0.04835174274268279, 'depth': 4, 'subsample': 0.4785602444707019, 'colsample_bylevel': 0.9240799942125205, 'min_data_in_leaf': 47}. Best is trial 27 with value: 521.2643174957802.\n",
      "[I 2024-04-08 09:43:30,974] Trial 40 finished with value: 521.1519316914816 and parameters: {'learning_rate': 0.02621011765978454, 'depth': 9, 'subsample': 0.5535156633171971, 'colsample_bylevel': 0.7743742347015513, 'min_data_in_leaf': 25}. Best is trial 40 with value: 521.1519316914816.\n",
      "[I 2024-04-08 09:43:53,082] Trial 41 finished with value: 548.9866987894926 and parameters: {'learning_rate': 0.0012255686832948899, 'depth': 9, 'subsample': 0.5584733366514726, 'colsample_bylevel': 0.7774071747811165, 'min_data_in_leaf': 29}. Best is trial 40 with value: 521.1519316914816.\n",
      "[I 2024-04-08 09:44:11,508] Trial 42 finished with value: 521.5736318188495 and parameters: {'learning_rate': 0.026391189286097818, 'depth': 8, 'subsample': 0.6867146595666933, 'colsample_bylevel': 0.7023970171320122, 'min_data_in_leaf': 6}. Best is trial 40 with value: 521.1519316914816.\n",
      "[I 2024-04-08 09:44:38,161] Trial 43 finished with value: 521.5993876667943 and parameters: {'learning_rate': 0.03747976353980466, 'depth': 9, 'subsample': 0.9308008621690775, 'colsample_bylevel': 0.6147513941550659, 'min_data_in_leaf': 27}. Best is trial 40 with value: 521.1519316914816.\n",
      "[I 2024-04-08 09:44:55,386] Trial 44 finished with value: 522.1245040489279 and parameters: {'learning_rate': 0.01957677438519607, 'depth': 8, 'subsample': 0.43562437829740197, 'colsample_bylevel': 0.7718111817971532, 'min_data_in_leaf': 22}. Best is trial 40 with value: 521.1519316914816.\n",
      "[I 2024-04-08 09:45:09,984] Trial 45 finished with value: 522.0591019489261 and parameters: {'learning_rate': 0.029466495584702376, 'depth': 7, 'subsample': 0.6864781706350827, 'colsample_bylevel': 0.8714702531997705, 'min_data_in_leaf': 40}. Best is trial 40 with value: 521.1519316914816.\n",
      "[I 2024-04-08 09:45:11,610] Trial 46 finished with value: 532.4836367850097 and parameters: {'learning_rate': 0.022817064496776545, 'depth': 2, 'subsample': 0.8764243242109387, 'colsample_bylevel': 0.16300334630656632, 'min_data_in_leaf': 12}. Best is trial 40 with value: 521.1519316914816.\n",
      "[I 2024-04-08 09:45:22,596] Trial 47 finished with value: 522.7541949066803 and parameters: {'learning_rate': 0.060984775558702534, 'depth': 6, 'subsample': 0.7644997924897214, 'colsample_bylevel': 0.700048105783767, 'min_data_in_leaf': 24}. Best is trial 40 with value: 521.1519316914816.\n",
      "[I 2024-04-08 09:45:50,790] Trial 48 finished with value: 521.867076857936 and parameters: {'learning_rate': 0.017036831432755282, 'depth': 9, 'subsample': 0.8134087516242945, 'colsample_bylevel': 0.7494598918499991, 'min_data_in_leaf': 34}. Best is trial 40 with value: 521.1519316914816.\n",
      "[I 2024-04-08 09:46:06,026] Trial 49 finished with value: 524.1177234401622 and parameters: {'learning_rate': 0.00863983818898477, 'depth': 8, 'subsample': 0.5099682333325337, 'colsample_bylevel': 0.5374270820413282, 'min_data_in_leaf': 5}. Best is trial 40 with value: 521.1519316914816.\n"
     ]
    },
    {
     "name": "stdout",
     "output_type": "stream",
     "text": [
      "Best hyperparameters: {'learning_rate': 0.02621011765978454, 'depth': 9, 'subsample': 0.5535156633171971, 'colsample_bylevel': 0.7743742347015513, 'min_data_in_leaf': 25}\n",
      "Best RMSE: 521.1519316914816\n"
     ]
    }
   ],
   "source": [
    "def cat_objective(trial):\n",
    "    param = {\n",
    "        \"iterations\": 1000,\n",
    "        \"learning_rate\": trial.suggest_float(\"learning_rate\", 1e-3, 0.1, log=True),\n",
    "        \"depth\": trial.suggest_int(\"depth\", 1, 10),\n",
    "        \"subsample\": trial.suggest_float(\"subsample\", 0.05, 1.0),\n",
    "         \"colsample_bylevel\": trial.suggest_float(\"colsample_bylevel\", 0.05, 1.0),\n",
    "        \"min_data_in_leaf\": trial.suggest_int(\"min_data_in_leaf\", 1, 100),\n",
    "    }\n",
    "#     param = {\n",
    "#         'loss_function': 'RMSE',\n",
    "#         'task_type': 'GPU',\n",
    "#         'l2_leaf_reg': trial.suggest_loguniform('l2_leaf_reg', 1e-3, 10.0),\n",
    "#         'max_bin': trial.suggest_int('max_bin', 200, 400),\n",
    "#         'subsample': trial.suggest_uniform('bagging_fraction', 0.4, 1.0),\n",
    "#         'learning_rate': trial.suggest_uniform('learning_rate', 0.006, 0.018),\n",
    "#         'n_estimators':  1000,\n",
    "#         'max_depth': trial.suggest_categorical('max_depth', [5,7,9,11,13,15]),\n",
    "#         'colsample_bylevel': trial.suggest_float(\"colsample_bylevel\", 0.05, 1.0),\n",
    "#         'min_data_in_leaf': trial.suggest_int('min_data_in_leaf', 1, 300),\n",
    "#     }\n",
    "    \n",
    "    model = CatBoostRegressor(**param,\n",
    "                            verbose=0,\n",
    "                            cat_features=[1, 2, 3, 5, 6, 7, 8 , 9, 10, 11, 12, 13, 14, 17, 18])\n",
    "    model.fit(X_tr, y_tr)\n",
    "    y_pred = model.predict(X_val)\n",
    "    rmse = root_mean_squared_error(y_val, y_pred)\n",
    "    return rmse\n",
    "\n",
    "study = optuna.create_study(direction='minimize')\n",
    "study.optimize(cat_objective, n_trials=50)\n",
    "print(f\"Best hyperparameters: {study.best_params}\")\n",
    "print(f\"Best RMSE: {study.best_value}\")\n",
    "cat_best_params = study.best_params"
   ]
  },
  {
   "cell_type": "code",
   "execution_count": 71,
   "id": "7a960d6e",
   "metadata": {
    "ExecuteTime": {
     "end_time": "2024-04-08T00:26:50.156767Z",
     "start_time": "2024-04-08T00:21:16.224639Z"
    },
    "scrolled": true
   },
   "outputs": [
    {
     "name": "stderr",
     "output_type": "stream",
     "text": [
      "[I 2024-04-08 09:21:16,238] A new study created in memory with name: no-name-37d38604-14ba-409b-a2b4-57d3d653c234\n",
      "[I 2024-04-08 09:21:16,455] Trial 0 finished with value: 553.447235508272 and parameters: {'objective': 'reg:squarederror', 'tree_method': 'approx', 'n_estimators': 305, 'learning_rate': 0.747254157190949, 'colsample_bytree': 0.8217699620915389, 'max_depth': 15, 'max_leaves': 15, 'reg_alpha': 0.021454036016571112, 'reg_lambda': 0.7765416042907257, 'subsample': 0.9818900562591096, 'gamma': 0.7109529294643611, 'min_child_weight': 3.5513774440406367, 'colsample_bylevel': 0.08911773755118217, 'colsample_bynode': 0.7493532753784731}. Best is trial 0 with value: 553.447235508272.\n",
      "[I 2024-04-08 09:21:17,482] Trial 1 finished with value: 540.2887866913426 and parameters: {'objective': 'reg:pseudohubererror', 'tree_method': 'exact', 'n_estimators': 399, 'learning_rate': 0.622162226336311, 'colsample_bytree': 0.30935775254436004, 'max_depth': 19, 'max_leaves': 20, 'reg_alpha': 0.6271831895106273, 'reg_lambda': 0.955033891700291, 'subsample': 0.3285853145446779, 'gamma': 0.23116367991380607, 'min_child_weight': 2.329235806262202, 'colsample_bylevel': 0.5423542596389421, 'colsample_bynode': 0.9935771774207178}. Best is trial 1 with value: 540.2887866913426.\n",
      "[I 2024-04-08 09:21:19,706] Trial 2 finished with value: 542.1512855051875 and parameters: {'objective': 'reg:pseudohubererror', 'tree_method': 'approx', 'n_estimators': 475, 'learning_rate': 0.5831066577750409, 'colsample_bytree': 0.9424648912716643, 'max_depth': 16, 'max_leaves': 19, 'reg_alpha': 0.6528516381138311, 'reg_lambda': 0.44154175355938435, 'subsample': 0.6600791595096167, 'gamma': 0.18831717974105852, 'min_child_weight': 5.512213641478864, 'colsample_bylevel': 0.926497606108592, 'colsample_bynode': 0.4826481907244709}. Best is trial 1 with value: 540.2887866913426.\n",
      "[I 2024-04-08 09:21:19,865] Trial 3 finished with value: 837.4659289362473 and parameters: {'objective': 'reg:pseudohubererror', 'tree_method': 'auto', 'n_estimators': 350, 'learning_rate': 0.793258742594874, 'colsample_bytree': 0.6303367025989189, 'max_depth': 19, 'max_leaves': 5, 'reg_alpha': 0.6801081041902154, 'reg_lambda': 0.9410060861025032, 'subsample': 0.7430390118342385, 'gamma': 0.25985624019447723, 'min_child_weight': 9.590509856372595, 'colsample_bylevel': 0.3833368158882941, 'colsample_bynode': 0.6510178707972877}. Best is trial 1 with value: 540.2887866913426.\n",
      "[I 2024-04-08 09:21:21,173] Trial 4 finished with value: 661.8620041439331 and parameters: {'objective': 'reg:quantileerror', 'tree_method': 'exact', 'n_estimators': 385, 'learning_rate': 0.2332854141546625, 'colsample_bytree': 0.18589164969978436, 'max_depth': 15, 'max_leaves': 5, 'reg_alpha': 0.07384303041786042, 'reg_lambda': 0.49554984197088303, 'subsample': 0.8803863788775079, 'gamma': 0.06963282728094998, 'min_child_weight': 8.529205974016925, 'colsample_bylevel': 0.5621249210063112, 'colsample_bynode': 0.06426198099537511, 'quantile_alpha': 0.6665068699550089}. Best is trial 1 with value: 540.2887866913426.\n",
      "[I 2024-04-08 09:21:21,978] Trial 5 finished with value: 570.2938215558761 and parameters: {'objective': 'reg:quantileerror', 'tree_method': 'auto', 'n_estimators': 458, 'learning_rate': 0.9464500342858877, 'colsample_bytree': 0.22741043651512716, 'max_depth': 5, 'max_leaves': 12, 'reg_alpha': 0.6207083300669041, 'reg_lambda': 0.9558774346541146, 'subsample': 0.16997668563659935, 'gamma': 0.8103262480669156, 'min_child_weight': 1.6290336289788756, 'colsample_bylevel': 0.1957070087631021, 'colsample_bynode': 0.4604176883097862, 'quantile_alpha': 0.5687306753731826}. Best is trial 1 with value: 540.2887866913426.\n",
      "[I 2024-04-08 09:21:23,448] Trial 6 finished with value: 797.3862082675292 and parameters: {'objective': 'reg:squaredlogerror', 'tree_method': 'approx', 'n_estimators': 440, 'learning_rate': 0.09951145437704753, 'colsample_bytree': 0.9272356986387834, 'max_depth': 10, 'max_leaves': 5, 'reg_alpha': 0.762015359341564, 'reg_lambda': 0.207490704034679, 'subsample': 0.5539676397665746, 'gamma': 0.9910526698506459, 'min_child_weight': 4.003431244684694, 'colsample_bylevel': 0.8068960201585038, 'colsample_bynode': 0.9858646306615211}. Best is trial 1 with value: 540.2887866913426.\n",
      "[I 2024-04-08 09:21:23,907] Trial 7 finished with value: 538.3966125477459 and parameters: {'objective': 'reg:pseudohubererror', 'tree_method': 'auto', 'n_estimators': 346, 'learning_rate': 0.5919420057093443, 'colsample_bytree': 0.6571908338807009, 'max_depth': 6, 'max_leaves': 18, 'reg_alpha': 0.96351482204151, 'reg_lambda': 0.05025835849421461, 'subsample': 0.7866560262560132, 'gamma': 0.12564629879478084, 'min_child_weight': 2.0219917078209053, 'colsample_bylevel': 0.8073341987376145, 'colsample_bynode': 0.5711947236508739}. Best is trial 7 with value: 538.3966125477459.\n",
      "[I 2024-04-08 09:21:24,098] Trial 8 finished with value: 846.6621008574111 and parameters: {'objective': 'reg:squaredlogerror', 'tree_method': 'auto', 'n_estimators': 346, 'learning_rate': 0.1624818658169984, 'colsample_bytree': 0.20742550289346912, 'max_depth': 19, 'max_leaves': 12, 'reg_alpha': 0.8288307895169353, 'reg_lambda': 0.4240525929140238, 'subsample': 0.9009045101073817, 'gamma': 0.6768881400983627, 'min_child_weight': 1.389010149177359, 'colsample_bylevel': 0.774972982920132, 'colsample_bynode': 0.43263836308741277}. Best is trial 7 with value: 538.3966125477459.\n",
      "[I 2024-04-08 09:21:24,335] Trial 9 finished with value: 763.1619928950792 and parameters: {'objective': 'reg:squaredlogerror', 'tree_method': 'hist', 'n_estimators': 360, 'learning_rate': 0.5073934260361614, 'colsample_bytree': 0.4859466134596001, 'max_depth': 17, 'max_leaves': 13, 'reg_alpha': 0.7320752713934039, 'reg_lambda': 0.5054541243392671, 'subsample': 0.8356519144282439, 'gamma': 0.012790465498842754, 'min_child_weight': 1.1257577584681395, 'colsample_bylevel': 0.6013902466588681, 'colsample_bynode': 0.6626749836914586}. Best is trial 7 with value: 538.3966125477459.\n",
      "[I 2024-04-08 09:21:24,696] Trial 10 finished with value: 540.7207841791144 and parameters: {'objective': 'reg:squarederror', 'tree_method': 'hist', 'n_estimators': 305, 'learning_rate': 0.3571635250700491, 'colsample_bytree': 0.010013339994061399, 'max_depth': 5, 'max_leaves': 17, 'reg_alpha': 0.983080845198315, 'reg_lambda': 0.042676534840544844, 'subsample': 0.3924704393626198, 'gamma': 0.4505892044502664, 'min_child_weight': 6.602531077167062, 'colsample_bylevel': 0.9860317097853508, 'colsample_bynode': 0.22918544978141714}. Best is trial 7 with value: 538.3966125477459.\n",
      "[I 2024-04-08 09:21:25,663] Trial 11 finished with value: 547.961932465664 and parameters: {'objective': 'reg:pseudohubererror', 'tree_method': 'exact', 'n_estimators': 401, 'learning_rate': 0.6461294719121451, 'colsample_bytree': 0.5061372403664716, 'max_depth': 9, 'max_leaves': 20, 'reg_alpha': 0.35038544448532694, 'reg_lambda': 0.7037835706629479, 'subsample': 0.30952276623534986, 'gamma': 0.3651043021477695, 'min_child_weight': 3.297352437644696, 'colsample_bylevel': 0.35292348125365913, 'colsample_bynode': 0.9391277567077907}. Best is trial 7 with value: 538.3966125477459.\n",
      "[I 2024-04-08 09:21:26,127] Trial 12 finished with value: 789.5384470062967 and parameters: {'objective': 'reg:pseudohubererror', 'tree_method': 'exact', 'n_estimators': 416, 'learning_rate': 0.40707537210989675, 'colsample_bytree': 0.6870759907443988, 'max_depth': 11, 'max_leaves': 17, 'reg_alpha': 0.4119578196195055, 'reg_lambda': 0.22120895461049267, 'subsample': 0.0382779357401396, 'gamma': 0.19285709039502505, 'min_child_weight': 2.738444666577226, 'colsample_bylevel': 0.695121822982511, 'colsample_bynode': 0.8241881545255081}. Best is trial 7 with value: 538.3966125477459.\n",
      "[I 2024-04-08 09:21:26,712] Trial 13 finished with value: 743.172445582465 and parameters: {'objective': 'reg:pseudohubererror', 'tree_method': 'exact', 'n_estimators': 375, 'learning_rate': 0.736739087506455, 'colsample_bytree': 0.40180033793913517, 'max_depth': 8, 'max_leaves': 20, 'reg_alpha': 0.9993637023519324, 'reg_lambda': 0.6968079722920781, 'subsample': 0.43063682671253406, 'gamma': 0.34358388186551736, 'min_child_weight': 4.608606600551273, 'colsample_bylevel': 0.38504295415820544, 'colsample_bynode': 0.33664042090253454}. Best is trial 7 with value: 538.3966125477459.\n"
     ]
    },
    {
     "name": "stderr",
     "output_type": "stream",
     "text": [
      "[I 2024-04-08 09:21:26,985] Trial 14 finished with value: 1239.6011606602654 and parameters: {'objective': 'reg:pseudohubererror', 'tree_method': 'auto', 'n_estimators': 423, 'learning_rate': 0.959841376504436, 'colsample_bytree': 0.3526629596602603, 'max_depth': 13, 'max_leaves': 17, 'reg_alpha': 0.21518761265650388, 'reg_lambda': 0.016537786720461273, 'subsample': 0.5834116835018218, 'gamma': 0.5474405910080996, 'min_child_weight': 2.4132931005458373, 'colsample_bylevel': 0.6930873573385657, 'colsample_bynode': 0.625437963744583}. Best is trial 7 with value: 538.3966125477459.\n",
      "[I 2024-04-08 09:21:27,463] Trial 15 finished with value: 666.7817962304199 and parameters: {'objective': 'reg:pseudohubererror', 'tree_method': 'exact', 'n_estimators': 329, 'learning_rate': 0.39663125327602256, 'colsample_bytree': 0.6802430135400563, 'max_depth': 7, 'max_leaves': 8, 'reg_alpha': 0.5100699481091717, 'reg_lambda': 0.2757129877259916, 'subsample': 0.23697658942127303, 'gamma': 0.13467001264290054, 'min_child_weight': 6.3745081169915725, 'colsample_bylevel': 0.5187451560631744, 'colsample_bynode': 0.8470793020049485}. Best is trial 7 with value: 538.3966125477459.\n",
      "[I 2024-04-08 09:21:27,983] Trial 16 finished with value: 547.3985370235611 and parameters: {'objective': 'reg:pseudohubererror', 'tree_method': 'auto', 'n_estimators': 387, 'learning_rate': 0.6163513021386974, 'colsample_bytree': 0.5718677519149371, 'max_depth': 12, 'max_leaves': 15, 'reg_alpha': 0.8762829467190515, 'reg_lambda': 0.8205221529477452, 'subsample': 0.7019279497594393, 'gamma': 0.32414551000369485, 'min_child_weight': 4.8013207747073725, 'colsample_bylevel': 0.8368120250636333, 'colsample_bynode': 0.041716271528262405}. Best is trial 7 with value: 538.3966125477459.\n",
      "[I 2024-04-08 09:21:28,545] Trial 17 finished with value: 2903.402398722866 and parameters: {'objective': 'reg:squarederror', 'tree_method': 'hist', 'n_estimators': 329, 'learning_rate': 0.8422272930926933, 'colsample_bytree': 0.7888903876596963, 'max_depth': 20, 'max_leaves': 18, 'reg_alpha': 0.5334587099154753, 'reg_lambda': 0.5543358226347239, 'subsample': 0.09649877208746926, 'gamma': 0.4964692333797893, 'min_child_weight': 2.5139554015380825, 'colsample_bylevel': 0.2574336756737835, 'colsample_bynode': 0.2113970855780135}. Best is trial 7 with value: 538.3966125477459.\n",
      "[I 2024-04-08 09:21:30,033] Trial 18 finished with value: 856.8472295116493 and parameters: {'objective': 'reg:quantileerror', 'tree_method': 'auto', 'n_estimators': 497, 'learning_rate': 0.5049507215591345, 'colsample_bytree': 0.3436539578685277, 'max_depth': 13, 'max_leaves': 15, 'reg_alpha': 0.8279811883870493, 'reg_lambda': 0.33163787107629883, 'subsample': 0.43595417066744213, 'gamma': 0.11900406003566212, 'min_child_weight': 7.2487344196054995, 'colsample_bylevel': 0.6733606137286292, 'colsample_bynode': 0.5616191391220431, 'quantile_alpha': 0.036408956820674354}. Best is trial 7 with value: 538.3966125477459.\n",
      "[I 2024-04-08 09:21:31,457] Trial 19 finished with value: 544.4637602416027 and parameters: {'objective': 'reg:pseudohubererror', 'tree_method': 'exact', 'n_estimators': 410, 'learning_rate': 0.2767927194796213, 'colsample_bytree': 0.7826469875711292, 'max_depth': 6, 'max_leaves': 20, 'reg_alpha': 0.35848340832041403, 'reg_lambda': 0.6044493453273012, 'subsample': 0.25117534977535233, 'gamma': 0.2564068105796705, 'min_child_weight': 2.219874150784193, 'colsample_bylevel': 0.4486607169705774, 'colsample_bynode': 0.7603074114436527}. Best is trial 7 with value: 538.3966125477459.\n",
      "[I 2024-04-08 09:21:32,083] Trial 20 finished with value: 812.604592393394 and parameters: {'objective': 'reg:pseudohubererror', 'tree_method': 'exact', 'n_estimators': 368, 'learning_rate': 0.4986608040278541, 'colsample_bytree': 0.050487410745810646, 'max_depth': 17, 'max_leaves': 10, 'reg_alpha': 0.57108269432125, 'reg_lambda': 0.10689208905420344, 'subsample': 0.5119623321197254, 'gamma': 0.025804751253231423, 'min_child_weight': 4.128609931472841, 'colsample_bylevel': 0.8972771072665594, 'colsample_bynode': 0.35392726214350523}. Best is trial 7 with value: 538.3966125477459.\n",
      "[I 2024-04-08 09:21:32,558] Trial 21 finished with value: 541.3221933238385 and parameters: {'objective': 'reg:squarederror', 'tree_method': 'hist', 'n_estimators': 306, 'learning_rate': 0.4011257254919956, 'colsample_bytree': 0.016433273021019372, 'max_depth': 5, 'max_leaves': 17, 'reg_alpha': 0.9650877757624231, 'reg_lambda': 0.0243962007102391, 'subsample': 0.3501692650266707, 'gamma': 0.5003869600824019, 'min_child_weight': 7.078854894929969, 'colsample_bylevel': 0.9814285209589982, 'colsample_bynode': 0.201550889494611}. Best is trial 7 with value: 538.3966125477459.\n",
      "[I 2024-04-08 09:21:33,037] Trial 22 finished with value: 538.4841558836669 and parameters: {'objective': 'reg:squarederror', 'tree_method': 'hist', 'n_estimators': 326, 'learning_rate': 0.3212699702495531, 'colsample_bytree': 0.0966324822200901, 'max_depth': 7, 'max_leaves': 18, 'reg_alpha': 0.9096903855341808, 'reg_lambda': 0.16080993112832093, 'subsample': 0.4137858088178793, 'gamma': 0.41644172678831465, 'min_child_weight': 5.588065181098279, 'colsample_bylevel': 0.9591615859696334, 'colsample_bynode': 0.1546039334509354}. Best is trial 7 with value: 538.3966125477459.\n",
      "[I 2024-04-08 09:21:33,492] Trial 23 finished with value: 560.1001631093567 and parameters: {'objective': 'reg:squarederror', 'tree_method': 'hist', 'n_estimators': 331, 'learning_rate': 0.6524524552679428, 'colsample_bytree': 0.11977884164494981, 'max_depth': 8, 'max_leaves': 18, 'reg_alpha': 0.8965197699222366, 'reg_lambda': 0.14432278168105883, 'subsample': 0.622623680673979, 'gamma': 0.4238415965609328, 'min_child_weight': 5.540625159049897, 'colsample_bylevel': 0.8783408519651238, 'colsample_bynode': 0.1335040146633057}. Best is trial 7 with value: 538.3966125477459.\n",
      "[I 2024-04-08 09:21:33,991] Trial 24 finished with value: 550.0992926268444 and parameters: {'objective': 'reg:squarederror', 'tree_method': 'hist', 'n_estimators': 342, 'learning_rate': 0.30117483857677785, 'colsample_bytree': 0.29436113978045964, 'max_depth': 7, 'max_leaves': 14, 'reg_alpha': 0.7695066307869144, 'reg_lambda': 0.3317832414339352, 'subsample': 0.26110575586261076, 'gamma': 0.2692649071549391, 'min_child_weight': 4.9715784768262266, 'colsample_bylevel': 0.7478977771078616, 'colsample_bynode': 0.3813272160781727}. Best is trial 7 with value: 538.3966125477459.\n",
      "[I 2024-04-08 09:21:34,509] Trial 25 finished with value: 595.6843527724877 and parameters: {'objective': 'reg:squarederror', 'tree_method': 'hist', 'n_estimators': 321, 'learning_rate': 0.5778009184144073, 'colsample_bytree': 0.45040739677936587, 'max_depth': 10, 'max_leaves': 19, 'reg_alpha': 0.908712157940542, 'reg_lambda': 0.16308343612306203, 'subsample': 0.4944309037363561, 'gamma': 0.58800498486631, 'min_child_weight': 3.4816639050777742, 'colsample_bylevel': 0.6209548380911959, 'colsample_bynode': 0.5593604456471352}. Best is trial 7 with value: 538.3966125477459.\n",
      "[I 2024-04-08 09:21:36,162] Trial 26 finished with value: 872.7196454731348 and parameters: {'objective': 'reg:quantileerror', 'tree_method': 'auto', 'n_estimators': 432, 'learning_rate': 0.04221650796163273, 'colsample_bytree': 0.11426124154691135, 'max_depth': 7, 'max_leaves': 16, 'reg_alpha': 0.8188235549681258, 'reg_lambda': 0.11210554752316326, 'subsample': 0.8033364953095175, 'gamma': 0.39096029272898447, 'min_child_weight': 1.6121306358938516, 'colsample_bylevel': 0.9964646409911501, 'colsample_bynode': 0.2819718298883717, 'quantile_alpha': 0.9365212913835306}. Best is trial 7 with value: 538.3966125477459.\n",
      "[I 2024-04-08 09:21:37,420] Trial 27 finished with value: 649.6454235914733 and parameters: {'objective': 'reg:pseudohubererror', 'tree_method': 'approx', 'n_estimators': 385, 'learning_rate': 0.4705900498735852, 'colsample_bytree': 0.27037519763580675, 'max_depth': 9, 'max_leaves': 19, 'reg_alpha': 0.42481400402621017, 'reg_lambda': 0.8803132306741082, 'subsample': 0.16529779556816757, 'gamma': 0.18058720481555346, 'min_child_weight': 2.831212701788375, 'colsample_bylevel': 0.8625134559863163, 'colsample_bynode': 0.902250300363604}. Best is trial 7 with value: 538.3966125477459.\n"
     ]
    },
    {
     "name": "stderr",
     "output_type": "stream",
     "text": [
      "[I 2024-04-08 09:21:37,756] Trial 28 finished with value: 811.8329607184778 and parameters: {'objective': 'reg:squaredlogerror', 'tree_method': 'auto', 'n_estimators': 362, 'learning_rate': 0.20553359341068, 'colsample_bytree': 0.15619551779735816, 'max_depth': 14, 'max_leaves': 10, 'reg_alpha': 0.7106731435261551, 'reg_lambda': 0.363271096506255, 'subsample': 0.47648060906284184, 'gamma': 0.29336105865851386, 'min_child_weight': 5.957406191747461, 'colsample_bylevel': 0.7532839671826357, 'colsample_bynode': 0.11604897915866205}. Best is trial 7 with value: 538.3966125477459.\n",
      "[I 2024-04-08 09:21:38,254] Trial 29 finished with value: 553.3532923088767 and parameters: {'objective': 'reg:squarederror', 'tree_method': 'approx', 'n_estimators': 320, 'learning_rate': 0.6692819995073468, 'colsample_bytree': 0.5513300729010807, 'max_depth': 11, 'max_leaves': 16, 'reg_alpha': 0.9232709165704828, 'reg_lambda': 0.6317209481380228, 'subsample': 0.9655702761517395, 'gamma': 0.6049909123406868, 'min_child_weight': 7.540083450994409, 'colsample_bylevel': 0.036777671303032666, 'colsample_bynode': 0.7323047279520354}. Best is trial 7 with value: 538.3966125477459.\n",
      "[I 2024-04-08 09:21:39,507] Trial 30 finished with value: 689.0041830092985 and parameters: {'objective': 'reg:squarederror', 'tree_method': 'exact', 'n_estimators': 300, 'learning_rate': 0.7335381669550622, 'colsample_bytree': 0.8472275981869523, 'max_depth': 6, 'max_leaves': 18, 'reg_alpha': 0.5806725601042837, 'reg_lambda': 0.233391193970503, 'subsample': 0.5496877093621229, 'gamma': 0.10506317071167581, 'min_child_weight': 4.039739614870147, 'colsample_bylevel': 0.4715723785806436, 'colsample_bynode': 0.5394717707245075}. Best is trial 7 with value: 538.3966125477459.\n",
      "[I 2024-04-08 09:21:39,889] Trial 31 finished with value: 540.0294044634659 and parameters: {'objective': 'reg:squarederror', 'tree_method': 'hist', 'n_estimators': 311, 'learning_rate': 0.33368013516069195, 'colsample_bytree': 0.0730615834987739, 'max_depth': 5, 'max_leaves': 16, 'reg_alpha': 0.9998630399758208, 'reg_lambda': 0.057007154018468245, 'subsample': 0.35964497807806367, 'gamma': 0.43983734628256466, 'min_child_weight': 6.552599424757755, 'colsample_bylevel': 0.9296271706832576, 'colsample_bynode': 0.22859255540242107}. Best is trial 7 with value: 538.3966125477459.\n",
      "[I 2024-04-08 09:21:40,298] Trial 32 finished with value: 540.1819945132955 and parameters: {'objective': 'reg:squarederror', 'tree_method': 'hist', 'n_estimators': 316, 'learning_rate': 0.3199977021479023, 'colsample_bytree': 0.07767899192973585, 'max_depth': 6, 'max_leaves': 19, 'reg_alpha': 0.9422237127382497, 'reg_lambda': 0.07692839351258354, 'subsample': 0.3686294485886642, 'gamma': 0.2027797824981033, 'min_child_weight': 7.919485978650762, 'colsample_bylevel': 0.9294503189701815, 'colsample_bynode': 0.26898216038675093}. Best is trial 7 with value: 538.3966125477459.\n",
      "[I 2024-04-08 09:21:40,687] Trial 33 finished with value: 539.6189046792754 and parameters: {'objective': 'reg:squarederror', 'tree_method': 'hist', 'n_estimators': 317, 'learning_rate': 0.33729823265552233, 'colsample_bytree': 0.0749286921126106, 'max_depth': 6, 'max_leaves': 16, 'reg_alpha': 0.9285830388383667, 'reg_lambda': 0.07098201351529523, 'subsample': 0.3461799397410944, 'gamma': 0.4393355530307935, 'min_child_weight': 7.797120414566165, 'colsample_bylevel': 0.9339473528474651, 'colsample_bynode': 0.2867652530780307}. Best is trial 7 with value: 538.3966125477459.\n",
      "[I 2024-04-08 09:21:41,151] Trial 34 finished with value: 549.2544038174465 and parameters: {'objective': 'reg:squarederror', 'tree_method': 'hist', 'n_estimators': 341, 'learning_rate': 0.4462573806076091, 'colsample_bytree': 0.10161521476894848, 'max_depth': 8, 'max_leaves': 15, 'reg_alpha': 0.8582630237302702, 'reg_lambda': 0.16626107442219262, 'subsample': 0.30254694483192207, 'gamma': 0.7511656114299092, 'min_child_weight': 8.637538902184751, 'colsample_bylevel': 0.9380585469858747, 'colsample_bynode': 0.08176601816940503}. Best is trial 7 with value: 538.3966125477459.\n",
      "[I 2024-04-08 09:21:41,580] Trial 35 finished with value: 538.4424468145259 and parameters: {'objective': 'reg:squarederror', 'tree_method': 'hist', 'n_estimators': 312, 'learning_rate': 0.24766466708554238, 'colsample_bytree': 0.17108054918903057, 'max_depth': 6, 'max_leaves': 16, 'reg_alpha': 0.9902074955330948, 'reg_lambda': 0.0773386647516156, 'subsample': 0.4077615440412532, 'gamma': 0.460708048656541, 'min_child_weight': 8.38663032642566, 'colsample_bylevel': 0.8419133807933545, 'colsample_bynode': 0.17172261250423773}. Best is trial 7 with value: 538.3966125477459.\n",
      "[I 2024-04-08 09:21:42,051] Trial 36 finished with value: 538.7230819864194 and parameters: {'objective': 'reg:squarederror', 'tree_method': 'hist', 'n_estimators': 353, 'learning_rate': 0.24209180247826953, 'colsample_bytree': 0.25077899806595894, 'max_depth': 6, 'max_leaves': 14, 'reg_alpha': 0.797577357319325, 'reg_lambda': 0.2676447838841681, 'subsample': 0.44115998792144007, 'gamma': 0.6799800129615134, 'min_child_weight': 9.965297810096596, 'colsample_bylevel': 0.8211134333693382, 'colsample_bynode': 0.15307332678456104}. Best is trial 7 with value: 538.3966125477459.\n",
      "[I 2024-04-08 09:21:42,514] Trial 37 finished with value: 533.6571417959364 and parameters: {'objective': 'reg:squarederror', 'tree_method': 'hist', 'n_estimators': 351, 'learning_rate': 0.14761136375037387, 'colsample_bytree': 0.2368793373960822, 'max_depth': 7, 'max_leaves': 14, 'reg_alpha': 0.7992370904527784, 'reg_lambda': 0.2625510815562936, 'subsample': 0.6611254461625301, 'gamma': 0.8725880106502965, 'min_child_weight': 9.844598836120232, 'colsample_bylevel': 0.8169315858783133, 'colsample_bynode': 0.1545500706545171}. Best is trial 37 with value: 533.6571417959364.\n",
      "[I 2024-04-08 09:21:42,939] Trial 38 finished with value: 531.7070332418538 and parameters: {'objective': 'reg:squarederror', 'tree_method': 'hist', 'n_estimators': 337, 'learning_rate': 0.14805845321570327, 'colsample_bytree': 0.15049132440488105, 'max_depth': 9, 'max_leaves': 13, 'reg_alpha': 0.6834064013650367, 'reg_lambda': 0.18492168464469222, 'subsample': 0.7598635748213337, 'gamma': 0.8704921985927487, 'min_child_weight': 8.934043250932085, 'colsample_bylevel': 0.7978660260203339, 'colsample_bynode': 0.40367269943106854}. Best is trial 38 with value: 531.7070332418538.\n",
      "[I 2024-04-08 09:21:44,072] Trial 39 finished with value: 849.2746579603541 and parameters: {'objective': 'reg:quantileerror', 'tree_method': 'approx', 'n_estimators': 337, 'learning_rate': 0.14455619007686615, 'colsample_bytree': 0.17242600101506944, 'max_depth': 9, 'max_leaves': 11, 'reg_alpha': 0.6881238575976436, 'reg_lambda': 0.40465098179395653, 'subsample': 0.7614669725874941, 'gamma': 0.8852225199952398, 'min_child_weight': 9.223575479430448, 'colsample_bylevel': 0.7830783198140984, 'colsample_bynode': 0.48634866524454545, 'quantile_alpha': 0.02758735411000046}. Best is trial 38 with value: 531.7070332418538.\n",
      "[I 2024-04-08 09:21:44,485] Trial 40 finished with value: 816.5587781560383 and parameters: {'objective': 'reg:squaredlogerror', 'tree_method': 'hist', 'n_estimators': 354, 'learning_rate': 0.0326434485184552, 'colsample_bytree': 0.40285214997196683, 'max_depth': 10, 'max_leaves': 13, 'reg_alpha': 0.6250537082148244, 'reg_lambda': 0.27010998451987894, 'subsample': 0.7305269534729588, 'gamma': 0.9775936370878076, 'min_child_weight': 9.017394016973455, 'colsample_bylevel': 0.640562106453391, 'colsample_bynode': 0.4411719373191667}. Best is trial 38 with value: 531.7070332418538.\n",
      "[I 2024-04-08 09:21:44,958] Trial 41 finished with value: 533.1190495494257 and parameters: {'objective': 'reg:squarederror', 'tree_method': 'hist', 'n_estimators': 373, 'learning_rate': 0.15153814955436953, 'colsample_bytree': 0.21446029243235237, 'max_depth': 7, 'max_leaves': 14, 'reg_alpha': 0.8703089283653056, 'reg_lambda': 0.18757806967009064, 'subsample': 0.6596189724254972, 'gamma': 0.880181470524643, 'min_child_weight': 8.31541980054992, 'colsample_bylevel': 0.8484609891586353, 'colsample_bynode': 0.17367435521361468}. Best is trial 38 with value: 531.7070332418538.\n",
      "[I 2024-04-08 09:21:45,407] Trial 42 finished with value: 532.7225655462696 and parameters: {'objective': 'reg:squarederror', 'tree_method': 'hist', 'n_estimators': 369, 'learning_rate': 0.11952907762778849, 'colsample_bytree': 0.20578045026883968, 'max_depth': 8, 'max_leaves': 14, 'reg_alpha': 0.7447631944018884, 'reg_lambda': 0.10388876798843827, 'subsample': 0.6471354868782884, 'gamma': 0.8641175155750165, 'min_child_weight': 8.268228706217633, 'colsample_bylevel': 0.73186010323378, 'colsample_bynode': 0.017630012464967232}. Best is trial 38 with value: 531.7070332418538.\n"
     ]
    },
    {
     "name": "stderr",
     "output_type": "stream",
     "text": [
      "[I 2024-04-08 09:21:45,870] Trial 43 finished with value: 534.1257036732252 and parameters: {'objective': 'reg:squarederror', 'tree_method': 'hist', 'n_estimators': 375, 'learning_rate': 0.08630543047104627, 'colsample_bytree': 0.22231371542187273, 'max_depth': 8, 'max_leaves': 14, 'reg_alpha': 0.7457452489767609, 'reg_lambda': 0.20143489486980326, 'subsample': 0.654463994127719, 'gamma': 0.8505872184594993, 'min_child_weight': 9.49603520139877, 'colsample_bylevel': 0.5754010439429419, 'colsample_bynode': 0.08569862312562364}. Best is trial 38 with value: 531.7070332418538.\n",
      "[I 2024-04-08 09:21:46,329] Trial 44 finished with value: 532.4532062956295 and parameters: {'objective': 'reg:squarederror', 'tree_method': 'hist', 'n_estimators': 375, 'learning_rate': 0.10412776605959978, 'colsample_bytree': 0.23646572905902474, 'max_depth': 8, 'max_leaves': 14, 'reg_alpha': 0.757747859810748, 'reg_lambda': 0.2009928686131114, 'subsample': 0.6675402757791762, 'gamma': 0.8643456136291309, 'min_child_weight': 9.546888660000064, 'colsample_bylevel': 0.5608669783184951, 'colsample_bynode': 0.07641358617384508}. Best is trial 38 with value: 531.7070332418538.\n",
      "[I 2024-04-08 09:21:46,795] Trial 45 finished with value: 532.5761304012667 and parameters: {'objective': 'reg:squarederror', 'tree_method': 'hist', 'n_estimators': 395, 'learning_rate': 0.15602297902614587, 'colsample_bytree': 0.33330975145539465, 'max_depth': 9, 'max_leaves': 13, 'reg_alpha': 0.6546885381420532, 'reg_lambda': 0.29961111037657456, 'subsample': 0.6935696421850635, 'gamma': 0.9373205737585664, 'min_child_weight': 9.98734941286013, 'colsample_bylevel': 0.7271403657227438, 'colsample_bynode': 0.027404828084687537}. Best is trial 38 with value: 531.7070332418538.\n",
      "[I 2024-04-08 09:21:47,269] Trial 46 finished with value: 533.7400322065112 and parameters: {'objective': 'reg:squarederror', 'tree_method': 'hist', 'n_estimators': 397, 'learning_rate': 0.09093759704586012, 'colsample_bytree': 0.3265181807051486, 'max_depth': 11, 'max_leaves': 12, 'reg_alpha': 0.6803730086126567, 'reg_lambda': 0.3149859490201324, 'subsample': 0.8600065370978038, 'gamma': 0.9515038919858871, 'min_child_weight': 8.819209203578268, 'colsample_bylevel': 0.7237174508071552, 'colsample_bynode': 0.02026108304276531}. Best is trial 38 with value: 531.7070332418538.\n",
      "[I 2024-04-08 09:21:47,743] Trial 47 finished with value: 532.260547536847 and parameters: {'objective': 'reg:squarederror', 'tree_method': 'hist', 'n_estimators': 398, 'learning_rate': 0.18396584448494158, 'colsample_bytree': 0.3909962549307288, 'max_depth': 9, 'max_leaves': 13, 'reg_alpha': 0.6407716885029636, 'reg_lambda': 0.45572188282515447, 'subsample': 0.7016429405989083, 'gamma': 0.7865540792995243, 'min_child_weight': 8.268113506213162, 'colsample_bylevel': 0.6537656546628808, 'colsample_bynode': 0.03248313587687209}. Best is trial 38 with value: 531.7070332418538.\n",
      "[I 2024-04-08 09:21:48,170] Trial 48 finished with value: 531.5601217721847 and parameters: {'objective': 'reg:squarederror', 'tree_method': 'hist', 'n_estimators': 394, 'learning_rate': 0.19595776862450337, 'colsample_bytree': 0.39257181382620865, 'max_depth': 9, 'max_leaves': 11, 'reg_alpha': 0.6620757629327463, 'reg_lambda': 0.4637357693722872, 'subsample': 0.7051232477196203, 'gamma': 0.7824313400674325, 'min_child_weight': 9.556004567063159, 'colsample_bylevel': 0.6573270852315987, 'colsample_bynode': 0.01716688673725496}. Best is trial 48 with value: 531.5601217721847.\n",
      "[I 2024-04-08 09:21:48,599] Trial 49 finished with value: 532.2063892543486 and parameters: {'objective': 'reg:squarederror', 'tree_method': 'hist', 'n_estimators': 396, 'learning_rate': 0.20041305448257277, 'colsample_bytree': 0.3886808828658515, 'max_depth': 9, 'max_leaves': 10, 'reg_alpha': 0.6396387956625023, 'reg_lambda': 0.4703201945688649, 'subsample': 0.706388609427739, 'gamma': 0.7638473724362078, 'min_child_weight': 9.395740008023315, 'colsample_bylevel': 0.5431210410095167, 'colsample_bynode': 0.05870390136208789}. Best is trial 48 with value: 531.5601217721847.\n",
      "[I 2024-04-08 09:21:48,904] Trial 50 finished with value: 802.0366613771217 and parameters: {'objective': 'reg:squaredlogerror', 'tree_method': 'hist', 'n_estimators': 448, 'learning_rate': 0.20020846369666578, 'colsample_bytree': 0.4260203926168757, 'max_depth': 12, 'max_leaves': 9, 'reg_alpha': 0.5738587405810226, 'reg_lambda': 0.4807357216065893, 'subsample': 0.90631428556659, 'gamma': 0.7770936783850416, 'min_child_weight': 9.366219158276307, 'colsample_bylevel': 0.5473037453539751, 'colsample_bynode': 0.09701385959377347}. Best is trial 48 with value: 531.5601217721847.\n",
      "[I 2024-04-08 09:21:49,393] Trial 51 finished with value: 535.3654890149721 and parameters: {'objective': 'reg:squarederror', 'tree_method': 'hist', 'n_estimators': 395, 'learning_rate': 0.19403345426499613, 'colsample_bytree': 0.3708734636990182, 'max_depth': 9, 'max_leaves': 11, 'reg_alpha': 0.6398727801827673, 'reg_lambda': 0.45902092501796193, 'subsample': 0.7098410439751819, 'gamma': 0.9251847038687069, 'min_child_weight': 9.687348432796203, 'colsample_bylevel': 0.6586388846196406, 'colsample_bynode': 0.053802991998737074}. Best is trial 48 with value: 531.5601217721847.\n",
      "[I 2024-04-08 09:21:49,790] Trial 52 finished with value: 539.8587969826713 and parameters: {'objective': 'reg:squarederror', 'tree_method': 'hist', 'n_estimators': 412, 'learning_rate': 0.07035066458216646, 'colsample_bytree': 0.49586022571290517, 'max_depth': 10, 'max_leaves': 7, 'reg_alpha': 0.46187192422060563, 'reg_lambda': 0.5238129709214862, 'subsample': 0.8019502282663789, 'gamma': 0.8129740205279383, 'min_child_weight': 9.04740368863624, 'colsample_bylevel': 0.5768496693985468, 'colsample_bynode': 0.056923890898246676}. Best is trial 48 with value: 531.5601217721847.\n",
      "[I 2024-04-08 09:21:50,300] Trial 53 finished with value: 546.4858990556264 and parameters: {'objective': 'reg:squarederror', 'tree_method': 'hist', 'n_estimators': 406, 'learning_rate': 0.01923598731819373, 'colsample_bytree': 0.2889967979770092, 'max_depth': 9, 'max_leaves': 13, 'reg_alpha': 0.6045709510887594, 'reg_lambda': 0.3895862760313433, 'subsample': 0.6071944906281248, 'gamma': 0.7328375284667966, 'min_child_weight': 9.380326163627709, 'colsample_bylevel': 0.45051114767265404, 'colsample_bynode': 0.014016585354531891}. Best is trial 48 with value: 531.5601217721847.\n",
      "[I 2024-04-08 09:21:50,747] Trial 54 finished with value: 532.6762252157629 and parameters: {'objective': 'reg:squarederror', 'tree_method': 'hist', 'n_estimators': 385, 'learning_rate': 0.20286998748416837, 'colsample_bytree': 0.3821542433030748, 'max_depth': 11, 'max_leaves': 11, 'reg_alpha': 0.6630153099337243, 'reg_lambda': 0.43605012201617493, 'subsample': 0.7003585248946895, 'gamma': 0.801457486187398, 'min_child_weight': 8.77834617092259, 'colsample_bylevel': 0.6234126013068808, 'colsample_bynode': 0.10711148856727827}. Best is trial 48 with value: 531.5601217721847.\n",
      "[I 2024-04-08 09:21:51,233] Trial 55 finished with value: 533.1979887522106 and parameters: {'objective': 'reg:squarederror', 'tree_method': 'hist', 'n_estimators': 420, 'learning_rate': 0.26431148610325683, 'colsample_bytree': 0.4616607690903739, 'max_depth': 10, 'max_leaves': 12, 'reg_alpha': 0.7156794470016047, 'reg_lambda': 0.5679308899847171, 'subsample': 0.7608274107936598, 'gamma': 0.9303876864879014, 'min_child_weight': 9.977304650549232, 'colsample_bylevel': 0.5179218046315105, 'colsample_bynode': 0.06983417231782729}. Best is trial 48 with value: 531.5601217721847.\n",
      "[I 2024-04-08 09:21:52,780] Trial 56 finished with value: 645.4171405641687 and parameters: {'objective': 'reg:quantileerror', 'tree_method': 'hist', 'n_estimators': 404, 'learning_rate': 0.11768332394221404, 'colsample_bytree': 0.31992263445812225, 'max_depth': 9, 'max_leaves': 10, 'reg_alpha': 0.5256713201946503, 'reg_lambda': 0.38067581668381545, 'subsample': 0.8335090738988146, 'gamma': 0.6897452229032891, 'min_child_weight': 9.609522729118577, 'colsample_bylevel': 0.6996834352925407, 'colsample_bynode': 0.12525673290112804, 'quantile_alpha': 0.29137532537430544}. Best is trial 48 with value: 531.5601217721847.\n",
      "[I 2024-04-08 09:21:53,342] Trial 57 finished with value: 535.131763481492 and parameters: {'objective': 'reg:squarederror', 'tree_method': 'approx', 'n_estimators': 392, 'learning_rate': 0.17846031961913458, 'colsample_bytree': 0.5611631503667323, 'max_depth': 8, 'max_leaves': 12, 'reg_alpha': 0.6072912597262646, 'reg_lambda': 0.6631130464673367, 'subsample': 0.6938967475824236, 'gamma': 0.8312771438422637, 'min_child_weight': 8.068372248193652, 'colsample_bylevel': 0.4837386207680413, 'colsample_bynode': 0.038439172855380524}. Best is trial 48 with value: 531.5601217721847.\n"
     ]
    },
    {
     "name": "stderr",
     "output_type": "stream",
     "text": [
      "[I 2024-04-08 09:21:53,755] Trial 58 finished with value: 540.6343177360602 and parameters: {'objective': 'reg:squarederror', 'tree_method': 'hist', 'n_estimators': 384, 'learning_rate': 0.05999764276178346, 'colsample_bytree': 0.5194179523968492, 'max_depth': 10, 'max_leaves': 9, 'reg_alpha': 0.0175075977009434, 'reg_lambda': 0.31235874057090673, 'subsample': 0.5886947228751768, 'gamma': 0.6363584357012585, 'min_child_weight': 9.09852771163388, 'colsample_bylevel': 0.36329252081963986, 'colsample_bynode': 0.18925220047110836}. Best is trial 48 with value: 531.5601217721847.\n",
      "[I 2024-04-08 09:21:54,240] Trial 59 finished with value: 532.5009716742784 and parameters: {'objective': 'reg:squarederror', 'tree_method': 'hist', 'n_estimators': 432, 'learning_rate': 0.12117040874466595, 'colsample_bytree': 0.4348083728822093, 'max_depth': 12, 'max_leaves': 13, 'reg_alpha': 0.7679554930441381, 'reg_lambda': 0.5169883695216008, 'subsample': 0.559853805358565, 'gamma': 0.7651349317784408, 'min_child_weight': 8.695338730327629, 'colsample_bylevel': 0.5923586629289845, 'colsample_bynode': 0.6268153497642698}. Best is trial 48 with value: 531.5601217721847.\n",
      "[I 2024-04-08 09:21:54,755] Trial 60 finished with value: 538.759290184496 and parameters: {'objective': 'reg:squarederror', 'tree_method': 'hist', 'n_estimators': 472, 'learning_rate': 0.22454258612766334, 'colsample_bytree': 0.6263079330732048, 'max_depth': 12, 'max_leaves': 11, 'reg_alpha': 0.7665607583832026, 'reg_lambda': 0.763661289007085, 'subsample': 0.5491945275500035, 'gamma': 0.7670131828224627, 'min_child_weight': 7.5405175276015965, 'colsample_bylevel': 0.4008546229254875, 'colsample_bynode': 0.6120431611514556}. Best is trial 48 with value: 531.5601217721847.\n",
      "[I 2024-04-08 09:21:55,288] Trial 61 finished with value: 533.7510772692741 and parameters: {'objective': 'reg:squarederror', 'tree_method': 'hist', 'n_estimators': 446, 'learning_rate': 0.126354265481873, 'colsample_bytree': 0.4110782017506487, 'max_depth': 16, 'max_leaves': 13, 'reg_alpha': 0.6606438320524616, 'reg_lambda': 0.5295633052746284, 'subsample': 0.7392349105141414, 'gamma': 0.9048262184487806, 'min_child_weight': 8.917214702223111, 'colsample_bylevel': 0.5934270432028124, 'colsample_bynode': 0.39828767151138783}. Best is trial 48 with value: 531.5601217721847.\n",
      "[I 2024-04-08 09:21:55,749] Trial 62 finished with value: 539.5178776217379 and parameters: {'objective': 'reg:squarederror', 'tree_method': 'hist', 'n_estimators': 426, 'learning_rate': 0.2793244364575441, 'colsample_bytree': 0.45743111645165646, 'max_depth': 14, 'max_leaves': 12, 'reg_alpha': 0.70590574759322, 'reg_lambda': 0.48541343488524735, 'subsample': 0.7803819976967353, 'gamma': 0.7294169573118847, 'min_child_weight': 9.590144658510516, 'colsample_bylevel': 0.6667618660630309, 'colsample_bynode': 0.6684008001313432}. Best is trial 48 with value: 531.5601217721847.\n",
      "[I 2024-04-08 09:21:56,238] Trial 63 finished with value: 531.3942814285432 and parameters: {'objective': 'reg:squarederror', 'tree_method': 'hist', 'n_estimators': 433, 'learning_rate': 0.16609170550876926, 'colsample_bytree': 0.3628373747533747, 'max_depth': 9, 'max_leaves': 13, 'reg_alpha': 0.07530100451360133, 'reg_lambda': 0.5882604876349389, 'subsample': 0.6869855813748801, 'gamma': 0.7965182597395506, 'min_child_weight': 8.5775815152696, 'colsample_bylevel': 0.5463898005796772, 'colsample_bynode': 0.7056294821703072}. Best is trial 63 with value: 531.3942814285432.\n",
      "[I 2024-04-08 09:21:56,713] Trial 64 finished with value: 528.5879276310973 and parameters: {'objective': 'reg:squarederror', 'tree_method': 'hist', 'n_estimators': 416, 'learning_rate': 0.09755958517330898, 'colsample_bytree': 0.36637278808802987, 'max_depth': 10, 'max_leaves': 13, 'reg_alpha': 0.2508197077274798, 'reg_lambda': 0.5936137393011555, 'subsample': 0.634359075226744, 'gamma': 0.7880998838458313, 'min_child_weight': 8.498637304052878, 'colsample_bylevel': 0.5403007233347686, 'colsample_bynode': 0.7041819691418716}. Best is trial 64 with value: 528.5879276310973.\n",
      "[I 2024-04-08 09:21:57,235] Trial 65 finished with value: 529.7294680078519 and parameters: {'objective': 'reg:squarederror', 'tree_method': 'hist', 'n_estimators': 417, 'learning_rate': 0.06177133871252765, 'colsample_bytree': 0.36435682872955233, 'max_depth': 8, 'max_leaves': 15, 'reg_alpha': 0.09084266482877716, 'reg_lambda': 0.5678444623938099, 'subsample': 0.6365561401859421, 'gamma': 0.7987008192915955, 'min_child_weight': 7.026099432870193, 'colsample_bylevel': 0.5394546289837795, 'colsample_bynode': 0.7908009074763757}. Best is trial 64 with value: 528.5879276310973.\n",
      "[I 2024-04-08 09:21:57,668] Trial 66 finished with value: 815.1284404252291 and parameters: {'objective': 'reg:squaredlogerror', 'tree_method': 'hist', 'n_estimators': 435, 'learning_rate': 0.06089222704459823, 'colsample_bytree': 0.3855764677697617, 'max_depth': 11, 'max_leaves': 15, 'reg_alpha': 0.08361484604925012, 'reg_lambda': 0.6006235622522997, 'subsample': 0.6208818568139899, 'gamma': 0.6495904679349318, 'min_child_weight': 7.278798246817614, 'colsample_bylevel': 0.5203178652430471, 'colsample_bynode': 0.7750116589208965}. Best is trial 64 with value: 528.5879276310973.\n",
      "[I 2024-04-08 09:21:59,762] Trial 67 finished with value: 1774.885328531121 and parameters: {'objective': 'reg:quantileerror', 'tree_method': 'exact', 'n_estimators': 417, 'learning_rate': 0.17369994266616084, 'colsample_bytree': 0.356890177678529, 'max_depth': 10, 'max_leaves': 10, 'reg_alpha': 0.13036723713950588, 'reg_lambda': 0.561396731149368, 'subsample': 0.7259439985667512, 'gamma': 0.8080674754082278, 'min_child_weight': 6.890648917293156, 'colsample_bylevel': 0.4181541371023713, 'colsample_bynode': 0.7128195932102482, 'quantile_alpha': 0.9849451971682879}. Best is trial 64 with value: 528.5879276310973.\n",
      "[I 2024-04-08 09:22:00,334] Trial 68 finished with value: 549.317954078928 and parameters: {'objective': 'reg:squarederror', 'tree_method': 'auto', 'n_estimators': 425, 'learning_rate': 0.015562905631671092, 'colsample_bytree': 0.28215796364424345, 'max_depth': 9, 'max_leaves': 9, 'reg_alpha': 0.1771370006625909, 'reg_lambda': 0.6258599813761947, 'subsample': 0.5190473481500949, 'gamma': 0.7015323255164021, 'min_child_weight': 8.174255622552689, 'colsample_bylevel': 0.48346405462653336, 'colsample_bynode': 0.8739000791342112}. Best is trial 64 with value: 528.5879276310973.\n",
      "[I 2024-04-08 09:22:00,935] Trial 69 finished with value: 578.3824589025844 and parameters: {'objective': 'reg:squarederror', 'tree_method': 'approx', 'n_estimators': 455, 'learning_rate': 0.8833556439711521, 'colsample_bytree': 0.305710840973327, 'max_depth': 10, 'max_leaves': 11, 'reg_alpha': 0.2854511926190177, 'reg_lambda': 0.7435045296150526, 'subsample': 0.6300090976298247, 'gamma': 0.8348452546816362, 'min_child_weight': 7.698024635275905, 'colsample_bylevel': 0.31115307761644906, 'colsample_bynode': 0.7935481044219936}. Best is trial 64 with value: 528.5879276310973.\n",
      "[I 2024-04-08 09:22:01,409] Trial 70 finished with value: 536.1114561675358 and parameters: {'objective': 'reg:squarederror', 'tree_method': 'hist', 'n_estimators': 412, 'learning_rate': 0.23272268720567008, 'colsample_bytree': 0.5177770672391018, 'max_depth': 8, 'max_leaves': 12, 'reg_alpha': 0.23322977893087538, 'reg_lambda': 0.6864115311531561, 'subsample': 0.8219679762175898, 'gamma': 0.7951817147722311, 'min_child_weight': 8.567546033965968, 'colsample_bylevel': 0.6329387598461188, 'colsample_bynode': 0.7005469841315801}. Best is trial 64 with value: 528.5879276310973.\n",
      "[I 2024-04-08 09:22:01,939] Trial 71 finished with value: 530.6355322188449 and parameters: {'objective': 'reg:squarederror', 'tree_method': 'hist', 'n_estimators': 402, 'learning_rate': 0.08835185838902443, 'colsample_bytree': 0.3498145453993584, 'max_depth': 8, 'max_leaves': 15, 'reg_alpha': 0.10160646423842094, 'reg_lambda': 0.4562964089977953, 'subsample': 0.6810643110911164, 'gamma': 0.723355135107649, 'min_child_weight': 9.219424429191958, 'colsample_bylevel': 0.5370260543005257, 'colsample_bynode': 0.9516108230943211}. Best is trial 64 with value: 528.5879276310973.\n",
      "[I 2024-04-08 09:22:02,485] Trial 72 finished with value: 529.1416415163168 and parameters: {'objective': 'reg:squarederror', 'tree_method': 'hist', 'n_estimators': 404, 'learning_rate': 0.07409197048078899, 'colsample_bytree': 0.3606844000881681, 'max_depth': 8, 'max_leaves': 15, 'reg_alpha': 0.06918801442797569, 'reg_lambda': 0.5920697381052851, 'subsample': 0.7508334883546441, 'gamma': 0.7248282712191239, 'min_child_weight': 9.201775736890305, 'colsample_bylevel': 0.5361713563651727, 'colsample_bynode': 0.8163605820322297}. Best is trial 64 with value: 528.5879276310973.\n"
     ]
    },
    {
     "name": "stderr",
     "output_type": "stream",
     "text": [
      "[I 2024-04-08 09:22:03,132] Trial 73 finished with value: 528.8873238294574 and parameters: {'objective': 'reg:squarederror', 'tree_method': 'hist', 'n_estimators': 407, 'learning_rate': 0.05350712925052926, 'colsample_bytree': 0.3470748368847921, 'max_depth': 7, 'max_leaves': 15, 'reg_alpha': 0.06377584088598114, 'reg_lambda': 0.5791881723477666, 'subsample': 0.7613640171027313, 'gamma': 0.7261235018490666, 'min_child_weight': 9.166211438784721, 'colsample_bylevel': 0.5283859773386357, 'colsample_bynode': 0.9847772439855201}. Best is trial 64 with value: 528.5879276310973.\n",
      "[I 2024-04-08 09:22:03,728] Trial 74 finished with value: 537.6600476427008 and parameters: {'objective': 'reg:squarederror', 'tree_method': 'hist', 'n_estimators': 405, 'learning_rate': 0.04969861164386746, 'colsample_bytree': 0.34214280484365783, 'max_depth': 7, 'max_leaves': 15, 'reg_alpha': 0.08109120851741741, 'reg_lambda': 0.5878111105631643, 'subsample': 0.8614414050876602, 'gamma': 0.7319100540384361, 'min_child_weight': 8.565763907291736, 'colsample_bylevel': 0.44371826757354577, 'colsample_bynode': 0.9558215065332986}. Best is trial 64 with value: 528.5879276310973.\n",
      "[I 2024-04-08 09:22:04,342] Trial 75 finished with value: 529.5201580587172 and parameters: {'objective': 'reg:squarederror', 'tree_method': 'hist', 'n_estimators': 442, 'learning_rate': 0.08779317651285995, 'colsample_bytree': 0.9822760579358569, 'max_depth': 8, 'max_leaves': 15, 'reg_alpha': 0.055137559289755125, 'reg_lambda': 0.6485214517222727, 'subsample': 0.7694666028578364, 'gamma': 0.6526665528540397, 'min_child_weight': 9.173012900460556, 'colsample_bylevel': 0.5215837205902376, 'colsample_bynode': 0.822394172268951}. Best is trial 64 with value: 528.5879276310973.\n",
      "[I 2024-04-08 09:22:04,896] Trial 76 finished with value: 529.558038467286 and parameters: {'objective': 'reg:squarederror', 'tree_method': 'hist', 'n_estimators': 442, 'learning_rate': 0.08661115087400899, 'colsample_bytree': 0.8773402746649894, 'max_depth': 7, 'max_leaves': 15, 'reg_alpha': 0.04532934405296954, 'reg_lambda': 0.6324698885707764, 'subsample': 0.9224191110899457, 'gamma': 0.65380750287552, 'min_child_weight': 6.143240986115169, 'colsample_bylevel': 0.504630633803616, 'colsample_bynode': 0.8290674990323084}. Best is trial 64 with value: 528.5879276310973.\n",
      "[I 2024-04-08 09:22:05,688] Trial 77 finished with value: 544.7443185418352 and parameters: {'objective': 'reg:pseudohubererror', 'tree_method': 'hist', 'n_estimators': 441, 'learning_rate': 0.08338200645988628, 'colsample_bytree': 0.9931740732537204, 'max_depth': 7, 'max_leaves': 15, 'reg_alpha': 0.05610556538413519, 'reg_lambda': 0.6306505274194535, 'subsample': 0.9980905558465416, 'gamma': 0.569128984179434, 'min_child_weight': 6.440425054800215, 'colsample_bylevel': 0.5058502606009009, 'colsample_bynode': 0.8155320748862984}. Best is trial 64 with value: 528.5879276310973.\n",
      "[I 2024-04-08 09:22:07,971] Trial 78 finished with value: 526.7499026412567 and parameters: {'objective': 'reg:squarederror', 'tree_method': 'exact', 'n_estimators': 460, 'learning_rate': 0.03408070130120463, 'colsample_bytree': 0.8823076708882699, 'max_depth': 7, 'max_leaves': 17, 'reg_alpha': 0.11899664514780699, 'reg_lambda': 0.664454863077633, 'subsample': 0.9284909768832492, 'gamma': 0.6523022344444985, 'min_child_weight': 6.027619797833637, 'colsample_bylevel': 0.4683247276447554, 'colsample_bynode': 0.9999020982696281}. Best is trial 78 with value: 526.7499026412567.\n",
      "[I 2024-04-08 09:22:08,590] Trial 79 finished with value: 532.3510321777628 and parameters: {'objective': 'reg:squarederror', 'tree_method': 'auto', 'n_estimators': 468, 'learning_rate': 0.010937036703388622, 'colsample_bytree': 0.9075402622289236, 'max_depth': 5, 'max_leaves': 17, 'reg_alpha': 0.14246520637379462, 'reg_lambda': 0.6585057035394586, 'subsample': 0.9479104749112267, 'gamma': 0.6334706708809, 'min_child_weight': 6.176721071877126, 'colsample_bylevel': 0.45672493667137326, 'colsample_bynode': 0.9926002349979758}. Best is trial 78 with value: 526.7499026412567.\n",
      "[I 2024-04-08 09:22:10,644] Trial 80 finished with value: 792.6560334839992 and parameters: {'objective': 'reg:squaredlogerror', 'tree_method': 'exact', 'n_estimators': 482, 'learning_rate': 0.044593026095373904, 'colsample_bytree': 0.9007154879421713, 'max_depth': 7, 'max_leaves': 16, 'reg_alpha': 0.04567297329629476, 'reg_lambda': 0.7219625716120814, 'subsample': 0.9284365825557126, 'gamma': 0.6603022614089364, 'min_child_weight': 5.294946334063188, 'colsample_bylevel': 0.42500442624747037, 'colsample_bynode': 0.9184990248053883}. Best is trial 78 with value: 526.7499026412567.\n",
      "[I 2024-04-08 09:22:12,526] Trial 81 finished with value: 527.7788635031981 and parameters: {'objective': 'reg:squarederror', 'tree_method': 'exact', 'n_estimators': 460, 'learning_rate': 0.03965294962077871, 'colsample_bytree': 0.7393156305549501, 'max_depth': 6, 'max_leaves': 15, 'reg_alpha': 0.11691676177268187, 'reg_lambda': 0.6640747599561933, 'subsample': 0.8837979007300394, 'gamma': 0.5389657926442881, 'min_child_weight': 6.065187334215027, 'colsample_bylevel': 0.5267087616621781, 'colsample_bynode': 0.8569594056204002}. Best is trial 78 with value: 526.7499026412567.\n",
      "[I 2024-04-08 09:22:14,400] Trial 82 finished with value: 532.1365433370538 and parameters: {'objective': 'reg:squarederror', 'tree_method': 'exact', 'n_estimators': 463, 'learning_rate': 0.07766303534793478, 'colsample_bytree': 0.7306020011867719, 'max_depth': 6, 'max_leaves': 15, 'reg_alpha': 0.11245490853440081, 'reg_lambda': 0.6727632997282516, 'subsample': 0.9067610427795675, 'gamma': 0.5997411123080449, 'min_child_weight': 6.190791033197443, 'colsample_bylevel': 0.486361112818832, 'colsample_bynode': 0.8497461993031037}. Best is trial 78 with value: 526.7499026412567.\n",
      "[I 2024-04-08 09:22:17,300] Trial 83 finished with value: 547.2826132568629 and parameters: {'objective': 'reg:squarederror', 'tree_method': 'exact', 'n_estimators': 457, 'learning_rate': 0.10087163483377337, 'colsample_bytree': 0.8695334631484257, 'max_depth': 8, 'max_leaves': 17, 'reg_alpha': 0.17276094091446517, 'reg_lambda': 0.8219511445970127, 'subsample': 0.8716423650039624, 'gamma': 0.5437040179333421, 'min_child_weight': 5.832764705162387, 'colsample_bylevel': 0.530366680426293, 'colsample_bynode': 0.9621553063109182}. Best is trial 78 with value: 526.7499026412567.\n",
      "[I 2024-04-08 09:22:19,745] Trial 84 finished with value: 527.4473861118622 and parameters: {'objective': 'reg:squarederror', 'tree_method': 'exact', 'n_estimators': 446, 'learning_rate': 0.032663765191082286, 'colsample_bytree': 0.9712550710956626, 'max_depth': 7, 'max_leaves': 15, 'reg_alpha': 0.05048044271387057, 'reg_lambda': 0.5510595083192837, 'subsample': 0.9596298790144467, 'gamma': 0.5249210098228531, 'min_child_weight': 5.361450616761162, 'colsample_bylevel': 0.6046932407089858, 'colsample_bynode': 0.8935573766610962}. Best is trial 78 with value: 526.7499026412567.\n",
      "[I 2024-04-08 09:22:21,493] Trial 85 finished with value: 527.7945222449995 and parameters: {'objective': 'reg:squarederror', 'tree_method': 'exact', 'n_estimators': 482, 'learning_rate': 0.037950989310375334, 'colsample_bytree': 0.9390018311867349, 'max_depth': 5, 'max_leaves': 16, 'reg_alpha': 0.03896803231802977, 'reg_lambda': 0.5429856416464207, 'subsample': 0.9629122049319377, 'gamma': 0.5317925965069628, 'min_child_weight': 5.19138049938153, 'colsample_bylevel': 0.6079029535191721, 'colsample_bynode': 0.8979423439496509}. Best is trial 78 with value: 526.7499026412567.\n",
      "[I 2024-04-08 09:22:23,487] Trial 86 finished with value: 847.971472602907 and parameters: {'objective': 'reg:quantileerror', 'tree_method': 'exact', 'n_estimators': 492, 'learning_rate': 0.037284446620562794, 'colsample_bytree': 0.965376238681817, 'max_depth': 5, 'max_leaves': 16, 'reg_alpha': 0.034060245585274124, 'reg_lambda': 0.715971890069281, 'subsample': 0.9703545315444814, 'gamma': 0.536070241717911, 'min_child_weight': 5.198885596037956, 'colsample_bylevel': 0.6136219016368225, 'colsample_bynode': 0.8927086902977485, 'quantile_alpha': 0.3702873525883569}. Best is trial 78 with value: 526.7499026412567.\n",
      "[I 2024-04-08 09:22:25,576] Trial 87 finished with value: 527.1591725279623 and parameters: {'objective': 'reg:squarederror', 'tree_method': 'exact', 'n_estimators': 481, 'learning_rate': 0.03743795307284513, 'colsample_bytree': 0.8082031514011526, 'max_depth': 5, 'max_leaves': 17, 'reg_alpha': 0.012120362143819757, 'reg_lambda': 0.6443630210154885, 'subsample': 0.9407285539847571, 'gamma': 0.4842905618354531, 'min_child_weight': 4.328400816069854, 'colsample_bylevel': 0.5750623476479177, 'colsample_bynode': 0.9266528455432805}. Best is trial 78 with value: 526.7499026412567.\n"
     ]
    },
    {
     "name": "stderr",
     "output_type": "stream",
     "text": [
      "[I 2024-04-08 09:22:27,425] Trial 88 finished with value: 529.0048480927475 and parameters: {'objective': 'reg:squarederror', 'tree_method': 'exact', 'n_estimators': 486, 'learning_rate': 0.010187380708894377, 'colsample_bytree': 0.8084528854792377, 'max_depth': 5, 'max_leaves': 17, 'reg_alpha': 0.014507857795695966, 'reg_lambda': 0.5477847252587522, 'subsample': 0.9447734356369701, 'gamma': 0.49166081694463376, 'min_child_weight': 4.661230972301319, 'colsample_bylevel': 0.5649082449190044, 'colsample_bynode': 0.9285655851509598}. Best is trial 78 with value: 526.7499026412567.\n",
      "[I 2024-04-08 09:22:29,230] Trial 89 finished with value: 529.2120985133054 and parameters: {'objective': 'reg:squarederror', 'tree_method': 'exact', 'n_estimators': 484, 'learning_rate': 0.01033834336346574, 'colsample_bytree': 0.8088404642697439, 'max_depth': 5, 'max_leaves': 18, 'reg_alpha': 0.013950428393051613, 'reg_lambda': 0.5382099491827527, 'subsample': 0.953436378766805, 'gamma': 0.4894450527692545, 'min_child_weight': 4.375132523522074, 'colsample_bylevel': 0.5675142274490765, 'colsample_bynode': 0.9260098530049446}. Best is trial 78 with value: 526.7499026412567.\n",
      "[I 2024-04-08 09:22:31,006] Trial 90 finished with value: 548.6226439930233 and parameters: {'objective': 'reg:pseudohubererror', 'tree_method': 'exact', 'n_estimators': 498, 'learning_rate': 0.033566546058457006, 'colsample_bytree': 0.7541439614025285, 'max_depth': 6, 'max_leaves': 17, 'reg_alpha': 0.1553829264242565, 'reg_lambda': 0.5446259744099079, 'subsample': 0.8867148415478869, 'gamma': 0.5192327133547641, 'min_child_weight': 4.862842079398915, 'colsample_bylevel': 0.6039006220318183, 'colsample_bynode': 0.8750313424430671}. Best is trial 78 with value: 526.7499026412567.\n",
      "[I 2024-04-08 09:22:33,386] Trial 91 finished with value: 526.9253004414547 and parameters: {'objective': 'reg:squarederror', 'tree_method': 'exact', 'n_estimators': 485, 'learning_rate': 0.01821677631687189, 'colsample_bytree': 0.8226471863241684, 'max_depth': 5, 'max_leaves': 18, 'reg_alpha': 0.012558910255152364, 'reg_lambda': 0.5070012989845262, 'subsample': 0.9367318161223571, 'gamma': 0.4758569807730073, 'min_child_weight': 4.247495919245119, 'colsample_bylevel': 0.5635090273867279, 'colsample_bynode': 0.9270828006321712}. Best is trial 78 with value: 526.7499026412567.\n",
      "[I 2024-04-08 09:22:35,836] Trial 92 finished with value: 529.3521980284331 and parameters: {'objective': 'reg:squarederror', 'tree_method': 'exact', 'n_estimators': 482, 'learning_rate': 0.038640145544725335, 'colsample_bytree': 0.9413650308074472, 'max_depth': 5, 'max_leaves': 19, 'reg_alpha': 0.11901163052653378, 'reg_lambda': 0.4995996808666102, 'subsample': 0.9980006606449429, 'gamma': 0.4637012591483144, 'min_child_weight': 3.782951775505614, 'colsample_bylevel': 0.5830507185409642, 'colsample_bynode': 0.9907445655328262}. Best is trial 78 with value: 526.7499026412567.\n",
      "[I 2024-04-08 09:22:38,024] Trial 93 finished with value: 655.7451942501814 and parameters: {'objective': 'reg:squarederror', 'tree_method': 'exact', 'n_estimators': 489, 'learning_rate': 0.997080018631776, 'colsample_bytree': 0.8342049977575267, 'max_depth': 5, 'max_leaves': 17, 'reg_alpha': 0.22900825846032716, 'reg_lambda': 0.6113755957562523, 'subsample': 0.9438050151571257, 'gamma': 0.41243101800834436, 'min_child_weight': 4.534617390186844, 'colsample_bylevel': 0.49557665261057926, 'colsample_bynode': 0.9716933702340552}. Best is trial 78 with value: 526.7499026412567.\n",
      "[I 2024-04-08 09:22:40,149] Trial 94 finished with value: 528.6707156404857 and parameters: {'objective': 'reg:squarederror', 'tree_method': 'exact', 'n_estimators': 476, 'learning_rate': 0.05302514998494795, 'colsample_bytree': 0.77552642165559, 'max_depth': 6, 'max_leaves': 18, 'reg_alpha': 0.012841533178802031, 'reg_lambda': 0.5808461524154134, 'subsample': 0.9795085170996732, 'gamma': 0.4784470626238938, 'min_child_weight': 5.245026673730428, 'colsample_bylevel': 0.5636399595111028, 'colsample_bynode': 0.9096351093907784}. Best is trial 78 with value: 526.7499026412567.\n",
      "[I 2024-04-08 09:22:42,901] Trial 95 finished with value: 543.0378986648141 and parameters: {'objective': 'reg:squarederror', 'tree_method': 'exact', 'n_estimators': 476, 'learning_rate': 0.13145631596854498, 'colsample_bytree': 0.7607266053600296, 'max_depth': 6, 'max_leaves': 18, 'reg_alpha': 0.013657337807732484, 'reg_lambda': 0.5091168784883446, 'subsample': 0.9695093878954077, 'gamma': 0.3745822885100569, 'min_child_weight': 5.724632072584981, 'colsample_bylevel': 0.6919197095724617, 'colsample_bynode': 0.9364416367716534}. Best is trial 78 with value: 526.7499026412567.\n",
      "[I 2024-04-08 09:22:44,664] Trial 96 finished with value: 527.4902289965912 and parameters: {'objective': 'reg:squarederror', 'tree_method': 'exact', 'n_estimators': 475, 'learning_rate': 0.030477229634842798, 'colsample_bytree': 0.8057359524338107, 'max_depth': 5, 'max_leaves': 18, 'reg_alpha': 0.03082953107522473, 'reg_lambda': 0.6909404829899529, 'subsample': 0.9328632967235244, 'gamma': 0.48579009833129133, 'min_child_weight': 4.226221506875624, 'colsample_bylevel': 0.5599719754869061, 'colsample_bynode': 0.867727570069621}. Best is trial 78 with value: 526.7499026412567.\n",
      "[I 2024-04-08 09:22:46,724] Trial 97 finished with value: 530.7991936340791 and parameters: {'objective': 'reg:squarederror', 'tree_method': 'exact', 'n_estimators': 462, 'learning_rate': 0.053439979379180616, 'colsample_bytree': 0.7146164131708966, 'max_depth': 6, 'max_leaves': 18, 'reg_alpha': 0.195961192711904, 'reg_lambda': 0.7976189185352065, 'subsample': 0.8883070637895645, 'gamma': 0.5681144098599984, 'min_child_weight': 4.206502284520877, 'colsample_bylevel': 0.6097936853591203, 'colsample_bynode': 0.8875034911459645}. Best is trial 78 with value: 526.7499026412567.\n",
      "[I 2024-04-08 09:22:49,051] Trial 98 finished with value: 535.9117613306604 and parameters: {'objective': 'reg:squarederror', 'tree_method': 'exact', 'n_estimators': 476, 'learning_rate': 0.10630859300769757, 'colsample_bytree': 0.9201082068348725, 'max_depth': 6, 'max_leaves': 19, 'reg_alpha': 0.03678284853032552, 'reg_lambda': 0.6877169750530694, 'subsample': 0.9276715528427332, 'gamma': 0.47121220177296774, 'min_child_weight': 3.2440709612986236, 'colsample_bylevel': 0.4672066272104832, 'colsample_bynode': 0.8553626311222662}. Best is trial 78 with value: 526.7499026412567.\n",
      "[I 2024-04-08 09:22:50,956] Trial 99 finished with value: 526.3722307592354 and parameters: {'objective': 'reg:squarederror', 'tree_method': 'exact', 'n_estimators': 471, 'learning_rate': 0.028204128663684092, 'colsample_bytree': 0.8537738109613267, 'max_depth': 5, 'max_leaves': 16, 'reg_alpha': 0.1007374541941069, 'reg_lambda': 0.7374267735278507, 'subsample': 0.8452500246908027, 'gamma': 0.5141120394178096, 'min_child_weight': 5.2005327233672585, 'colsample_bylevel': 0.5596741641869837, 'colsample_bynode': 0.9729665073922311}. Best is trial 99 with value: 526.3722307592354.\n",
      "[I 2024-04-08 09:22:52,843] Trial 100 finished with value: 526.8046172662226 and parameters: {'objective': 'reg:squarederror', 'tree_method': 'exact', 'n_estimators': 470, 'learning_rate': 0.031229244179666042, 'colsample_bytree': 0.8789465130994412, 'max_depth': 5, 'max_leaves': 16, 'reg_alpha': 0.10708150896055885, 'reg_lambda': 0.7436286308046778, 'subsample': 0.9832448718269038, 'gamma': 0.5187211321644029, 'min_child_weight': 5.233074597924121, 'colsample_bylevel': 0.6449457368153502, 'colsample_bynode': 0.9089523365335045}. Best is trial 99 with value: 526.3722307592354.\n",
      "[I 2024-04-08 09:22:54,028] Trial 101 finished with value: 536.2036242067633 and parameters: {'objective': 'reg:squarederror', 'tree_method': 'exact', 'n_estimators': 470, 'learning_rate': 0.033855258636553046, 'colsample_bytree': 0.8580180846102152, 'max_depth': 5, 'max_leaves': 16, 'reg_alpha': 0.1074050674242432, 'reg_lambda': 0.7404647077213187, 'subsample': 0.9730887953223889, 'gamma': 0.5107225868917479, 'min_child_weight': 5.084559693401094, 'colsample_bylevel': 0.1593137828472364, 'colsample_bynode': 0.9073274880356588}. Best is trial 99 with value: 526.3722307592354.\n",
      "[I 2024-04-08 09:22:56,769] Trial 102 finished with value: 527.0137672757248 and parameters: {'objective': 'reg:squarederror', 'tree_method': 'exact', 'n_estimators': 466, 'learning_rate': 0.033126508657787615, 'colsample_bytree': 0.8918813460496933, 'max_depth': 5, 'max_leaves': 17, 'reg_alpha': 0.13403497980398296, 'reg_lambda': 0.7055988087307244, 'subsample': 0.9138424219393667, 'gamma': 0.5710596055063641, 'min_child_weight': 5.432696591301922, 'colsample_bylevel': 0.6350659452670215, 'colsample_bynode': 0.8612234910047268}. Best is trial 99 with value: 526.3722307592354.\n"
     ]
    },
    {
     "name": "stderr",
     "output_type": "stream",
     "text": [
      "[I 2024-04-08 09:22:59,363] Trial 103 finished with value: 526.272847006654 and parameters: {'objective': 'reg:squarederror', 'tree_method': 'exact', 'n_estimators': 453, 'learning_rate': 0.031150760934386557, 'colsample_bytree': 0.8894639642512375, 'max_depth': 5, 'max_leaves': 16, 'reg_alpha': 0.2593138873957625, 'reg_lambda': 0.8458335923052633, 'subsample': 0.8479980018543989, 'gamma': 0.5700961449209102, 'min_child_weight': 5.4814317177531855, 'colsample_bylevel': 0.6409836091117623, 'colsample_bynode': 0.8667467904327625}. Best is trial 103 with value: 526.272847006654.\n",
      "[I 2024-04-08 09:23:02,060] Trial 104 finished with value: 592.8335302590148 and parameters: {'objective': 'reg:squarederror', 'tree_method': 'exact', 'n_estimators': 467, 'learning_rate': 0.5487195365743838, 'colsample_bytree': 0.8955807556445011, 'max_depth': 5, 'max_leaves': 17, 'reg_alpha': 0.14561074557616308, 'reg_lambda': 0.9244355693026041, 'subsample': 0.9112845481899945, 'gamma': 0.5701017229463922, 'min_child_weight': 5.490041062081726, 'colsample_bylevel': 0.6426486658054924, 'colsample_bynode': 0.8666156482731378}. Best is trial 103 with value: 526.272847006654.\n",
      "[I 2024-04-08 09:23:04,762] Trial 105 finished with value: 525.966636698063 and parameters: {'objective': 'reg:squarederror', 'tree_method': 'exact', 'n_estimators': 450, 'learning_rate': 0.026846493509927544, 'colsample_bytree': 0.8420196772560447, 'max_depth': 5, 'max_leaves': 16, 'reg_alpha': 0.32564400631450763, 'reg_lambda': 0.8688461946931691, 'subsample': 0.8425153600928289, 'gamma': 0.6157498986925201, 'min_child_weight': 5.459888057335784, 'colsample_bylevel': 0.6890276803659616, 'colsample_bynode': 0.940958631430371}. Best is trial 105 with value: 525.966636698063.\n",
      "[I 2024-04-08 09:23:06,504] Trial 106 finished with value: 798.7391354525378 and parameters: {'objective': 'reg:squaredlogerror', 'tree_method': 'exact', 'n_estimators': 453, 'learning_rate': 0.027127124654564145, 'colsample_bytree': 0.8391806609949367, 'max_depth': 5, 'max_leaves': 16, 'reg_alpha': 0.32864216761711246, 'reg_lambda': 0.8416225608481626, 'subsample': 0.844485266426764, 'gamma': 0.6134596582398579, 'min_child_weight': 5.465844232289528, 'colsample_bylevel': 0.6774232876081412, 'colsample_bynode': 0.945976116310932}. Best is trial 105 with value: 525.966636698063.\n",
      "[I 2024-04-08 09:23:08,779] Trial 107 finished with value: 548.5272742410971 and parameters: {'objective': 'reg:squarederror', 'tree_method': 'exact', 'n_estimators': 463, 'learning_rate': 0.1388912516357136, 'colsample_bytree': 0.8136096154567501, 'max_depth': 6, 'max_leaves': 17, 'reg_alpha': 0.27432795822355194, 'reg_lambda': 0.9815922796401857, 'subsample': 0.8093321956921625, 'gamma': 0.5862985188846881, 'min_child_weight': 5.986361277291509, 'colsample_bylevel': 0.7144062384920736, 'colsample_bynode': 0.8415230690660075}. Best is trial 105 with value: 525.966636698063.\n",
      "[I 2024-04-08 09:23:10,808] Trial 108 finished with value: 760.8367892888144 and parameters: {'objective': 'reg:quantileerror', 'tree_method': 'exact', 'n_estimators': 451, 'learning_rate': 0.07434307393584838, 'colsample_bytree': 0.8850294987176774, 'max_depth': 5, 'max_leaves': 16, 'reg_alpha': 0.16901092389722386, 'reg_lambda': 0.8965925387017369, 'subsample': 0.8497582860689211, 'gamma': 0.44180948771136563, 'min_child_weight': 4.7994342553525815, 'colsample_bylevel': 0.679108957078576, 'colsample_bynode': 0.9763223797893156, 'quantile_alpha': 0.780254302062092}. Best is trial 105 with value: 525.966636698063.\n",
      "[I 2024-04-08 09:23:12,880] Trial 109 finished with value: 532.9579198094111 and parameters: {'objective': 'reg:squarederror', 'tree_method': 'exact', 'n_estimators': 458, 'learning_rate': 0.10964922213249172, 'colsample_bytree': 0.8561494816485797, 'max_depth': 5, 'max_leaves': 18, 'reg_alpha': 0.19991241871447085, 'reg_lambda': 0.7665639154430635, 'subsample': 0.9310927130498696, 'gamma': 0.5535306735982588, 'min_child_weight': 5.7014507093941384, 'colsample_bylevel': 0.6345125245293496, 'colsample_bynode': 0.879860402080645}. Best is trial 105 with value: 525.966636698063.\n",
      "[I 2024-04-08 09:23:15,818] Trial 110 finished with value: 525.5619151451632 and parameters: {'objective': 'reg:squarederror', 'tree_method': 'exact', 'n_estimators': 493, 'learning_rate': 0.024071777062041055, 'colsample_bytree': 0.9694543558915057, 'max_depth': 6, 'max_leaves': 17, 'reg_alpha': 0.36932452253558407, 'reg_lambda': 0.8594863881067017, 'subsample': 0.8885256960299516, 'gamma': 0.5094526391936688, 'min_child_weight': 4.948344925270095, 'colsample_bylevel': 0.7515420238767789, 'colsample_bynode': 0.997534263300338}. Best is trial 110 with value: 525.5619151451632.\n",
      "[I 2024-04-08 09:23:18,645] Trial 111 finished with value: 526.5019998548717 and parameters: {'objective': 'reg:squarederror', 'tree_method': 'exact', 'n_estimators': 494, 'learning_rate': 0.03039147347135104, 'colsample_bytree': 0.9577715506277626, 'max_depth': 6, 'max_leaves': 17, 'reg_alpha': 0.40908422936981975, 'reg_lambda': 0.8637064581148655, 'subsample': 0.8859277750426715, 'gamma': 0.5287503803671837, 'min_child_weight': 4.960022242332547, 'colsample_bylevel': 0.7080480229471994, 'colsample_bynode': 0.9408143108353844}. Best is trial 110 with value: 525.5619151451632.\n",
      "[I 2024-04-08 09:23:21,571] Trial 112 finished with value: 533.6422789144053 and parameters: {'objective': 'reg:squarederror', 'tree_method': 'exact', 'n_estimators': 491, 'learning_rate': 0.06755118801003634, 'colsample_bytree': 0.9667438516079688, 'max_depth': 6, 'max_leaves': 17, 'reg_alpha': 0.39652460050381017, 'reg_lambda': 0.8463601790858868, 'subsample': 0.9045463556089091, 'gamma': 0.5136243858444993, 'min_child_weight': 3.8339194653823454, 'colsample_bylevel': 0.760829958938527, 'colsample_bynode': 0.9390897806387546}. Best is trial 110 with value: 525.5619151451632.\n",
      "[I 2024-04-08 09:23:24,024] Trial 113 finished with value: 526.3510404178403 and parameters: {'objective': 'reg:squarederror', 'tree_method': 'exact', 'n_estimators': 495, 'learning_rate': 0.024914830724042117, 'colsample_bytree': 0.9617321716821644, 'max_depth': 5, 'max_leaves': 18, 'reg_alpha': 0.336003693069751, 'reg_lambda': 0.8963573247437233, 'subsample': 0.8737324863263104, 'gamma': 0.4172981694820292, 'min_child_weight': 4.484134092681531, 'colsample_bylevel': 0.7396953858325642, 'colsample_bynode': 0.9993780760507862}. Best is trial 110 with value: 525.5619151451632.\n",
      "[I 2024-04-08 09:23:27,846] Trial 114 finished with value: 525.8458380380265 and parameters: {'objective': 'reg:squarederror', 'tree_method': 'exact', 'n_estimators': 480, 'learning_rate': 0.010037025514404625, 'colsample_bytree': 0.9592168942992846, 'max_depth': 6, 'max_leaves': 17, 'reg_alpha': 0.3336544893718927, 'reg_lambda': 0.7919851612913045, 'subsample': 0.8308524861287511, 'gamma': 0.41109554745495813, 'min_child_weight': 4.608409012403868, 'colsample_bylevel': 0.7412099153795783, 'colsample_bynode': 0.9674229651937206}. Best is trial 110 with value: 525.5619151451632.\n",
      "[I 2024-04-08 09:23:30,881] Trial 115 finished with value: 528.0018425108804 and parameters: {'objective': 'reg:squarederror', 'tree_method': 'exact', 'n_estimators': 500, 'learning_rate': 0.010334920274389023, 'colsample_bytree': 0.9204949023253167, 'max_depth': 5, 'max_leaves': 19, 'reg_alpha': 0.34559919927734145, 'reg_lambda': 0.8839291951140581, 'subsample': 0.8206851319009221, 'gamma': 0.40920464946161617, 'min_child_weight': 4.487784039230288, 'colsample_bylevel': 0.7847175719746716, 'colsample_bynode': 0.9944791765522341}. Best is trial 110 with value: 525.5619151451632.\n",
      "[I 2024-04-08 09:23:34,171] Trial 116 finished with value: 534.6531966439766 and parameters: {'objective': 'reg:squarederror', 'tree_method': 'exact', 'n_estimators': 489, 'learning_rate': 0.06384195317002962, 'colsample_bytree': 0.9568740670347937, 'max_depth': 6, 'max_leaves': 17, 'reg_alpha': 0.3798454723231505, 'reg_lambda': 0.7924207294080398, 'subsample': 0.8670493753384578, 'gamma': 0.347293057769795, 'min_child_weight': 5.016970538789867, 'colsample_bylevel': 0.741919727117274, 'colsample_bynode': 0.9675997559855232}. Best is trial 110 with value: 525.5619151451632.\n"
     ]
    },
    {
     "name": "stderr",
     "output_type": "stream",
     "text": [
      "[I 2024-04-08 09:23:37,617] Trial 117 finished with value: 530.8860886323179 and parameters: {'objective': 'reg:squarederror', 'tree_method': 'exact', 'n_estimators': 496, 'learning_rate': 0.057070634209021434, 'colsample_bytree': 0.933797310333377, 'max_depth': 6, 'max_leaves': 17, 'reg_alpha': 0.3124388586156977, 'reg_lambda': 0.8568559327450704, 'subsample': 0.7956387402968732, 'gamma': 0.3932530651581501, 'min_child_weight': 4.658160117695569, 'colsample_bylevel': 0.7092402456660594, 'colsample_bynode': 0.9598329941450668}. Best is trial 110 with value: 525.5619151451632.\n",
      "[I 2024-04-08 09:23:39,675] Trial 118 finished with value: 550.4861745727237 and parameters: {'objective': 'reg:pseudohubererror', 'tree_method': 'exact', 'n_estimators': 495, 'learning_rate': 0.024905038340154596, 'colsample_bytree': 0.950265870872075, 'max_depth': 5, 'max_leaves': 19, 'reg_alpha': 0.418209543127047, 'reg_lambda': 0.910419955428213, 'subsample': 0.8314191296419943, 'gamma': 0.6174960212776915, 'min_child_weight': 4.811584188545779, 'colsample_bylevel': 0.6868699708456035, 'colsample_bynode': 0.9273782801063238}. Best is trial 110 with value: 525.5619151451632.\n",
      "[I 2024-04-08 09:23:41,885] Trial 119 finished with value: 534.5123097708165 and parameters: {'objective': 'reg:squarederror', 'tree_method': 'exact', 'n_estimators': 466, 'learning_rate': 0.10857592362048146, 'colsample_bytree': 0.9970575652408912, 'max_depth': 5, 'max_leaves': 16, 'reg_alpha': 0.4492846933957274, 'reg_lambda': 0.866613625042911, 'subsample': 0.8918522061417465, 'gamma': 0.45611735595118086, 'min_child_weight': 4.327257315288706, 'colsample_bylevel': 0.7565320116348012, 'colsample_bynode': 0.9942635001535185}. Best is trial 110 with value: 525.5619151451632.\n",
      "[I 2024-04-08 09:23:51,302] Trial 120 finished with value: 531.1962542819724 and parameters: {'objective': 'reg:squarederror', 'tree_method': 'exact', 'n_estimators': 479, 'learning_rate': 0.010365286043615484, 'colsample_bytree': 0.8771415373522581, 'max_depth': 18, 'max_leaves': 18, 'reg_alpha': 0.30188352502658944, 'reg_lambda': 0.8108806583131625, 'subsample': 0.8442406877551175, 'gamma': 0.4301200618415679, 'min_child_weight': 3.891115147426035, 'colsample_bylevel': 0.6550814697631864, 'colsample_bynode': 0.9444867700447209}. Best is trial 110 with value: 525.5619151451632.\n",
      "[I 2024-04-08 09:23:54,009] Trial 121 finished with value: 533.0164535917114 and parameters: {'objective': 'reg:squarederror', 'tree_method': 'exact', 'n_estimators': 473, 'learning_rate': 0.07394918796398775, 'colsample_bytree': 0.9767117811985979, 'max_depth': 6, 'max_leaves': 16, 'reg_alpha': 0.37098131998711414, 'reg_lambda': 0.7427910033632621, 'subsample': 0.8821543852119256, 'gamma': 0.5203685950408782, 'min_child_weight': 5.301841535950839, 'colsample_bylevel': 0.7757164851887449, 'colsample_bynode': 0.912751185902675}. Best is trial 110 with value: 525.5619151451632.\n",
      "[I 2024-04-08 09:23:57,393] Trial 122 finished with value: 531.9368499536191 and parameters: {'objective': 'reg:squarederror', 'tree_method': 'exact', 'n_estimators': 487, 'learning_rate': 0.049926793441289544, 'colsample_bytree': 0.9056647435837444, 'max_depth': 7, 'max_leaves': 17, 'reg_alpha': 0.3473682632805976, 'reg_lambda': 0.943840509597448, 'subsample': 0.9123900696096143, 'gamma': 0.58575643817804, 'min_child_weight': 5.425784529857992, 'colsample_bylevel': 0.8053483883218714, 'colsample_bynode': 0.9738176467007248}. Best is trial 110 with value: 525.5619151451632.\n",
      "[I 2024-04-08 09:23:59,957] Trial 123 finished with value: 525.6311921523793 and parameters: {'objective': 'reg:squarederror', 'tree_method': 'exact', 'n_estimators': 480, 'learning_rate': 0.028812059890546214, 'colsample_bytree': 0.8298122856639473, 'max_depth': 6, 'max_leaves': 16, 'reg_alpha': 0.26327464697295416, 'reg_lambda': 0.8245187557450963, 'subsample': 0.8612476343972012, 'gamma': 0.5570738800220966, 'min_child_weight': 4.977224804939566, 'colsample_bylevel': 0.7256417925999529, 'colsample_bynode': 0.9540103737740078}. Best is trial 110 with value: 525.5619151451632.\n",
      "[I 2024-04-08 09:24:02,633] Trial 124 finished with value: 656.8221136588379 and parameters: {'objective': 'reg:squarederror', 'tree_method': 'exact', 'n_estimators': 493, 'learning_rate': 0.7667225789264114, 'colsample_bytree': 0.8439503426609543, 'max_depth': 6, 'max_leaves': 16, 'reg_alpha': 0.25906946461558544, 'reg_lambda': 0.7802950128062809, 'subsample': 0.8532595988382149, 'gamma': 0.5559869523819458, 'min_child_weight': 4.978697852907876, 'colsample_bylevel': 0.7337796045613316, 'colsample_bynode': 0.9538635612723989}. Best is trial 110 with value: 525.5619151451632.\n",
      "[I 2024-04-08 09:24:04,701] Trial 125 finished with value: 532.1239514741487 and parameters: {'objective': 'reg:squarederror', 'tree_method': 'exact', 'n_estimators': 480, 'learning_rate': 0.09161806447697689, 'colsample_bytree': 0.8262031442103204, 'max_depth': 5, 'max_leaves': 17, 'reg_alpha': 0.32397769072004184, 'reg_lambda': 0.8282331615054787, 'subsample': 0.8713747402904739, 'gamma': 0.5012979989294787, 'min_child_weight': 4.707212455045652, 'colsample_bylevel': 0.709764564041853, 'colsample_bynode': 0.9745301707188085}. Best is trial 110 with value: 525.5619151451632.\n",
      "[I 2024-04-08 09:24:07,895] Trial 126 finished with value: 525.8487087693776 and parameters: {'objective': 'reg:squarederror', 'tree_method': 'exact', 'n_estimators': 470, 'learning_rate': 0.026710836330890036, 'colsample_bytree': 0.9196752938491783, 'max_depth': 5, 'max_leaves': 16, 'reg_alpha': 0.4422535132164786, 'reg_lambda': 0.8804413173761272, 'subsample': 0.813917896624491, 'gamma': 0.6236598164484735, 'min_child_weight': 5.633872214772003, 'colsample_bylevel': 0.7587713612674357, 'colsample_bynode': 0.922718135370546}. Best is trial 110 with value: 525.5619151451632.\n",
      "[I 2024-04-08 09:24:11,194] Trial 127 finished with value: 533.197138171725 and parameters: {'objective': 'reg:squarederror', 'tree_method': 'exact', 'n_estimators': 472, 'learning_rate': 0.06444379763866538, 'colsample_bytree': 0.9181467705261005, 'max_depth': 6, 'max_leaves': 16, 'reg_alpha': 0.46778105963112815, 'reg_lambda': 0.8758018257631447, 'subsample': 0.7907205639245306, 'gamma': 0.6745775708151097, 'min_child_weight': 5.6303919737848025, 'colsample_bylevel': 0.7661315419739816, 'colsample_bynode': 0.9499122518326404}. Best is trial 110 with value: 525.5619151451632.\n",
      "[I 2024-04-08 09:24:14,504] Trial 128 finished with value: 525.7207308969937 and parameters: {'objective': 'reg:squarederror', 'tree_method': 'exact', 'n_estimators': 466, 'learning_rate': 0.010390973701413453, 'colsample_bytree': 0.8916033206099299, 'max_depth': 6, 'max_leaves': 16, 'reg_alpha': 0.4350406762223201, 'reg_lambda': 0.9651720995468217, 'subsample': 0.8271944950222585, 'gamma': 0.6272290100039063, 'min_child_weight': 5.802448815584539, 'colsample_bylevel': 0.8235450314764902, 'colsample_bynode': 0.9977218917540361}. Best is trial 110 with value: 525.5619151451632.\n",
      "[I 2024-04-08 09:24:17,813] Trial 129 finished with value: 825.1050450149855 and parameters: {'objective': 'reg:squaredlogerror', 'tree_method': 'exact', 'n_estimators': 486, 'learning_rate': 0.010264398438951355, 'colsample_bytree': 0.8624976346739935, 'max_depth': 6, 'max_leaves': 6, 'reg_alpha': 0.43999650967008264, 'reg_lambda': 0.9298201016128578, 'subsample': 0.8201154132782621, 'gamma': 0.626665858129881, 'min_child_weight': 6.715014476692492, 'colsample_bylevel': 0.8868647799861072, 'colsample_bynode': 0.9982574411257282}. Best is trial 110 with value: 525.5619151451632.\n",
      "[I 2024-04-08 09:24:18,719] Trial 130 finished with value: 531.6321813374598 and parameters: {'objective': 'reg:squarederror', 'tree_method': 'approx', 'n_estimators': 500, 'learning_rate': 0.07749470376563708, 'colsample_bytree': 0.9359203348546709, 'max_depth': 6, 'max_leaves': 16, 'reg_alpha': 0.3970609450264503, 'reg_lambda': 0.8973181364587716, 'subsample': 0.8124186705146863, 'gamma': 0.5987384650992306, 'min_child_weight': 5.124025181559591, 'colsample_bylevel': 0.8339352794347789, 'colsample_bynode': 0.9755010500593249}. Best is trial 110 with value: 525.5619151451632.\n",
      "[I 2024-04-08 09:24:21,049] Trial 131 finished with value: 525.9093891626542 and parameters: {'objective': 'reg:squarederror', 'tree_method': 'exact', 'n_estimators': 466, 'learning_rate': 0.026372135925128302, 'colsample_bytree': 0.8892867702135625, 'max_depth': 5, 'max_leaves': 16, 'reg_alpha': 0.2939865595162514, 'reg_lambda': 0.9672131242179499, 'subsample': 0.8378537824965657, 'gamma': 0.5876343980351189, 'min_child_weight': 5.850677705749609, 'colsample_bylevel': 0.8633504342808894, 'colsample_bynode': 0.9989457080376697}. Best is trial 110 with value: 525.5619151451632.\n"
     ]
    },
    {
     "name": "stderr",
     "output_type": "stream",
     "text": [
      "[I 2024-04-08 09:24:23,312] Trial 132 finished with value: 527.3005537932215 and parameters: {'objective': 'reg:squarederror', 'tree_method': 'exact', 'n_estimators': 470, 'learning_rate': 0.05048198170308271, 'colsample_bytree': 0.8919338179353122, 'max_depth': 5, 'max_leaves': 16, 'reg_alpha': 0.2899784635595051, 'reg_lambda': 0.9804537308014853, 'subsample': 0.7849834256907854, 'gamma': 0.5928368292530025, 'min_child_weight': 5.83963589262489, 'colsample_bylevel': 0.8670116976100694, 'colsample_bynode': 0.962277373049024}. Best is trial 110 with value: 525.5619151451632.\n",
      "[I 2024-04-08 09:24:25,868] Trial 133 finished with value: 525.6397428474891 and parameters: {'objective': 'reg:squarederror', 'tree_method': 'exact', 'n_estimators': 478, 'learning_rate': 0.02298707507313398, 'colsample_bytree': 0.9524494420617915, 'max_depth': 5, 'max_leaves': 16, 'reg_alpha': 0.4901264418357822, 'reg_lambda': 0.9608923976802954, 'subsample': 0.836419960727572, 'gamma': 0.6289914130226132, 'min_child_weight': 5.837694566038789, 'colsample_bylevel': 0.7980964558827286, 'colsample_bynode': 0.9992812422794485}. Best is trial 110 with value: 525.5619151451632.\n",
      "[I 2024-04-08 09:24:29,147] Trial 134 finished with value: 531.4197858240992 and parameters: {'objective': 'reg:squarederror', 'tree_method': 'exact', 'n_estimators': 450, 'learning_rate': 0.04968044625416443, 'colsample_bytree': 0.9523948117870484, 'max_depth': 7, 'max_leaves': 16, 'reg_alpha': 0.4895100653362684, 'reg_lambda': 0.9724679211837329, 'subsample': 0.8365514546309963, 'gamma': 0.6338146230230857, 'min_child_weight': 6.32683730586369, 'colsample_bylevel': 0.7994175592336302, 'colsample_bynode': 0.9959881752110793}. Best is trial 110 with value: 525.5619151451632.\n",
      "[I 2024-04-08 09:24:31,717] Trial 135 finished with value: 525.2635661119577 and parameters: {'objective': 'reg:squarederror', 'tree_method': 'exact', 'n_estimators': 464, 'learning_rate': 0.024280503861852896, 'colsample_bytree': 0.9997421906622478, 'max_depth': 6, 'max_leaves': 16, 'reg_alpha': 0.4855319799123844, 'reg_lambda': 0.9996035191727531, 'subsample': 0.8517921722423317, 'gamma': 0.6822024605722105, 'min_child_weight': 4.886962232724654, 'colsample_bylevel': 0.7441251876014107, 'colsample_bynode': 0.9781984008887931}. Best is trial 135 with value: 525.2635661119577.\n",
      "[I 2024-04-08 09:24:34,478] Trial 136 finished with value: 539.8291815267157 and parameters: {'objective': 'reg:squarederror', 'tree_method': 'exact', 'n_estimators': 455, 'learning_rate': 0.09456070853188879, 'colsample_bytree': 0.9863387462744111, 'max_depth': 6, 'max_leaves': 17, 'reg_alpha': 0.49418313569353556, 'reg_lambda': 0.9531449795508047, 'subsample': 0.8570442705662238, 'gamma': 0.687300171042261, 'min_child_weight': 5.903236329802478, 'colsample_bylevel': 0.8218557044669856, 'colsample_bynode': 0.999111455064211}. Best is trial 135 with value: 525.2635661119577.\n",
      "[I 2024-04-08 09:24:39,556] Trial 137 finished with value: 681.6194821944586 and parameters: {'objective': 'reg:squarederror', 'tree_method': 'exact', 'n_estimators': 463, 'learning_rate': 0.701988173099371, 'colsample_bytree': 0.9271226859813948, 'max_depth': 7, 'max_leaves': 16, 'reg_alpha': 0.5529611239930489, 'reg_lambda': 0.9946989129094556, 'subsample': 0.8004029409531821, 'gamma': 0.31730683100152507, 'min_child_weight': 4.930522361445917, 'colsample_bylevel': 0.7892288602866908, 'colsample_bynode': 0.9758137687802868}. Best is trial 135 with value: 525.2635661119577.\n"
     ]
    },
    {
     "name": "stdout",
     "output_type": "stream",
     "text": [
      "0:\tlearn: 637.7921411\ttotal: 71.1ms\tremaining: 1m 10s\n",
      "500:\tlearn: 496.7397401\ttotal: 43.5s\tremaining: 43.3s\n",
      "999:\tlearn: 480.4669142\ttotal: 1m 31s\tremaining: 0us\n",
      "0:\tlearn: 627.8896617\ttotal: 120ms\tremaining: 1m 59s\n",
      "500:\tlearn: 487.0940528\ttotal: 42.7s\tremaining: 42.5s\n",
      "999:\tlearn: 469.9452734\ttotal: 1m 39s\tremaining: 0us\n",
      "0:\tlearn: 628.6111796\ttotal: 81.4ms\tremaining: 1m 21s\n",
      "500:\tlearn: 488.7336508\ttotal: 42.6s\tremaining: 42.4s\n",
      "999:\tlearn: 472.3589610\ttotal: 1m 30s\tremaining: 0us\n",
      "0:\tlearn: 635.5310888\ttotal: 179ms\tremaining: 2m 58s\n",
      "500:\tlearn: 494.5522046\ttotal: 42.9s\tremaining: 42.7s\n",
      "999:\tlearn: 478.8782440\ttotal: 1m 39s\tremaining: 0us\n",
      "0:\tlearn: 630.0729123\ttotal: 135ms\tremaining: 2m 15s\n",
      "500:\tlearn: 490.3933213\ttotal: 43.8s\tremaining: 43.6s\n",
      "999:\tlearn: 474.2624575\ttotal: 1m 31s\tremaining: 0us\n",
      "0:\tlearn: 634.3319020\ttotal: 44.3ms\tremaining: 44.2s\n",
      "500:\tlearn: 498.2142717\ttotal: 10.5s\tremaining: 10.5s\n",
      "999:\tlearn: 483.2479663\ttotal: 22.9s\tremaining: 0us\n",
      "0:\tlearn: 626.3547567\ttotal: 111ms\tremaining: 1m 51s\n",
      "500:\tlearn: 483.0000973\ttotal: 42.1s\tremaining: 41.9s\n",
      "999:\tlearn: 466.7807954\ttotal: 1m 38s\tremaining: 0us\n",
      "0:\tlearn: 638.1700590\ttotal: 139ms\tremaining: 2m 18s\n",
      "500:\tlearn: 499.4379984\ttotal: 43.1s\tremaining: 43s\n",
      "999:\tlearn: 481.7154808\ttotal: 1m 30s\tremaining: 0us\n",
      "0:\tlearn: 632.9545530\ttotal: 14.9ms\tremaining: 14.9s\n",
      "500:\tlearn: 491.8419961\ttotal: 10.7s\tremaining: 10.7s\n",
      "999:\tlearn: 475.5500389\ttotal: 23s\tremaining: 0us\n",
      "0:\tlearn: 629.8336989\ttotal: 123ms\tremaining: 2m 2s\n",
      "500:\tlearn: 489.2053793\ttotal: 42.2s\tremaining: 42s\n",
      "999:\tlearn: 471.6464680\ttotal: 1m 39s\tremaining: 0us\n",
      "0:\tlearn: 633.6954507\ttotal: 226ms\tremaining: 3m 45s\n",
      "500:\tlearn: 492.9736455\ttotal: 44s\tremaining: 43.9s\n",
      "999:\tlearn: 476.3824889\ttotal: 1m 31s\tremaining: 0us\n",
      "0:\tlearn: 628.6137622\ttotal: 131ms\tremaining: 2m 10s\n",
      "500:\tlearn: 486.2667539\ttotal: 42.9s\tremaining: 42.7s\n",
      "999:\tlearn: 469.5153982\ttotal: 1m 39s\tremaining: 0us\n",
      "0:\tlearn: 637.0949144\ttotal: 135ms\tremaining: 2m 14s\n",
      "500:\tlearn: 496.3531535\ttotal: 43.5s\tremaining: 43.3s\n",
      "999:\tlearn: 481.2224369\ttotal: 1m 30s\tremaining: 0us\n",
      "0:\tlearn: 633.1863619\ttotal: 103ms\tremaining: 1m 42s\n",
      "500:\tlearn: 491.5601364\ttotal: 43.6s\tremaining: 43.4s\n",
      "999:\tlearn: 474.5445016\ttotal: 1m 40s\tremaining: 0us\n"
     ]
    },
    {
     "name": "stderr",
     "output_type": "stream",
     "text": [
      "[I 2024-04-08 09:24:44,455] Trial 138 finished with value: 843.7005686821935 and parameters: {'objective': 'reg:quantileerror', 'tree_method': 'exact', 'n_estimators': 478, 'learning_rate': 0.37717273217042624, 'colsample_bytree': 0.9579683226222571, 'max_depth': 6, 'max_leaves': 16, 'reg_alpha': 0.4332411295766374, 'reg_lambda': 0.9601463295616062, 'subsample': 0.8330031376831174, 'gamma': 0.6648145278012261, 'min_child_weight': 5.660785336588814, 'colsample_bylevel': 0.9018182367808238, 'colsample_bynode': 0.9491048749387025, 'quantile_alpha': 0.26766052971211574}. Best is trial 135 with value: 525.2635661119577.\n",
      "[I 2024-04-08 09:24:45,141] Trial 139 finished with value: 525.9041626555659 and parameters: {'objective': 'reg:squarederror', 'tree_method': 'auto', 'n_estimators': 461, 'learning_rate': 0.024056301484700428, 'colsample_bytree': 0.989519423761204, 'max_depth': 6, 'max_leaves': 17, 'reg_alpha': 0.3912396232220644, 'reg_lambda': 0.9330550894156735, 'subsample': 0.863290102343629, 'gamma': 0.6418340629635955, 'min_child_weight': 5.6328660086631155, 'colsample_bylevel': 0.7423840878292719, 'colsample_bynode': 0.9777703871258371}. Best is trial 135 with value: 525.2635661119577.\n",
      "[I 2024-04-08 09:24:45,740] Trial 140 finished with value: 528.7106718751543 and parameters: {'objective': 'reg:squarederror', 'tree_method': 'auto', 'n_estimators': 466, 'learning_rate': 0.06920892458687986, 'colsample_bytree': 0.9975425772008116, 'max_depth': 6, 'max_leaves': 16, 'reg_alpha': 0.39721432381680055, 'reg_lambda': 0.9099053025193057, 'subsample': 0.8708502300386851, 'gamma': 0.6208702429614287, 'min_child_weight': 5.591706005577263, 'colsample_bylevel': 0.7402829115864299, 'colsample_bynode': 0.9359363950972716}. Best is trial 135 with value: 525.2635661119577.\n",
      "[I 2024-04-08 09:24:46,537] Trial 141 finished with value: 526.2141844280796 and parameters: {'objective': 'reg:squarederror', 'tree_method': 'auto', 'n_estimators': 459, 'learning_rate': 0.025064965017627106, 'colsample_bytree': 0.909451466352443, 'max_depth': 6, 'max_leaves': 17, 'reg_alpha': 0.36627611450547903, 'reg_lambda': 0.9986449706494606, 'subsample': 0.8940127501769077, 'gamma': 0.6409205089365866, 'min_child_weight': 5.8481113380225445, 'colsample_bylevel': 0.851556174017169, 'colsample_bynode': 0.9772123501580751}. Best is trial 135 with value: 525.2635661119577.\n",
      "[I 2024-04-08 09:24:47,139] Trial 142 finished with value: 526.3636994573579 and parameters: {'objective': 'reg:squarederror', 'tree_method': 'auto', 'n_estimators': 457, 'learning_rate': 0.021810910807690303, 'colsample_bytree': 0.9736339557925727, 'max_depth': 5, 'max_leaves': 16, 'reg_alpha': 0.35971116474935827, 'reg_lambda': 0.9977793744671084, 'subsample': 0.851624322220913, 'gamma': 0.6116074122366648, 'min_child_weight': 5.005392287891864, 'colsample_bylevel': 0.8528132807138362, 'colsample_bynode': 0.96427052236933}. Best is trial 135 with value: 525.2635661119577.\n",
      "[I 2024-04-08 09:24:47,689] Trial 143 finished with value: 527.3793324675614 and parameters: {'objective': 'reg:squarederror', 'tree_method': 'auto', 'n_estimators': 458, 'learning_rate': 0.05362573905783405, 'colsample_bytree': 0.9745593093873989, 'max_depth': 5, 'max_leaves': 15, 'reg_alpha': 0.3647517182629814, 'reg_lambda': 0.994726743783633, 'subsample': 0.7777680268365053, 'gamma': 0.6403293862264448, 'min_child_weight': 5.7707238558145795, 'colsample_bylevel': 0.8630113323846307, 'colsample_bynode': 0.9691736527245326}. Best is trial 135 with value: 525.2635661119577.\n",
      "[I 2024-04-08 09:24:48,227] Trial 144 finished with value: 529.9086415126523 and parameters: {'objective': 'reg:squarederror', 'tree_method': 'auto', 'n_estimators': 454, 'learning_rate': 0.010492039521032647, 'colsample_bytree': 0.9133816360485951, 'max_depth': 5, 'max_leaves': 16, 'reg_alpha': 0.3390395073804773, 'reg_lambda': 0.9328890303127915, 'subsample': 0.8479949184128924, 'gamma': 0.69139266806045, 'min_child_weight': 6.383339698353884, 'colsample_bylevel': 0.9089384172293666, 'colsample_bynode': 0.9808851041254176}. Best is trial 135 with value: 525.2635661119577.\n",
      "[I 2024-04-08 09:24:48,816] Trial 145 finished with value: 525.4467664234555 and parameters: {'objective': 'reg:squarederror', 'tree_method': 'auto', 'n_estimators': 445, 'learning_rate': 0.025279826120542023, 'colsample_bytree': 0.9273723710200097, 'max_depth': 5, 'max_leaves': 20, 'reg_alpha': 0.4740432350230013, 'reg_lambda': 0.9526497150451145, 'subsample': 0.8166252815747143, 'gamma': 0.5991760793187499, 'min_child_weight': 5.545134008798946, 'colsample_bylevel': 0.8463944555539991, 'colsample_bynode': 0.9601410080641013}. Best is trial 135 with value: 525.2635661119577.\n",
      "[I 2024-04-08 09:24:49,410] Trial 146 finished with value: 531.0036176009537 and parameters: {'objective': 'reg:squarederror', 'tree_method': 'auto', 'n_estimators': 445, 'learning_rate': 0.0779448826533366, 'colsample_bytree': 0.9391687484328733, 'max_depth': 6, 'max_leaves': 17, 'reg_alpha': 0.47337434144569546, 'reg_lambda': 0.9609040158257713, 'subsample': 0.8140127185743381, 'gamma': 0.6123455440780554, 'min_child_weight': 5.539310388084154, 'colsample_bylevel': 0.8392747876539868, 'colsample_bynode': 0.9537640295914552}. Best is trial 135 with value: 525.2635661119577.\n",
      "[I 2024-04-08 09:24:49,806] Trial 147 finished with value: 697.2008495320144 and parameters: {'objective': 'reg:pseudohubererror', 'tree_method': 'auto', 'n_estimators': 449, 'learning_rate': 0.010280579954018647, 'colsample_bytree': 0.9858444344815412, 'max_depth': 5, 'max_leaves': 20, 'reg_alpha': 0.3111114685668026, 'reg_lambda': 0.9217544065040999, 'subsample': 0.8694715746349153, 'gamma': 0.5864660447188619, 'min_child_weight': 5.965661099760095, 'colsample_bylevel': 0.811403115492262, 'colsample_bynode': 0.9202714007324573}. Best is trial 135 with value: 525.2635661119577.\n",
      "[I 2024-04-08 09:24:50,453] Trial 148 finished with value: 527.3365659250304 and parameters: {'objective': 'reg:squarederror', 'tree_method': 'auto', 'n_estimators': 460, 'learning_rate': 0.050972812105649384, 'colsample_bytree': 0.9099804191573927, 'max_depth': 5, 'max_leaves': 20, 'reg_alpha': 0.513026575516445, 'reg_lambda': 0.94934169321022, 'subsample': 0.8234653251730376, 'gamma': 0.670473714376283, 'min_child_weight': 4.463814633954559, 'colsample_bylevel': 0.850452770059581, 'colsample_bynode': 0.9640326492417539}. Best is trial 135 with value: 525.2635661119577.\n",
      "[I 2024-04-08 09:24:51,078] Trial 149 finished with value: 528.1217145189955 and parameters: {'objective': 'reg:squarederror', 'tree_method': 'auto', 'n_estimators': 465, 'learning_rate': 0.04558006583628693, 'colsample_bytree': 0.9349232490450473, 'max_depth': 6, 'max_leaves': 18, 'reg_alpha': 0.3778428791637127, 'reg_lambda': 0.9764829877922293, 'subsample': 0.894673374049011, 'gamma': 0.7109339031340758, 'min_child_weight': 6.197781985913378, 'colsample_bylevel': 0.7700654929241746, 'colsample_bynode': 0.5270945992814261}. Best is trial 135 with value: 525.2635661119577.\n",
      "[I 2024-04-08 09:24:51,648] Trial 150 finished with value: 536.2903808811685 and parameters: {'objective': 'reg:squarederror', 'tree_method': 'auto', 'n_estimators': 458, 'learning_rate': 0.12805513313393968, 'colsample_bytree': 0.9708944961601869, 'max_depth': 5, 'max_leaves': 17, 'reg_alpha': 0.2648901640356888, 'reg_lambda': 0.8953180021971889, 'subsample': 0.7942221033286416, 'gamma': 0.6393552235018772, 'min_child_weight': 5.067389778456817, 'colsample_bylevel': 0.7545828198060802, 'colsample_bynode': 0.9993670825029891}. Best is trial 135 with value: 525.2635661119577.\n",
      "[I 2024-04-08 09:24:52,155] Trial 151 finished with value: 526.5163319047524 and parameters: {'objective': 'reg:squarederror', 'tree_method': 'auto', 'n_estimators': 437, 'learning_rate': 0.02696340544671933, 'colsample_bytree': 0.9965018695781845, 'max_depth': 5, 'max_leaves': 15, 'reg_alpha': 0.4525676953359749, 'reg_lambda': 0.9919116094883056, 'subsample': 0.8533416195145652, 'gamma': 0.6061718353181311, 'min_child_weight': 5.354236851461374, 'colsample_bylevel': 0.8206761752600487, 'colsample_bynode': 0.9810855184705768}. Best is trial 135 with value: 525.2635661119577.\n",
      "[I 2024-04-08 09:24:52,752] Trial 152 finished with value: 526.0428775098997 and parameters: {'objective': 'reg:squarederror', 'tree_method': 'auto', 'n_estimators': 473, 'learning_rate': 0.024951424138896987, 'colsample_bytree': 0.9469994405437026, 'max_depth': 5, 'max_leaves': 16, 'reg_alpha': 0.35889579477968936, 'reg_lambda': 0.9650585445262296, 'subsample': 0.8362195636108005, 'gamma': 0.5576209112448832, 'min_child_weight': 5.693335036116539, 'colsample_bylevel': 0.9608082394021715, 'colsample_bynode': 0.9579412057116135}. Best is trial 135 with value: 525.2635661119577.\n"
     ]
    },
    {
     "name": "stderr",
     "output_type": "stream",
     "text": [
      "[I 2024-04-08 09:24:53,457] Trial 153 finished with value: 530.0421111254077 and parameters: {'objective': 'reg:squarederror', 'tree_method': 'auto', 'n_estimators': 474, 'learning_rate': 0.06901101340655544, 'colsample_bytree': 0.9473027874544733, 'max_depth': 20, 'max_leaves': 16, 'reg_alpha': 0.3568870155545757, 'reg_lambda': 0.9673602466056488, 'subsample': 0.8307481108275312, 'gamma': 0.5518515224226055, 'min_child_weight': 5.832768961764986, 'colsample_bylevel': 0.9750978532256651, 'colsample_bynode': 0.8973076242848795}. Best is trial 135 with value: 525.2635661119577.\n",
      "[I 2024-04-08 09:24:54,208] Trial 154 finished with value: 534.2283359075582 and parameters: {'objective': 'reg:squarederror', 'tree_method': 'auto', 'n_estimators': 478, 'learning_rate': 0.025231076299196842, 'colsample_bytree': 0.9254044060250801, 'max_depth': 5, 'max_leaves': 16, 'reg_alpha': 0.2918204424701531, 'reg_lambda': 0.9404785323299845, 'subsample': 0.029177152465634404, 'gamma': 0.5739813363280942, 'min_child_weight': 5.607048039760496, 'colsample_bylevel': 0.8816513813962432, 'colsample_bynode': 0.9404016560128448}. Best is trial 135 with value: 525.2635661119577.\n",
      "[I 2024-04-08 09:24:54,894] Trial 155 finished with value: 527.7936174513821 and parameters: {'objective': 'reg:squarederror', 'tree_method': 'auto', 'n_estimators': 454, 'learning_rate': 0.0457426966725975, 'colsample_bytree': 0.9694045254336547, 'max_depth': 6, 'max_leaves': 17, 'reg_alpha': 0.32739432142310265, 'reg_lambda': 0.9096568554773368, 'subsample': 0.8081319237241221, 'gamma': 0.6247335459953056, 'min_child_weight': 5.435168363700362, 'colsample_bylevel': 0.9509469480404746, 'colsample_bynode': 0.9612492879450036}. Best is trial 135 with value: 525.2635661119577.\n",
      "[I 2024-04-08 09:24:56,035] Trial 156 finished with value: 530.638639241619 and parameters: {'objective': 'reg:squarederror', 'tree_method': 'auto', 'n_estimators': 468, 'learning_rate': 0.08792290104916047, 'colsample_bytree': 0.8998013944044874, 'max_depth': 6, 'max_leaves': 15, 'reg_alpha': 0.41376731859704086, 'reg_lambda': 0.9974607479655, 'subsample': 0.8758089192656449, 'gamma': 0.6020582364263908, 'min_child_weight': 4.7771641890185546, 'colsample_bylevel': 0.7257719648025106, 'colsample_bynode': 0.9172648775928617}. Best is trial 135 with value: 525.2635661119577.\n",
      "[I 2024-04-08 09:24:56,717] Trial 157 finished with value: 526.4141586732648 and parameters: {'objective': 'reg:squarederror', 'tree_method': 'auto', 'n_estimators': 463, 'learning_rate': 0.025243720682224007, 'colsample_bytree': 0.9541498144690439, 'max_depth': 5, 'max_leaves': 16, 'reg_alpha': 0.24333621360691252, 'reg_lambda': 0.8399944965810655, 'subsample': 0.779891391129544, 'gamma': 0.6552847533641426, 'min_child_weight': 6.097809142492672, 'colsample_bylevel': 0.7834875399019164, 'colsample_bynode': 0.9787240432272258}. Best is trial 135 with value: 525.2635661119577.\n",
      "[I 2024-04-08 09:24:57,388] Trial 158 finished with value: 540.8373532544464 and parameters: {'objective': 'reg:squarederror', 'tree_method': 'auto', 'n_estimators': 452, 'learning_rate': 0.06417337213001895, 'colsample_bytree': 0.9220478463027566, 'max_depth': 7, 'max_leaves': 17, 'reg_alpha': 0.38063510023665115, 'reg_lambda': 0.9446228587906063, 'subsample': 0.06538953629074434, 'gamma': 0.5586807703475676, 'min_child_weight': 5.823775082408917, 'colsample_bylevel': 0.8496804653248149, 'colsample_bynode': 0.9350391255516637}. Best is trial 135 with value: 525.2635661119577.\n",
      "[I 2024-04-08 09:24:58,059] Trial 159 finished with value: 570.5375143953164 and parameters: {'objective': 'reg:squarederror', 'tree_method': 'auto', 'n_estimators': 474, 'learning_rate': 0.4271119092846154, 'colsample_bytree': 0.9983046952266155, 'max_depth': 5, 'max_leaves': 20, 'reg_alpha': 0.4278827587680793, 'reg_lambda': 0.9220846865881975, 'subsample': 0.8986400996566012, 'gamma': 0.5807161434827576, 'min_child_weight': 4.586757191644777, 'colsample_bylevel': 0.9156851928614754, 'colsample_bynode': 0.9611627828879944}. Best is trial 135 with value: 525.2635661119577.\n",
      "[I 2024-04-08 09:24:58,667] Trial 160 finished with value: 826.9779870355607 and parameters: {'objective': 'reg:squaredlogerror', 'tree_method': 'auto', 'n_estimators': 445, 'learning_rate': 0.010785485638441271, 'colsample_bytree': 0.8758682306926581, 'max_depth': 6, 'max_leaves': 16, 'reg_alpha': 0.538409525168368, 'reg_lambda': 0.881384397705183, 'subsample': 0.7378821686306938, 'gamma': 0.6784835045265657, 'min_child_weight': 6.673162168430613, 'colsample_bylevel': 0.7453261483813333, 'colsample_bynode': 0.9132581486357569}. Best is trial 135 with value: 525.2635661119577.\n",
      "[I 2024-04-08 09:24:59,330] Trial 161 finished with value: 527.0191406721758 and parameters: {'objective': 'reg:squarederror', 'tree_method': 'approx', 'n_estimators': 471, 'learning_rate': 0.03599266275877007, 'colsample_bytree': 0.6039747824183687, 'max_depth': 5, 'max_leaves': 16, 'reg_alpha': 0.474905927884738, 'reg_lambda': 0.9753856178319662, 'subsample': 0.8606012031196162, 'gamma': 0.6006581158693811, 'min_child_weight': 5.159671585474593, 'colsample_bylevel': 0.7247885192593078, 'colsample_bynode': 0.9855386276678134}. Best is trial 135 with value: 525.2635661119577.\n",
      "[I 2024-04-08 09:25:01,647] Trial 162 finished with value: 526.2416477666135 and parameters: {'objective': 'reg:squarederror', 'tree_method': 'exact', 'n_estimators': 483, 'learning_rate': 0.028344137135231037, 'colsample_bytree': 0.8594146172268632, 'max_depth': 5, 'max_leaves': 16, 'reg_alpha': 0.35996185202913733, 'reg_lambda': 0.8182316113515581, 'subsample': 0.8436750726303666, 'gamma': 0.5429154824075213, 'min_child_weight': 5.300341787699882, 'colsample_bylevel': 0.7730712148412741, 'colsample_bynode': 0.9994139159931379}. Best is trial 135 with value: 525.2635661119577.\n",
      "[I 2024-04-08 09:25:02,264] Trial 163 finished with value: 527.1577186546639 and parameters: {'objective': 'reg:squarederror', 'tree_method': 'auto', 'n_estimators': 482, 'learning_rate': 0.04973640338110048, 'colsample_bytree': 0.9066148915194006, 'max_depth': 5, 'max_leaves': 15, 'reg_alpha': 0.3452793528820829, 'reg_lambda': 0.8203754116309661, 'subsample': 0.8347432504251376, 'gamma': 0.5404152991756971, 'min_child_weight': 5.519493141656884, 'colsample_bylevel': 0.7845762056250396, 'colsample_bynode': 0.9499108650814805}. Best is trial 135 with value: 525.2635661119577.\n"
     ]
    },
    {
     "name": "stdout",
     "output_type": "stream",
     "text": [
      "0:\tlearn: 639.6287239\ttotal: 101ms\tremaining: 1m 40s\n",
      "500:\tlearn: 500.4093377\ttotal: 44.3s\tremaining: 44.2s\n",
      "999:\tlearn: 483.7736855\ttotal: 1m 31s\tremaining: 0us\n",
      "0:\tlearn: 634.1344255\ttotal: 142ms\tremaining: 2m 21s\n",
      "500:\tlearn: 493.9125370\ttotal: 41.5s\tremaining: 41.4s\n",
      "999:\tlearn: 477.6910553\ttotal: 1m 37s\tremaining: 0us\n",
      "0:\tlearn: 630.2094730\ttotal: 96.8ms\tremaining: 1m 36s\n",
      "500:\tlearn: 490.4801174\ttotal: 11.4s\tremaining: 11.4s\n",
      "999:\tlearn: 474.4042020\ttotal: 22.9s\tremaining: 0us\n",
      "0:\tlearn: 631.8386067\ttotal: 76.2ms\tremaining: 1m 16s\n",
      "500:\tlearn: 493.8245612\ttotal: 43.9s\tremaining: 43.7s\n",
      "999:\tlearn: 478.8139284\ttotal: 1m 31s\tremaining: 0us\n",
      "0:\tlearn: 633.7877046\ttotal: 58.6ms\tremaining: 58.5s\n",
      "500:\tlearn: 490.4439598\ttotal: 42.1s\tremaining: 42s\n",
      "999:\tlearn: 474.5462281\ttotal: 1m 38s\tremaining: 0us\n",
      "0:\tlearn: 628.3323421\ttotal: 52.2ms\tremaining: 52.2s\n",
      "500:\tlearn: 487.2305296\ttotal: 11.2s\tremaining: 11.1s\n",
      "999:\tlearn: 471.8595201\ttotal: 22.5s\tremaining: 0us\n"
     ]
    },
    {
     "name": "stderr",
     "output_type": "stream",
     "text": [
      "[I 2024-04-08 09:25:05,679] Trial 164 finished with value: 525.85482261367 and parameters: {'objective': 'reg:squarederror', 'tree_method': 'exact', 'n_estimators': 490, 'learning_rate': 0.010484854985334437, 'colsample_bytree': 0.9442939194556947, 'max_depth': 6, 'max_leaves': 16, 'reg_alpha': 0.3122192952296494, 'reg_lambda': 0.9596311253993435, 'subsample': 0.8687254821213664, 'gamma': 0.6390423221751704, 'min_child_weight': 5.673615545187704, 'colsample_bylevel': 0.8290469690419163, 'colsample_bynode': 0.9828055511108548}. Best is trial 135 with value: 525.2635661119577.\n",
      "[I 2024-04-08 09:25:09,149] Trial 165 finished with value: 528.1775953627894 and parameters: {'objective': 'reg:squarederror', 'tree_method': 'exact', 'n_estimators': 489, 'learning_rate': 0.0444285927464703, 'colsample_bytree': 0.9386201272516789, 'max_depth': 6, 'max_leaves': 17, 'reg_alpha': 0.2769333737319639, 'reg_lambda': 0.8577969142287011, 'subsample': 0.8788938837525382, 'gamma': 0.6408735108114848, 'min_child_weight': 5.71212917020365, 'colsample_bylevel': 0.824439720892069, 'colsample_bynode': 0.9950236664073715}. Best is trial 135 with value: 525.2635661119577.\n",
      "[I 2024-04-08 09:25:11,981] Trial 166 finished with value: 525.6562743080505 and parameters: {'objective': 'reg:squarederror', 'tree_method': 'exact', 'n_estimators': 483, 'learning_rate': 0.011312369089744638, 'colsample_bytree': 0.8587092784068955, 'max_depth': 6, 'max_leaves': 15, 'reg_alpha': 0.3199286631800976, 'reg_lambda': 0.9562186820756625, 'subsample': 0.8146756132574121, 'gamma': 0.5667568801627814, 'min_child_weight': 6.003496046134367, 'colsample_bylevel': 0.7988790449824323, 'colsample_bynode': 0.984176070003582}. Best is trial 135 with value: 525.2635661119577.\n",
      "[I 2024-04-08 09:25:15,520] Trial 167 finished with value: 531.1176874969258 and parameters: {'objective': 'reg:squarederror', 'tree_method': 'exact', 'n_estimators': 478, 'learning_rate': 0.06235442161265041, 'colsample_bytree': 0.8914487846040677, 'max_depth': 6, 'max_leaves': 14, 'reg_alpha': 0.3132223942058925, 'reg_lambda': 0.9633378959871437, 'subsample': 0.8046087832930274, 'gamma': 0.5660455759149253, 'min_child_weight': 5.9874664334409875, 'colsample_bylevel': 0.801869090861523, 'colsample_bynode': 0.935597838940526}. Best is trial 135 with value: 525.2635661119577.\n",
      "[I 2024-04-08 09:25:18,701] Trial 168 finished with value: 723.8701856126221 and parameters: {'objective': 'reg:quantileerror', 'tree_method': 'exact', 'n_estimators': 483, 'learning_rate': 0.10266719609686967, 'colsample_bytree': 0.845920043016905, 'max_depth': 7, 'max_leaves': 15, 'reg_alpha': 0.4870262293934517, 'reg_lambda': 0.9446171645744702, 'subsample': 0.7609579143291108, 'gamma': 0.5836584277245076, 'min_child_weight': 6.348204765961677, 'colsample_bylevel': 0.7616518226735275, 'colsample_bynode': 0.9792558062756094, 'quantile_alpha': 0.4408306286528552}. Best is trial 135 with value: 525.2635661119577.\n",
      "[I 2024-04-08 09:25:21,339] Trial 169 finished with value: 527.1266639875209 and parameters: {'objective': 'reg:squarederror', 'tree_method': 'exact', 'n_estimators': 487, 'learning_rate': 0.03804667301889211, 'colsample_bytree': 0.7875928110170466, 'max_depth': 6, 'max_leaves': 16, 'reg_alpha': 0.38834546989306, 'reg_lambda': 0.9280219754470388, 'subsample': 0.8240157020450148, 'gamma': 0.5477051348685592, 'min_child_weight': 5.365471143883514, 'colsample_bylevel': 0.8037352063925121, 'colsample_bynode': 0.9552327771934842}. Best is trial 135 with value: 525.2635661119577.\n",
      "[I 2024-04-08 09:25:32,844] Trial 170 finished with value: 528.4713167327509 and parameters: {'objective': 'reg:squarederror', 'tree_method': 'exact', 'n_estimators': 491, 'learning_rate': 0.01199992836269473, 'colsample_bytree': 0.8652654281916372, 'max_depth': 15, 'max_leaves': 15, 'reg_alpha': 0.30203889789758587, 'reg_lambda': 0.8045506184378604, 'subsample': 0.8327337744869716, 'gamma': 0.6602118051699573, 'min_child_weight': 6.190250932169132, 'colsample_bylevel': 0.8688483942980931, 'colsample_bynode': 0.9777967838097084}. Best is trial 135 with value: 525.2635661119577.\n",
      "[I 2024-04-08 09:25:35,155] Trial 171 finished with value: 530.1992520326957 and parameters: {'objective': 'reg:squarederror', 'tree_method': 'exact', 'n_estimators': 484, 'learning_rate': 0.028374839088232972, 'colsample_bytree': 0.95151815374123, 'max_depth': 6, 'max_leaves': 16, 'reg_alpha': 0.32826970783487414, 'reg_lambda': 0.9059963612011606, 'subsample': 0.20145356904437417, 'gamma': 0.6261436570231479, 'min_child_weight': 5.701858873734731, 'colsample_bylevel': 0.7431262206391175, 'colsample_bynode': 0.9985264767295986}. Best is trial 135 with value: 525.2635661119577.\n",
      "[I 2024-04-08 09:25:37,666] Trial 172 finished with value: 529.1657443591585 and parameters: {'objective': 'reg:squarederror', 'tree_method': 'exact', 'n_estimators': 479, 'learning_rate': 0.0576635318926592, 'colsample_bytree': 0.9102378712007397, 'max_depth': 6, 'max_leaves': 17, 'reg_alpha': 0.3646356665349184, 'reg_lambda': 0.8813521013336344, 'subsample': 0.8588317013946624, 'gamma': 0.7010407624349508, 'min_child_weight': 5.920759611961195, 'colsample_bylevel': 0.6987486586356091, 'colsample_bynode': 0.9995048285938444}. Best is trial 135 with value: 525.2635661119577.\n",
      "[I 2024-04-08 09:25:40,423] Trial 173 finished with value: 527.8071947534014 and parameters: {'objective': 'reg:squarederror', 'tree_method': 'exact', 'n_estimators': 496, 'learning_rate': 0.01018889907706367, 'colsample_bytree': 0.8755623118551582, 'max_depth': 5, 'max_leaves': 16, 'reg_alpha': 0.2155321142284699, 'reg_lambda': 0.8367721302190149, 'subsample': 0.9015025315203256, 'gamma': 0.5888863579027888, 'min_child_weight': 5.559018483872751, 'colsample_bylevel': 0.7689926529138665, 'colsample_bynode': 0.9514962557180823}. Best is trial 135 with value: 525.2635661119577.\n",
      "[I 2024-04-08 09:25:42,780] Trial 174 finished with value: 646.4342010810426 and parameters: {'objective': 'reg:squarederror', 'tree_method': 'exact', 'n_estimators': 467, 'learning_rate': 0.83842305933189, 'colsample_bytree': 0.9343422187684471, 'max_depth': 5, 'max_leaves': 17, 'reg_alpha': 0.28769256421888695, 'reg_lambda': 0.9619578121048452, 'subsample': 0.8726781398082782, 'gamma': 0.6181533562973693, 'min_child_weight': 5.331470263961624, 'colsample_bylevel': 0.832105426937879, 'colsample_bynode': 0.9677200822171472}. Best is trial 135 with value: 525.2635661119577.\n",
      "[I 2024-04-08 09:25:45,549] Trial 175 finished with value: 535.6009747044761 and parameters: {'objective': 'reg:squarederror', 'tree_method': 'exact', 'n_estimators': 493, 'learning_rate': 0.07754293316480562, 'colsample_bytree': 0.8928383245659474, 'max_depth': 6, 'max_leaves': 18, 'reg_alpha': 0.4471591108930286, 'reg_lambda': 0.890397773020317, 'subsample': 0.8126674864313111, 'gamma': 0.5628032955005418, 'min_child_weight': 6.49698576979882, 'colsample_bylevel': 0.784197823125613, 'colsample_bynode': 0.9789805119250446}. Best is trial 135 with value: 525.2635661119577.\n",
      "[I 2024-04-08 09:25:48,678] Trial 176 finished with value: 529.4028398242536 and parameters: {'objective': 'reg:squarederror', 'tree_method': 'exact', 'n_estimators': 473, 'learning_rate': 0.034745171537339, 'colsample_bytree': 0.9677613995595181, 'max_depth': 7, 'max_leaves': 16, 'reg_alpha': 0.4024521981970031, 'reg_lambda': 0.9331384192704122, 'subsample': 0.8370197673500226, 'gamma': 0.6491762676323619, 'min_child_weight': 5.76631654056889, 'colsample_bylevel': 0.7181855076666228, 'colsample_bynode': 0.9293756970481449}. Best is trial 135 with value: 525.2635661119577.\n",
      "[I 2024-04-08 09:25:50,834] Trial 177 finished with value: 527.0232533340812 and parameters: {'objective': 'reg:squarederror', 'tree_method': 'exact', 'n_estimators': 488, 'learning_rate': 0.04650862413448129, 'colsample_bytree': 0.8348841256029846, 'max_depth': 5, 'max_leaves': 17, 'reg_alpha': 0.337624957922303, 'reg_lambda': 0.8611885337962876, 'subsample': 0.8904723469746392, 'gamma': 0.6371465830135755, 'min_child_weight': 5.142558813970887, 'colsample_bylevel': 0.8080577702611693, 'colsample_bynode': 0.9473332491751478}. Best is trial 135 with value: 525.2635661119577.\n",
      "[I 2024-04-08 09:25:53,342] Trial 178 finished with value: 526.5237002818798 and parameters: {'objective': 'reg:squarederror', 'tree_method': 'exact', 'n_estimators': 475, 'learning_rate': 0.027012076621854033, 'colsample_bytree': 0.8587364992675359, 'max_depth': 6, 'max_leaves': 16, 'reg_alpha': 0.5110315577242718, 'reg_lambda': 0.954281555827235, 'subsample': 0.7982054922531114, 'gamma': 0.5995159600897845, 'min_child_weight': 4.889599427193398, 'colsample_bylevel': 0.7440805897869909, 'colsample_bynode': 0.9008450272936621}. Best is trial 135 with value: 525.2635661119577.\n"
     ]
    },
    {
     "name": "stderr",
     "output_type": "stream",
     "text": [
      "[I 2024-04-08 09:25:55,485] Trial 179 finished with value: 530.0568818345226 and parameters: {'objective': 'reg:squarederror', 'tree_method': 'exact', 'n_estimators': 462, 'learning_rate': 0.06804343607724239, 'colsample_bytree': 0.9139067376814419, 'max_depth': 5, 'max_leaves': 16, 'reg_alpha': 0.25036751868458784, 'reg_lambda': 0.9732909330774463, 'subsample': 0.8552609490286988, 'gamma': 0.38824884382678687, 'min_child_weight': 6.011623242048916, 'colsample_bylevel': 0.7714607579382414, 'colsample_bynode': 0.9998941264605233}. Best is trial 135 with value: 525.2635661119577.\n",
      "[I 2024-04-08 09:25:56,751] Trial 180 finished with value: 691.8965090188132 and parameters: {'objective': 'reg:pseudohubererror', 'tree_method': 'exact', 'n_estimators': 484, 'learning_rate': 0.011215022068155106, 'colsample_bytree': 0.9789897741258938, 'max_depth': 13, 'max_leaves': 15, 'reg_alpha': 0.42126630451312347, 'reg_lambda': 0.913282595250507, 'subsample': 0.7753399712595463, 'gamma': 0.5418426506118871, 'min_child_weight': 5.5297950219392655, 'colsample_bylevel': 0.6851645010089344, 'colsample_bynode': 0.9797558188239177}. Best is trial 135 with value: 525.2635661119577.\n",
      "[I 2024-04-08 09:25:57,290] Trial 181 finished with value: 525.8599496524125 and parameters: {'objective': 'reg:squarederror', 'tree_method': 'auto', 'n_estimators': 459, 'learning_rate': 0.02660169260794404, 'colsample_bytree': 0.9555895055267519, 'max_depth': 5, 'max_leaves': 16, 'reg_alpha': 0.3600789563949232, 'reg_lambda': 0.9970285894385043, 'subsample': 0.8425642163288665, 'gamma': 0.6108130249103509, 'min_child_weight': 5.04579169340124, 'colsample_bylevel': 0.8517851359408048, 'colsample_bynode': 0.9629484792983789}. Best is trial 135 with value: 525.2635661119577.\n",
      "[I 2024-04-08 09:25:57,848] Trial 182 finished with value: 526.6693837375273 and parameters: {'objective': 'reg:squarederror', 'tree_method': 'auto', 'n_estimators': 469, 'learning_rate': 0.04013941391774914, 'colsample_bytree': 0.953553780106557, 'max_depth': 5, 'max_leaves': 16, 'reg_alpha': 0.31064116258580105, 'reg_lambda': 0.980628258789205, 'subsample': 0.8446637876690785, 'gamma': 0.5761092047714308, 'min_child_weight': 5.305998172040811, 'colsample_bylevel': 0.8356651847245051, 'colsample_bynode': 0.9634505850367563}. Best is trial 135 with value: 525.2635661119577.\n",
      "[I 2024-04-08 09:26:00,430] Trial 183 finished with value: 526.1357058331998 and parameters: {'objective': 'reg:squarederror', 'tree_method': 'exact', 'n_estimators': 459, 'learning_rate': 0.010332784613625419, 'colsample_bytree': 0.9281557182195156, 'max_depth': 6, 'max_leaves': 17, 'reg_alpha': 0.35102900108361285, 'reg_lambda': 0.9982131199148364, 'subsample': 0.8181552700341735, 'gamma': 0.6748880121797105, 'min_child_weight': 4.668336563934109, 'colsample_bylevel': 0.8856472095179273, 'colsample_bynode': 0.9230099050513594}. Best is trial 135 with value: 525.2635661119577.\n",
      "[I 2024-04-08 09:26:03,234] Trial 184 finished with value: 528.968431174253 and parameters: {'objective': 'reg:squarederror', 'tree_method': 'exact', 'n_estimators': 460, 'learning_rate': 0.053984659858938834, 'colsample_bytree': 0.9364237646024939, 'max_depth': 6, 'max_leaves': 17, 'reg_alpha': 0.3609762609267816, 'reg_lambda': 0.982895727367223, 'subsample': 0.824336039471583, 'gamma': 0.6683997557624046, 'min_child_weight': 4.751227600711326, 'colsample_bylevel': 0.8872695653526386, 'colsample_bynode': 0.9233254271980322}. Best is trial 135 with value: 525.2635661119577.\n",
      "[I 2024-04-08 09:26:04,023] Trial 185 finished with value: 529.768402911835 and parameters: {'objective': 'reg:squarederror', 'tree_method': 'approx', 'n_estimators': 449, 'learning_rate': 0.011829312492569376, 'colsample_bytree': 0.8905515036754437, 'max_depth': 6, 'max_leaves': 16, 'reg_alpha': 0.3816227840412022, 'reg_lambda': 0.9954967669561658, 'subsample': 0.8076676135868961, 'gamma': 0.6173234359793811, 'min_child_weight': 5.701079804013385, 'colsample_bylevel': 0.9295160142506081, 'colsample_bynode': 0.886665947925614}. Best is trial 135 with value: 525.2635661119577.\n",
      "[I 2024-04-08 09:26:09,241] Trial 186 finished with value: 527.2585160181907 and parameters: {'objective': 'reg:squarederror', 'tree_method': 'exact', 'n_estimators': 464, 'learning_rate': 0.03038591476298986, 'colsample_bytree': 0.9195748465746613, 'max_depth': 7, 'max_leaves': 17, 'reg_alpha': 0.3564102961005459, 'reg_lambda': 0.9533296933428403, 'subsample': 0.7916852231475219, 'gamma': 0.6874920149895014, 'min_child_weight': 5.058117422731993, 'colsample_bylevel': 0.8501701004603153, 'colsample_bynode': 0.9433435553076889}. Best is trial 135 with value: 525.2635661119577.\n",
      "[I 2024-04-08 09:26:09,856] Trial 187 finished with value: 530.482205182577 and parameters: {'objective': 'reg:squarederror', 'tree_method': 'auto', 'n_estimators': 454, 'learning_rate': 0.07950085955513497, 'colsample_bytree': 0.9279923879579755, 'max_depth': 6, 'max_leaves': 16, 'reg_alpha': 0.2759425188299423, 'reg_lambda': 0.9687214303561349, 'subsample': 0.8393415992417805, 'gamma': 0.6294886815504279, 'min_child_weight': 5.863312631425504, 'colsample_bylevel': 0.8966269505485652, 'colsample_bynode': 0.9176254070980109}. Best is trial 135 with value: 525.2635661119577.\n",
      "[I 2024-04-08 09:26:12,115] Trial 188 finished with value: 527.1182231314061 and parameters: {'objective': 'reg:squarederror', 'tree_method': 'exact', 'n_estimators': 458, 'learning_rate': 0.047249576543034924, 'colsample_bytree': 0.8724135970711682, 'max_depth': 5, 'max_leaves': 15, 'reg_alpha': 0.4576520581842463, 'reg_lambda': 0.9353977207710833, 'subsample': 0.860427011800116, 'gamma': 0.603340041962924, 'min_child_weight': 5.456252358734437, 'colsample_bylevel': 0.8683256620255376, 'colsample_bynode': 0.9625946946525086}. Best is trial 135 with value: 525.2635661119577.\n",
      "[I 2024-04-08 09:26:15,349] Trial 189 finished with value: 524.86363665548 and parameters: {'objective': 'reg:squarederror', 'tree_method': 'exact', 'n_estimators': 469, 'learning_rate': 0.010828519269792298, 'colsample_bytree': 0.8995344446458294, 'max_depth': 7, 'max_leaves': 14, 'reg_alpha': 0.3296000533693596, 'reg_lambda': 0.9985657278585574, 'subsample': 0.8880381991184233, 'gamma': 0.6477374799167938, 'min_child_weight': 5.245177086506111, 'colsample_bylevel': 0.8193715308608529, 'colsample_bynode': 0.9396813026994945}. Best is trial 189 with value: 524.86363665548.\n",
      "[I 2024-04-08 09:26:15,929] Trial 190 finished with value: 530.6663742567811 and parameters: {'objective': 'reg:squarederror', 'tree_method': 'auto', 'n_estimators': 470, 'learning_rate': 0.011520929650668291, 'colsample_bytree': 0.9786290863821854, 'max_depth': 14, 'max_leaves': 14, 'reg_alpha': 0.3242092355708345, 'reg_lambda': 0.9986963846271906, 'subsample': 0.9112844114300529, 'gamma': 0.6547550658216118, 'min_child_weight': 4.929761064838115, 'colsample_bylevel': 0.8170839195452411, 'colsample_bynode': 0.9351417788558923}. Best is trial 189 with value: 524.86363665548.\n",
      "[I 2024-04-08 09:26:19,715] Trial 191 finished with value: 527.1738694913972 and parameters: {'objective': 'reg:squarederror', 'tree_method': 'exact', 'n_estimators': 464, 'learning_rate': 0.030189984763032775, 'colsample_bytree': 0.8933476305342185, 'max_depth': 7, 'max_leaves': 15, 'reg_alpha': 0.3115352762235595, 'reg_lambda': 0.9680426403282558, 'subsample': 0.882910886474581, 'gamma': 0.706612929851537, 'min_child_weight': 5.1796616272324085, 'colsample_bylevel': 0.7947770514760035, 'colsample_bynode': 0.9791209281353541}. Best is trial 189 with value: 524.86363665548.\n",
      "[I 2024-04-08 09:26:24,734] Trial 192 finished with value: 533.674132864473 and parameters: {'objective': 'reg:squarederror', 'tree_method': 'exact', 'n_estimators': 478, 'learning_rate': 0.05896056877024415, 'colsample_bytree': 0.9996448715948663, 'max_depth': 6, 'max_leaves': 16, 'reg_alpha': 0.34596371162552625, 'reg_lambda': 0.9996271377783018, 'subsample': 0.8186685503357723, 'gamma': 0.6307727623879603, 'min_child_weight': 5.327932068703234, 'colsample_bylevel': 0.8285269927624994, 'colsample_bynode': 0.9523957589034264}. Best is trial 189 with value: 524.86363665548.\n",
      "[I 2024-04-08 09:26:28,009] Trial 193 finished with value: 525.7042136926391 and parameters: {'objective': 'reg:squarederror', 'tree_method': 'exact', 'n_estimators': 467, 'learning_rate': 0.010346832275942065, 'colsample_bytree': 0.9483933470777487, 'max_depth': 6, 'max_leaves': 15, 'reg_alpha': 0.3911268763086639, 'reg_lambda': 0.9514887972220974, 'subsample': 0.8627549178109656, 'gamma': 0.6818979864612624, 'min_child_weight': 4.635550131317343, 'colsample_bylevel': 0.9525121842769294, 'colsample_bynode': 0.9801772599742038}. Best is trial 189 with value: 524.86363665548.\n"
     ]
    },
    {
     "name": "stderr",
     "output_type": "stream",
     "text": [
      "[I 2024-04-08 09:26:31,267] Trial 194 finished with value: 525.7125521412387 and parameters: {'objective': 'reg:squarederror', 'tree_method': 'exact', 'n_estimators': 466, 'learning_rate': 0.011149743870183583, 'colsample_bytree': 0.9500653712942217, 'max_depth': 6, 'max_leaves': 14, 'reg_alpha': 0.39073880039787595, 'reg_lambda': 0.9482730795815311, 'subsample': 0.8711768429750826, 'gamma': 0.6656748184900938, 'min_child_weight': 4.581125993776513, 'colsample_bylevel': 0.9976955636841355, 'colsample_bynode': 0.9810069352921503}. Best is trial 189 with value: 524.86363665548.\n",
      "[I 2024-04-08 09:26:34,599] Trial 195 finished with value: 525.7679457689753 and parameters: {'objective': 'reg:squarederror', 'tree_method': 'exact', 'n_estimators': 467, 'learning_rate': 0.011275426035846414, 'colsample_bytree': 0.9488868544104663, 'max_depth': 6, 'max_leaves': 15, 'reg_alpha': 0.41419916472054724, 'reg_lambda': 0.9512682731591432, 'subsample': 0.8713514866478592, 'gamma': 0.6787626378014116, 'min_child_weight': 4.09800851153577, 'colsample_bylevel': 0.9971993076309447, 'colsample_bynode': 0.9750219867983365}. Best is trial 189 with value: 524.86363665548.\n",
      "[I 2024-04-08 09:26:38,395] Trial 196 finished with value: 525.0045615703153 and parameters: {'objective': 'reg:squarederror', 'tree_method': 'exact', 'n_estimators': 467, 'learning_rate': 0.010639246821212256, 'colsample_bytree': 0.9499769603649117, 'max_depth': 7, 'max_leaves': 14, 'reg_alpha': 0.40374674715911096, 'reg_lambda': 0.9437608610398401, 'subsample': 0.8678414323482757, 'gamma': 0.7416536386511499, 'min_child_weight': 4.043156482695736, 'colsample_bylevel': 0.9060185916884455, 'colsample_bynode': 0.9658136740742694}. Best is trial 189 with value: 524.86363665548.\n",
      "[I 2024-04-08 09:26:43,474] Trial 197 finished with value: 524.8731694717643 and parameters: {'objective': 'reg:squarederror', 'tree_method': 'exact', 'n_estimators': 468, 'learning_rate': 0.010582137277834486, 'colsample_bytree': 0.9566673324897195, 'max_depth': 7, 'max_leaves': 14, 'reg_alpha': 0.42907943668188836, 'reg_lambda': 0.9438205862206718, 'subsample': 0.8825394486989181, 'gamma': 0.7147706704793574, 'min_child_weight': 3.6125997517136734, 'colsample_bylevel': 0.9828147705767065, 'colsample_bynode': 0.963566275533664}. Best is trial 189 with value: 524.86363665548.\n",
      "[I 2024-04-08 09:26:47,323] Trial 198 finished with value: 530.7542261037435 and parameters: {'objective': 'reg:squarederror', 'tree_method': 'exact', 'n_estimators': 467, 'learning_rate': 0.044188983593131906, 'colsample_bytree': 0.9608157940888893, 'max_depth': 7, 'max_leaves': 14, 'reg_alpha': 0.41956410543378375, 'reg_lambda': 0.9415226639864976, 'subsample': 0.8704494066830281, 'gamma': 0.7349207042362441, 'min_child_weight': 3.5530454376041667, 'colsample_bylevel': 0.9982735980597033, 'colsample_bynode': 0.9784290300864413}. Best is trial 189 with value: 524.86363665548.\n",
      "[I 2024-04-08 09:26:50,153] Trial 199 finished with value: 786.404269355495 and parameters: {'objective': 'reg:squaredlogerror', 'tree_method': 'exact', 'n_estimators': 468, 'learning_rate': 0.0494208818578314, 'colsample_bytree': 0.9825354817924442, 'max_depth': 7, 'max_leaves': 14, 'reg_alpha': 0.4070439665288459, 'reg_lambda': 0.9314405974752458, 'subsample': 0.9194297087297488, 'gamma': 0.7439163144244411, 'min_child_weight': 4.066199032752792, 'colsample_bylevel': 0.9803640440636986, 'colsample_bynode': 0.9455003036954164}. Best is trial 189 with value: 524.86363665548.\n"
     ]
    },
    {
     "name": "stdout",
     "output_type": "stream",
     "text": [
      "Best hyperparameters: {'objective': 'reg:squarederror', 'tree_method': 'exact', 'n_estimators': 469, 'learning_rate': 0.010828519269792298, 'colsample_bytree': 0.8995344446458294, 'max_depth': 7, 'max_leaves': 14, 'reg_alpha': 0.3296000533693596, 'reg_lambda': 0.9985657278585574, 'subsample': 0.8880381991184233, 'gamma': 0.6477374799167938, 'min_child_weight': 5.245177086506111, 'colsample_bylevel': 0.8193715308608529, 'colsample_bynode': 0.9396813026994945}\n",
      "Best RMSE: 524.86363665548\n"
     ]
    }
   ],
   "source": [
    "def xgb_objective(trial):\n",
    "    param = {\n",
    "#         'tree_method':'gpu_hist',  # this parameter means using the GPU when training our model to speedup the training process\n",
    "#         'sampling_method': 'gradient_based',\n",
    "#         'lambda': trial.suggest_loguniform('lambda', 7.0, 17.0),\n",
    "#         'alpha': trial.suggest_loguniform('alpha', 7.0, 17.0),\n",
    "#         'eta': trial.suggest_categorical('eta', [0.3, 0.4, 0.5, 0.6, 0.7, 0.8, 0.9, 1.0]),\n",
    "#         'gamma': trial.suggest_categorical('gamma', [18, 19, 20, 21, 22, 23, 24, 25]),\n",
    "#         'learning_rate': trial.suggest_categorical('learning_rate', [0.008,0.01,0.012,0.014,0.016,0.018, 0.02]),\n",
    "#         'colsample_bytree': trial.suggest_categorical('colsample_bytree', [0.3,0.4,0.5,0.6,0.7,0.8,0.9, 1.0]),\n",
    "#         'colsample_bynode': trial.suggest_categorical('colsample_bynode', [0.3,0.4,0.5,0.6,0.7,0.8,0.9, 1.0]),\n",
    "#         'n_estimators': trial.suggest_int('n_estimators', 400, 1000),\n",
    "#         'min_child_weight': trial.suggest_int('min_child_weight', 8, 600),  \n",
    "#         'max_depth': trial.suggest_categorical('max_depth', [3, 4, 5, 6, 7]),  \n",
    "#         'subsample': trial.suggest_categorical('subsample', [0.5,0.6,0.7,0.8,1.0]),\n",
    "#         'random_state': 42\n",
    "        'objective' : trial.suggest_categorical('objective',['reg:squarederror','reg:squaredlogerror','reg:pseudohubererror','reg:quantileerror']),\n",
    "        'tree_method' :  trial.suggest_categorical('tree_method',['auto', 'exact', 'approx', 'hist']),\n",
    "        'n_estimators' : trial.suggest_int('n_estimators', 300, 500),\n",
    "        'learning_rate' : trial.suggest_float('learning_rate', 0.01, 1.0),\n",
    "        'colsample_bytree' : trial.suggest_float('colsample_bytree', 0.01, 1.0),\n",
    "        'max_depth' : trial.suggest_int('max_depth', 5, 20),\n",
    "        'max_leaves' : trial.suggest_int('max_leaves', 5, 20),\n",
    "        'reg_alpha' : trial.suggest_float('reg_alpha', 0.01, 1.0),\n",
    "        'reg_lambda' : trial.suggest_float('reg_lambda', 0.01, 1.0),\n",
    "        'subsample' : trial.suggest_float('subsample', 0.01, 1.0),\n",
    "        'gamma' : trial.suggest_float('gamma', 0.01, 1.0),\n",
    "        'min_child_weight' : trial.suggest_float('min_child_weight', 1, 10),\n",
    "        'colsample_bylevel' : trial.suggest_float('colsample_bylevel', 0.01, 1.0),\n",
    "        'colsample_bynode' : trial.suggest_float('colsample_bynode', 0.01, 1.0),\n",
    "        'quantile_alpha':trial.suggest_float('quantile_alpha', 0.01, 1.0) if trial.params['objective'] == 'reg:quantileerror' else None\n",
    "    }\n",
    "    \n",
    "    model = XGBRegressor(**param,\n",
    "                        n_jobs=-1)\n",
    "    model.fit(X_tr, y_tr)\n",
    "    y_pred = model.predict(X_val)\n",
    "    rmse = root_mean_squared_error(y_val, y_pred)\n",
    "    return rmse\n",
    "study = optuna.create_study(direction='minimize')\n",
    "study.optimize(xgb_objective, n_trials=200)\n",
    "print(f\"Best hyperparameters: {study.best_params}\")\n",
    "print(f\"Best RMSE: {study.best_value}\")\n",
    "xgb_best_params = study.best_params"
   ]
  },
  {
   "cell_type": "code",
   "execution_count": 72,
   "id": "e21de773",
   "metadata": {
    "ExecuteTime": {
     "end_time": "2024-04-08T00:33:57.550434Z",
     "start_time": "2024-04-08T00:26:50.159861Z"
    },
    "scrolled": true
   },
   "outputs": [
    {
     "name": "stderr",
     "output_type": "stream",
     "text": [
      "[I 2024-04-08 09:26:50,165] A new study created in memory with name: no-name-d3a02ed8-2795-40fd-a9ee-855a7b77b720\n",
      "[I 2024-04-08 09:26:50,762] Trial 0 finished with value: 521.8997429654592 and parameters: {'loss': 'poisson', 'quantile': 0.09547946239269785, 'max_iter': 239, 'learning_rate': 0.09123830993542811, 'l2_regularization': 0.08508682012029345, 'max_leaf_nodes': 6, 'min_samples_leaf': 24, 'max_depth': 9}. Best is trial 0 with value: 521.8997429654592.\n",
      "[I 2024-04-08 09:26:54,037] Trial 1 finished with value: 522.5141841621421 and parameters: {'loss': 'poisson', 'quantile': 0.06512936240602739, 'max_iter': 393, 'learning_rate': 0.0254346199387095, 'l2_regularization': 0.03541791540830104, 'max_leaf_nodes': 40, 'min_samples_leaf': 45, 'max_depth': 10}. Best is trial 0 with value: 521.8997429654592.\n",
      "[I 2024-04-08 09:26:54,791] Trial 2 finished with value: 521.7585727795272 and parameters: {'loss': 'squared_error', 'quantile': 0.07682644921349975, 'max_iter': 137, 'learning_rate': 0.04536389241997807, 'l2_regularization': 0.059965616442112776, 'max_leaf_nodes': 21, 'min_samples_leaf': 26, 'max_depth': 9}. Best is trial 2 with value: 521.7585727795272.\n",
      "[I 2024-04-08 09:26:55,279] Trial 3 finished with value: 521.7730310243555 and parameters: {'loss': 'squared_error', 'quantile': 0.013108486151524365, 'max_iter': 124, 'learning_rate': 0.09196718308638963, 'l2_regularization': 0.014404338246677592, 'max_leaf_nodes': 9, 'min_samples_leaf': 36, 'max_depth': 4}. Best is trial 2 with value: 521.7585727795272.\n",
      "[I 2024-04-08 09:26:55,437] Trial 4 finished with value: 567.3819332844516 and parameters: {'loss': 'squared_error', 'quantile': 0.04343655230602026, 'max_iter': 39, 'learning_rate': 0.019628218023607466, 'l2_regularization': 0.038060419848437325, 'max_leaf_nodes': 34, 'min_samples_leaf': 47, 'max_depth': 3}. Best is trial 2 with value: 521.7585727795272.\n",
      "[I 2024-04-08 09:26:56,453] Trial 5 finished with value: 577.7430529910449 and parameters: {'loss': 'absolute_error', 'quantile': 0.03128848608835368, 'max_iter': 45, 'learning_rate': 0.012810773682437441, 'l2_regularization': 0.08958207871426808, 'max_leaf_nodes': 46, 'min_samples_leaf': 6, 'max_depth': 11}. Best is trial 2 with value: 521.7585727795272.\n",
      "[I 2024-04-08 09:26:57,691] Trial 6 finished with value: 523.437106201669 and parameters: {'loss': 'poisson', 'quantile': 0.09110830678229372, 'max_iter': 168, 'learning_rate': 0.08994468748129897, 'l2_regularization': 0.05870906766526603, 'max_leaf_nodes': 50, 'min_samples_leaf': 48, 'max_depth': 12}. Best is trial 2 with value: 521.7585727795272.\n",
      "[I 2024-04-08 09:26:57,771] Trial 7 finished with value: 849.3954047919908 and parameters: {'loss': 'quantile', 'quantile': 0.09397901763604748, 'max_iter': 202, 'learning_rate': 0.04398148725976397, 'l2_regularization': 0.09921062678648866, 'max_leaf_nodes': 22, 'min_samples_leaf': 31, 'max_depth': 8}. Best is trial 2 with value: 521.7585727795272.\n",
      "[I 2024-04-08 09:26:57,854] Trial 8 finished with value: 849.3954047919908 and parameters: {'loss': 'quantile', 'quantile': 0.06333214540610876, 'max_iter': 383, 'learning_rate': 0.026677605594659263, 'l2_regularization': 0.04843453975498857, 'max_leaf_nodes': 50, 'min_samples_leaf': 49, 'max_depth': 5}. Best is trial 2 with value: 521.7585727795272.\n",
      "[I 2024-04-08 09:26:57,935] Trial 9 finished with value: 849.3954047919908 and parameters: {'loss': 'quantile', 'quantile': 0.07602347885339616, 'max_iter': 392, 'learning_rate': 0.04916315611830041, 'l2_regularization': 0.030528821490689795, 'max_leaf_nodes': 22, 'min_samples_leaf': 31, 'max_depth': 3}. Best is trial 2 with value: 521.7585727795272.\n",
      "[I 2024-04-08 09:26:58,816] Trial 10 finished with value: 521.7663885025422 and parameters: {'loss': 'squared_error', 'quantile': 0.07537654542093841, 'max_iter': 279, 'learning_rate': 0.06925998513374314, 'l2_regularization': 0.06871712806339698, 'max_leaf_nodes': 17, 'min_samples_leaf': 16, 'max_depth': 6}. Best is trial 2 with value: 521.7585727795272.\n",
      "[I 2024-04-08 09:26:59,851] Trial 11 finished with value: 521.1653383119773 and parameters: {'loss': 'squared_error', 'quantile': 0.07650042945698564, 'max_iter': 302, 'learning_rate': 0.07009541499394198, 'l2_regularization': 0.06587854769783734, 'max_leaf_nodes': 16, 'min_samples_leaf': 14, 'max_depth': 6}. Best is trial 11 with value: 521.1653383119773.\n",
      "[I 2024-04-08 09:27:00,460] Trial 12 finished with value: 521.6872642120593 and parameters: {'loss': 'squared_error', 'quantile': 0.07851820035295301, 'max_iter': 304, 'learning_rate': 0.07010559244524003, 'l2_regularization': 0.07077074742694553, 'max_leaf_nodes': 16, 'min_samples_leaf': 17, 'max_depth': 7}. Best is trial 11 with value: 521.1653383119773.\n",
      "[I 2024-04-08 09:27:01,117] Trial 13 finished with value: 521.7289256362241 and parameters: {'loss': 'squared_error', 'quantile': 0.050930902768825274, 'max_iter': 308, 'learning_rate': 0.06931613988346066, 'l2_regularization': 0.07507979813587308, 'max_leaf_nodes': 14, 'min_samples_leaf': 15, 'max_depth': 7}. Best is trial 11 with value: 521.1653383119773.\n",
      "[I 2024-04-08 09:27:02,867] Trial 14 finished with value: 522.1606790632554 and parameters: {'loss': 'absolute_error', 'quantile': 0.08384839340379525, 'max_iter': 499, 'learning_rate': 0.06935194878458659, 'l2_regularization': 0.07200871113900568, 'max_leaf_nodes': 29, 'min_samples_leaf': 14, 'max_depth': 6}. Best is trial 11 with value: 521.1653383119773.\n",
      "[I 2024-04-08 09:27:03,417] Trial 15 finished with value: 522.8283900942754 and parameters: {'loss': 'squared_error', 'quantile': 0.06064878270762032, 'max_iter': 325, 'learning_rate': 0.08011765967598791, 'l2_regularization': 0.08126489942193203, 'max_leaf_nodes': 13, 'min_samples_leaf': 6, 'max_depth': 7}. Best is trial 11 with value: 521.1653383119773.\n",
      "[I 2024-04-08 09:27:04,243] Trial 16 finished with value: 523.1878161358327 and parameters: {'loss': 'squared_error', 'quantile': 0.07040527487669865, 'max_iter': 469, 'learning_rate': 0.05809377708297417, 'l2_regularization': 0.049713818000242396, 'max_leaf_nodes': 29, 'min_samples_leaf': 20, 'max_depth': 5}. Best is trial 11 with value: 521.1653383119773.\n",
      "[I 2024-04-08 09:27:04,611] Trial 17 finished with value: 527.589788083489 and parameters: {'loss': 'squared_error', 'quantile': 0.08548377939961659, 'max_iter': 365, 'learning_rate': 0.0590960516733623, 'l2_regularization': 0.06651545581362281, 'max_leaf_nodes': 5, 'min_samples_leaf': 11, 'max_depth': 2}. Best is trial 11 with value: 521.1653383119773.\n",
      "[I 2024-04-08 09:27:05,603] Trial 18 finished with value: 527.1621522732725 and parameters: {'loss': 'absolute_error', 'quantile': 0.051659676495041204, 'max_iter': 230, 'learning_rate': 0.08014816439510226, 'l2_regularization': 0.09729436584806728, 'max_leaf_nodes': 16, 'min_samples_leaf': 21, 'max_depth': 8}. Best is trial 11 with value: 521.1653383119773.\n",
      "[I 2024-04-08 09:27:06,176] Trial 19 finished with value: 521.6153485816603 and parameters: {'loss': 'squared_error', 'quantile': 0.03873702378192268, 'max_iter': 326, 'learning_rate': 0.07674369159349956, 'l2_regularization': 0.047035660775268676, 'max_leaf_nodes': 11, 'min_samples_leaf': 10, 'max_depth': 6}. Best is trial 11 with value: 521.1653383119773.\n",
      "[I 2024-04-08 09:27:06,524] Trial 20 finished with value: 522.7768565131508 and parameters: {'loss': 'squared_error', 'quantile': 0.03242869568995268, 'max_iter': 349, 'learning_rate': 0.08091630312435663, 'l2_regularization': 0.021730127748003366, 'max_leaf_nodes': 10, 'min_samples_leaf': 10, 'max_depth': 5}. Best is trial 11 with value: 521.1653383119773.\n",
      "[I 2024-04-08 09:27:07,159] Trial 21 finished with value: 521.7132272560648 and parameters: {'loss': 'squared_error', 'quantile': 0.03594559095554701, 'max_iter': 282, 'learning_rate': 0.06510558774256554, 'l2_regularization': 0.048861621463340936, 'max_leaf_nodes': 21, 'min_samples_leaf': 19, 'max_depth': 6}. Best is trial 11 with value: 521.1653383119773.\n",
      "[I 2024-04-08 09:27:07,555] Trial 22 finished with value: 522.1962295384991 and parameters: {'loss': 'squared_error', 'quantile': 0.021973526748109786, 'max_iter': 438, 'learning_rate': 0.09946989489799739, 'l2_regularization': 0.06101648905955788, 'max_leaf_nodes': 11, 'min_samples_leaf': 10, 'max_depth': 7}. Best is trial 11 with value: 521.1653383119773.\n"
     ]
    },
    {
     "name": "stderr",
     "output_type": "stream",
     "text": [
      "[I 2024-04-08 09:27:08,224] Trial 23 finished with value: 522.744676974407 and parameters: {'loss': 'squared_error', 'quantile': 0.04166387669783999, 'max_iter': 303, 'learning_rate': 0.07766429354282817, 'l2_regularization': 0.04333694251318919, 'max_leaf_nodes': 19, 'min_samples_leaf': 5, 'max_depth': 8}. Best is trial 11 with value: 521.1653383119773.\n",
      "[I 2024-04-08 09:27:09,043] Trial 24 finished with value: 520.7999135741652 and parameters: {'loss': 'squared_error', 'quantile': 0.05643920735170049, 'max_iter': 438, 'learning_rate': 0.07391742539286848, 'l2_regularization': 0.07970143748517519, 'max_leaf_nodes': 26, 'min_samples_leaf': 12, 'max_depth': 4}. Best is trial 24 with value: 520.7999135741652.\n",
      "[I 2024-04-08 09:27:10,030] Trial 25 finished with value: 523.2979618436383 and parameters: {'loss': 'squared_error', 'quantile': 0.05460773027720873, 'max_iter': 429, 'learning_rate': 0.03666020962979148, 'l2_regularization': 0.08093622880615403, 'max_leaf_nodes': 34, 'min_samples_leaf': 12, 'max_depth': 4}. Best is trial 24 with value: 520.7999135741652.\n",
      "[I 2024-04-08 09:27:10,848] Trial 26 finished with value: 521.6278487520397 and parameters: {'loss': 'poisson', 'quantile': 0.04398448624124408, 'max_iter': 428, 'learning_rate': 0.06293066910286346, 'l2_regularization': 0.05488122065007135, 'max_leaf_nodes': 25, 'min_samples_leaf': 9, 'max_depth': 4}. Best is trial 24 with value: 520.7999135741652.\n",
      "[I 2024-04-08 09:27:11,696] Trial 27 finished with value: 539.8863558174944 and parameters: {'loss': 'absolute_error', 'quantile': 0.05895422170014686, 'max_iter': 339, 'learning_rate': 0.053007137983739065, 'l2_regularization': 0.09248761514014031, 'max_leaf_nodes': 26, 'min_samples_leaf': 23, 'max_depth': 2}. Best is trial 24 with value: 520.7999135741652.\n",
      "[I 2024-04-08 09:27:11,812] Trial 28 finished with value: 849.3954047919908 and parameters: {'loss': 'quantile', 'quantile': 0.0687972729739761, 'max_iter': 265, 'learning_rate': 0.08602705149307854, 'l2_regularization': 0.07677542404071983, 'max_leaf_nodes': 8, 'min_samples_leaf': 40, 'max_depth': 3}. Best is trial 24 with value: 520.7999135741652.\n",
      "[I 2024-04-08 09:27:12,410] Trial 29 finished with value: 522.7112415964184 and parameters: {'loss': 'poisson', 'quantile': 0.02204766137457074, 'max_iter': 247, 'learning_rate': 0.07557901791329649, 'l2_regularization': 0.06320374871326503, 'max_leaf_nodes': 33, 'min_samples_leaf': 24, 'max_depth': 5}. Best is trial 24 with value: 520.7999135741652.\n",
      "[I 2024-04-08 09:27:12,820] Trial 30 finished with value: 523.4354248948355 and parameters: {'loss': 'squared_error', 'quantile': 0.09750481326953267, 'max_iter': 468, 'learning_rate': 0.0986931440430461, 'l2_regularization': 0.08516248134538368, 'max_leaf_nodes': 13, 'min_samples_leaf': 13, 'max_depth': 6}. Best is trial 24 with value: 520.7999135741652.\n",
      "[I 2024-04-08 09:27:13,395] Trial 31 finished with value: 523.5092329238759 and parameters: {'loss': 'poisson', 'quantile': 0.045957146812250244, 'max_iter': 418, 'learning_rate': 0.06292594292966894, 'l2_regularization': 0.05592782576973496, 'max_leaf_nodes': 25, 'min_samples_leaf': 9, 'max_depth': 4}. Best is trial 24 with value: 520.7999135741652.\n",
      "[I 2024-04-08 09:27:13,917] Trial 32 finished with value: 522.2147659476794 and parameters: {'loss': 'poisson', 'quantile': 0.038070865924628654, 'max_iter': 413, 'learning_rate': 0.0733401282100672, 'l2_regularization': 0.05246273713157714, 'max_leaf_nodes': 25, 'min_samples_leaf': 8, 'max_depth': 4}. Best is trial 24 with value: 520.7999135741652.\n",
      "[I 2024-04-08 09:27:14,594] Trial 33 finished with value: 521.7526727785298 and parameters: {'loss': 'poisson', 'quantile': 0.026497315892907963, 'max_iter': 459, 'learning_rate': 0.06242995255868174, 'l2_regularization': 0.03860988800041372, 'max_leaf_nodes': 32, 'min_samples_leaf': 17, 'max_depth': 5}. Best is trial 24 with value: 520.7999135741652.\n",
      "[I 2024-04-08 09:27:14,962] Trial 34 finished with value: 524.836439369438 and parameters: {'loss': 'poisson', 'quantile': 0.047188346496298904, 'max_iter': 498, 'learning_rate': 0.08841171859125936, 'l2_regularization': 0.03043024094394793, 'max_leaf_nodes': 39, 'min_samples_leaf': 8, 'max_depth': 3}. Best is trial 24 with value: 520.7999135741652.\n",
      "[I 2024-04-08 09:27:16,405] Trial 35 finished with value: 521.4726871862866 and parameters: {'loss': 'poisson', 'quantile': 0.05731836714540602, 'max_iter': 371, 'learning_rate': 0.05685291812101929, 'l2_regularization': 0.06485031830469558, 'max_leaf_nodes': 38, 'min_samples_leaf': 12, 'max_depth': 9}. Best is trial 24 with value: 520.7999135741652.\n",
      "[I 2024-04-08 09:27:17,482] Trial 36 finished with value: 523.0845776024736 and parameters: {'loss': 'squared_error', 'quantile': 0.06825691114100484, 'max_iter': 362, 'learning_rate': 0.05312696935986932, 'l2_regularization': 0.06537133433051101, 'max_leaf_nodes': 40, 'min_samples_leaf': 13, 'max_depth': 10}. Best is trial 24 with value: 520.7999135741652.\n",
      "[I 2024-04-08 09:27:18,136] Trial 37 finished with value: 522.8550304881139 and parameters: {'loss': 'squared_error', 'quantile': 0.059306541288547725, 'max_iter': 389, 'learning_rate': 0.08401701766513667, 'l2_regularization': 0.04218842338318263, 'max_leaf_nodes': 37, 'min_samples_leaf': 28, 'max_depth': 9}. Best is trial 24 with value: 520.7999135741652.\n",
      "[I 2024-04-08 09:27:20,321] Trial 38 finished with value: 521.3633039730694 and parameters: {'loss': 'poisson', 'quantile': 0.05496237955631118, 'max_iter': 219, 'learning_rate': 0.039526258141219114, 'l2_regularization': 0.07882973969355613, 'max_leaf_nodes': 44, 'min_samples_leaf': 18, 'max_depth': 10}. Best is trial 24 with value: 520.7999135741652.\n",
      "[I 2024-04-08 09:27:22,077] Trial 39 finished with value: 522.4337706418395 and parameters: {'loss': 'poisson', 'quantile': 0.05374388783489699, 'max_iter': 124, 'learning_rate': 0.04675323656200991, 'l2_regularization': 0.08447725997979275, 'max_leaf_nodes': 42, 'min_samples_leaf': 26, 'max_depth': 10}. Best is trial 24 with value: 520.7999135741652.\n",
      "[I 2024-04-08 09:27:24,342] Trial 40 finished with value: 522.2961574130405 and parameters: {'loss': 'poisson', 'quantile': 0.06489783849176911, 'max_iter': 204, 'learning_rate': 0.0425950572034488, 'l2_regularization': 0.07526559227527123, 'max_leaf_nodes': 45, 'min_samples_leaf': 18, 'max_depth': 12}. Best is trial 24 with value: 520.7999135741652.\n",
      "[I 2024-04-08 09:27:28,075] Trial 41 finished with value: 522.1929694406003 and parameters: {'loss': 'poisson', 'quantile': 0.011868875515125818, 'max_iter': 226, 'learning_rate': 0.03370084521885411, 'l2_regularization': 0.09151277338947386, 'max_leaf_nodes': 44, 'min_samples_leaf': 15, 'max_depth': 11}. Best is trial 24 with value: 520.7999135741652.\n",
      "[I 2024-04-08 09:27:29,163] Trial 42 finished with value: 523.2913621114277 and parameters: {'loss': 'poisson', 'quantile': 0.04946909765386101, 'max_iter': 168, 'learning_rate': 0.039243203327092885, 'l2_regularization': 0.058455797433772015, 'max_leaf_nodes': 7, 'min_samples_leaf': 12, 'max_depth': 9}. Best is trial 24 with value: 520.7999135741652.\n",
      "[I 2024-04-08 09:27:29,295] Trial 43 finished with value: 849.3954047919908 and parameters: {'loss': 'quantile', 'quantile': 0.07112598783815945, 'max_iter': 73, 'learning_rate': 0.025142220544906013, 'l2_regularization': 0.08007395000122695, 'max_leaf_nodes': 42, 'min_samples_leaf': 22, 'max_depth': 9}. Best is trial 24 with value: 520.7999135741652.\n",
      "[I 2024-04-08 09:27:31,396] Trial 44 finished with value: 525.2695655023723 and parameters: {'loss': 'absolute_error', 'quantile': 0.05786483952492984, 'max_iter': 329, 'learning_rate': 0.07278440013829604, 'l2_regularization': 0.0692788384578125, 'max_leaf_nodes': 47, 'min_samples_leaf': 7, 'max_depth': 11}. Best is trial 24 with value: 520.7999135741652.\n",
      "[I 2024-04-08 09:27:34,215] Trial 45 finished with value: 529.4224927877314 and parameters: {'loss': 'squared_error', 'quantile': 0.03999636052878319, 'max_iter': 164, 'learning_rate': 0.011154275035247505, 'l2_regularization': 0.08613825047846664, 'max_leaf_nodes': 37, 'min_samples_leaf': 15, 'max_depth': 10}. Best is trial 24 with value: 520.7999135741652.\n",
      "[I 2024-04-08 09:27:35,390] Trial 46 finished with value: 521.5830760535855 and parameters: {'loss': 'poisson', 'quantile': 0.08332199425781033, 'max_iter': 375, 'learning_rate': 0.04994082300343563, 'l2_regularization': 0.07333932438576136, 'max_leaf_nodes': 18, 'min_samples_leaf': 18, 'max_depth': 8}. Best is trial 24 with value: 520.7999135741652.\n"
     ]
    },
    {
     "name": "stderr",
     "output_type": "stream",
     "text": [
      "[I 2024-04-08 09:27:37,205] Trial 47 finished with value: 520.6372072595426 and parameters: {'loss': 'poisson', 'quantile': 0.08984462545365551, 'max_iter': 362, 'learning_rate': 0.03117321150458558, 'l2_regularization': 0.0727948302369876, 'max_leaf_nodes': 19, 'min_samples_leaf': 18, 'max_depth': 8}. Best is trial 47 with value: 520.6372072595426.\n",
      "[I 2024-04-08 09:27:39,505] Trial 48 finished with value: 522.2644976598084 and parameters: {'loss': 'poisson', 'quantile': 0.07838883095283077, 'max_iter': 287, 'learning_rate': 0.0292667169923019, 'l2_regularization': 0.06659819602556043, 'max_leaf_nodes': 48, 'min_samples_leaf': 32, 'max_depth': 8}. Best is trial 47 with value: 520.6372072595426.\n",
      "[I 2024-04-08 09:27:43,155] Trial 49 finished with value: 520.862584910846 and parameters: {'loss': 'poisson', 'quantile': 0.08955411144286356, 'max_iter': 399, 'learning_rate': 0.018117029202812086, 'l2_regularization': 0.07822537042258004, 'max_leaf_nodes': 23, 'min_samples_leaf': 20, 'max_depth': 11}. Best is trial 47 with value: 520.6372072595426.\n",
      "[I 2024-04-08 09:27:46,338] Trial 50 finished with value: 522.177184177394 and parameters: {'loss': 'poisson', 'quantile': 0.09023221242825986, 'max_iter': 399, 'learning_rate': 0.014903819071972932, 'l2_regularization': 0.07819546220204025, 'max_leaf_nodes': 23, 'min_samples_leaf': 20, 'max_depth': 11}. Best is trial 47 with value: 520.6372072595426.\n",
      "[I 2024-04-08 09:27:49,538] Trial 51 finished with value: 520.2531201484805 and parameters: {'loss': 'poisson', 'quantile': 0.09162373831494408, 'max_iter': 450, 'learning_rate': 0.019266303471262583, 'l2_regularization': 0.07235386978663513, 'max_leaf_nodes': 19, 'min_samples_leaf': 16, 'max_depth': 12}. Best is trial 51 with value: 520.2531201484805.\n",
      "[I 2024-04-08 09:27:53,116] Trial 52 finished with value: 522.0083388269692 and parameters: {'loss': 'poisson', 'quantile': 0.09252610170977038, 'max_iter': 448, 'learning_rate': 0.016527045030693393, 'l2_regularization': 0.07225963209287616, 'max_leaf_nodes': 19, 'min_samples_leaf': 25, 'max_depth': 12}. Best is trial 51 with value: 520.2531201484805.\n",
      "[I 2024-04-08 09:27:56,310] Trial 53 finished with value: 519.9195229576469 and parameters: {'loss': 'poisson', 'quantile': 0.09957899049748278, 'max_iter': 406, 'learning_rate': 0.019911806822682364, 'l2_regularization': 0.08859515712797791, 'max_leaf_nodes': 23, 'min_samples_leaf': 17, 'max_depth': 12}. Best is trial 53 with value: 519.9195229576469.\n",
      "[I 2024-04-08 09:27:58,294] Trial 54 finished with value: 520.8174137431707 and parameters: {'loss': 'poisson', 'quantile': 0.08933972083469253, 'max_iter': 402, 'learning_rate': 0.022853554641962103, 'l2_regularization': 0.0972644043646725, 'max_leaf_nodes': 15, 'min_samples_leaf': 28, 'max_depth': 12}. Best is trial 53 with value: 519.9195229576469.\n",
      "[I 2024-04-08 09:28:01,542] Trial 55 finished with value: 520.9331948216172 and parameters: {'loss': 'poisson', 'quantile': 0.09842227742268364, 'max_iter': 481, 'learning_rate': 0.02092915292922016, 'l2_regularization': 0.09653804003447332, 'max_leaf_nodes': 29, 'min_samples_leaf': 31, 'max_depth': 12}. Best is trial 53 with value: 519.9195229576469.\n",
      "[I 2024-04-08 09:28:04,955] Trial 56 finished with value: 521.9985266273524 and parameters: {'loss': 'poisson', 'quantile': 0.08782637748137054, 'max_iter': 404, 'learning_rate': 0.021892573003744628, 'l2_regularization': 0.08855047836621144, 'max_leaf_nodes': 23, 'min_samples_leaf': 28, 'max_depth': 12}. Best is trial 53 with value: 519.9195229576469.\n",
      "[I 2024-04-08 09:28:06,893] Trial 57 finished with value: 521.3818689092699 and parameters: {'loss': 'poisson', 'quantile': 0.09498974203196098, 'max_iter': 447, 'learning_rate': 0.03136769108020259, 'l2_regularization': 0.09561402208998318, 'max_leaf_nodes': 21, 'min_samples_leaf': 21, 'max_depth': 11}. Best is trial 53 with value: 519.9195229576469.\n",
      "[I 2024-04-08 09:28:07,022] Trial 58 finished with value: 849.3954047919908 and parameters: {'loss': 'quantile', 'quantile': 0.08143345002198032, 'max_iter': 353, 'learning_rate': 0.024912217825515882, 'l2_regularization': 0.08308732920577604, 'max_leaf_nodes': 20, 'min_samples_leaf': 29, 'max_depth': 11}. Best is trial 53 with value: 519.9195229576469.\n",
      "[I 2024-04-08 09:28:10,349] Trial 59 finished with value: 521.2120468282171 and parameters: {'loss': 'poisson', 'quantile': 0.08954103682126258, 'max_iter': 480, 'learning_rate': 0.018158663961134802, 'l2_regularization': 0.08912645603792392, 'max_leaf_nodes': 14, 'min_samples_leaf': 34, 'max_depth': 12}. Best is trial 53 with value: 519.9195229576469.\n",
      "[I 2024-04-08 09:28:14,767] Trial 60 finished with value: 521.7047570170226 and parameters: {'loss': 'poisson', 'quantile': 0.08648578693543657, 'max_iter': 387, 'learning_rate': 0.014581948688013678, 'l2_regularization': 0.09900272149911876, 'max_leaf_nodes': 27, 'min_samples_leaf': 40, 'max_depth': 12}. Best is trial 53 with value: 519.9195229576469.\n",
      "[I 2024-04-08 09:28:17,434] Trial 61 finished with value: 520.829636862902 and parameters: {'loss': 'poisson', 'quantile': 0.09922660993946053, 'max_iter': 478, 'learning_rate': 0.022866469779870065, 'l2_regularization': 0.09395525907291688, 'max_leaf_nodes': 31, 'min_samples_leaf': 30, 'max_depth': 12}. Best is trial 53 with value: 519.9195229576469.\n",
      "[I 2024-04-08 09:28:21,092] Trial 62 finished with value: 519.2947262865175 and parameters: {'loss': 'poisson', 'quantile': 0.0964488024582681, 'max_iter': 424, 'learning_rate': 0.023003980346660943, 'l2_regularization': 0.09443628002020733, 'max_leaf_nodes': 31, 'min_samples_leaf': 16, 'max_depth': 11}. Best is trial 62 with value: 519.2947262865175.\n",
      "[I 2024-04-08 09:28:23,959] Trial 63 finished with value: 519.6107478492672 and parameters: {'loss': 'poisson', 'quantile': 0.09590161659982145, 'max_iter': 429, 'learning_rate': 0.022992806803903, 'l2_regularization': 0.09351030919914209, 'max_leaf_nodes': 30, 'min_samples_leaf': 35, 'max_depth': 12}. Best is trial 62 with value: 519.2947262865175.\n",
      "[I 2024-04-08 09:28:28,141] Trial 64 finished with value: 525.7244826460247 and parameters: {'loss': 'absolute_error', 'quantile': 0.09411621095897603, 'max_iter': 426, 'learning_rate': 0.028639525113173556, 'l2_regularization': 0.08754728441269298, 'max_leaf_nodes': 30, 'min_samples_leaf': 40, 'max_depth': 12}. Best is trial 62 with value: 519.2947262865175.\n",
      "[I 2024-04-08 09:28:30,023] Trial 65 finished with value: 521.7099839818985 and parameters: {'loss': 'poisson', 'quantile': 0.09626450705572717, 'max_iter': 436, 'learning_rate': 0.03320514390113505, 'l2_regularization': 0.0914838312544498, 'max_leaf_nodes': 27, 'min_samples_leaf': 35, 'max_depth': 11}. Best is trial 62 with value: 519.2947262865175.\n",
      "[I 2024-04-08 09:28:35,973] Trial 66 finished with value: 520.1953045741919 and parameters: {'loss': 'poisson', 'quantile': 0.09965100373509636, 'max_iter': 457, 'learning_rate': 0.010308331956716937, 'l2_regularization': 0.09409609896075433, 'max_leaf_nodes': 35, 'min_samples_leaf': 37, 'max_depth': 11}. Best is trial 62 with value: 519.2947262865175.\n",
      "[I 2024-04-08 09:28:42,183] Trial 67 finished with value: 520.1830683401183 and parameters: {'loss': 'poisson', 'quantile': 0.09313818084410458, 'max_iter': 455, 'learning_rate': 0.010170641561367585, 'l2_regularization': 0.08336287958298241, 'max_leaf_nodes': 34, 'min_samples_leaf': 38, 'max_depth': 10}. Best is trial 62 with value: 519.2947262865175.\n",
      "[I 2024-04-08 09:28:48,808] Trial 68 finished with value: 520.9004768809409 and parameters: {'loss': 'poisson', 'quantile': 0.09342457848683972, 'max_iter': 496, 'learning_rate': 0.010302005692080219, 'l2_regularization': 0.09984109812058341, 'max_leaf_nodes': 34, 'min_samples_leaf': 38, 'max_depth': 11}. Best is trial 62 with value: 519.2947262865175.\n",
      "[I 2024-04-08 09:28:54,524] Trial 69 finished with value: 520.7869581457138 and parameters: {'loss': 'poisson', 'quantile': 0.09996506029605699, 'max_iter': 464, 'learning_rate': 0.014968410668849484, 'l2_regularization': 0.09444116278700458, 'max_leaf_nodes': 35, 'min_samples_leaf': 45, 'max_depth': 10}. Best is trial 62 with value: 519.2947262865175.\n",
      "[I 2024-04-08 09:29:00,380] Trial 70 finished with value: 521.8250956420638 and parameters: {'loss': 'poisson', 'quantile': 0.09563593859280055, 'max_iter': 454, 'learning_rate': 0.01323536396269943, 'l2_regularization': 0.0819397770802372, 'max_leaf_nodes': 36, 'min_samples_leaf': 44, 'max_depth': 11}. Best is trial 62 with value: 519.2947262865175.\n"
     ]
    },
    {
     "name": "stderr",
     "output_type": "stream",
     "text": [
      "[I 2024-04-08 09:29:03,954] Trial 71 finished with value: 520.5009339974899 and parameters: {'loss': 'poisson', 'quantile': 0.09924381188753169, 'max_iter': 462, 'learning_rate': 0.01974995845542434, 'l2_regularization': 0.09390439221115293, 'max_leaf_nodes': 35, 'min_samples_leaf': 45, 'max_depth': 10}. Best is trial 62 with value: 519.2947262865175.\n",
      "[I 2024-04-08 09:29:07,400] Trial 72 finished with value: 521.7162704368889 and parameters: {'loss': 'poisson', 'quantile': 0.0922390512581509, 'max_iter': 422, 'learning_rate': 0.018491934265632417, 'l2_regularization': 0.09011805617295321, 'max_leaf_nodes': 31, 'min_samples_leaf': 50, 'max_depth': 10}. Best is trial 62 with value: 519.2947262865175.\n",
      "[I 2024-04-08 09:29:10,147] Trial 73 finished with value: 521.6863819119732 and parameters: {'loss': 'poisson', 'quantile': 0.09717856472838371, 'max_iter': 412, 'learning_rate': 0.027256820788385833, 'l2_regularization': 0.08652863400396199, 'max_leaf_nodes': 35, 'min_samples_leaf': 42, 'max_depth': 10}. Best is trial 62 with value: 519.2947262865175.\n",
      "[I 2024-04-08 09:29:15,334] Trial 74 finished with value: 521.5257928750655 and parameters: {'loss': 'poisson', 'quantile': 0.08408376946369886, 'max_iter': 442, 'learning_rate': 0.011401343460885453, 'l2_regularization': 0.0928206980468144, 'max_leaf_nodes': 33, 'min_samples_leaf': 47, 'max_depth': 11}. Best is trial 62 with value: 519.2947262865175.\n",
      "[I 2024-04-08 09:29:18,232] Trial 75 finished with value: 522.1045586070788 and parameters: {'loss': 'poisson', 'quantile': 0.08109937485033063, 'max_iter': 484, 'learning_rate': 0.019918819617490695, 'l2_regularization': 0.0836679950370914, 'max_leaf_nodes': 29, 'min_samples_leaf': 38, 'max_depth': 12}. Best is trial 62 with value: 519.2947262865175.\n",
      "[I 2024-04-08 09:29:22,282] Trial 76 finished with value: 520.8153707015908 and parameters: {'loss': 'poisson', 'quantile': 0.09969007074379427, 'max_iter': 458, 'learning_rate': 0.016782995414724083, 'l2_regularization': 0.08942483862855881, 'max_leaf_nodes': 32, 'min_samples_leaf': 37, 'max_depth': 11}. Best is trial 62 with value: 519.2947262865175.\n",
      "[I 2024-04-08 09:29:22,404] Trial 77 finished with value: 849.3954047919908 and parameters: {'loss': 'quantile', 'quantile': 0.09191141991300507, 'max_iter': 466, 'learning_rate': 0.0231454981775445, 'l2_regularization': 0.0957813080915747, 'max_leaf_nodes': 18, 'min_samples_leaf': 34, 'max_depth': 9}. Best is trial 62 with value: 519.2947262865175.\n",
      "[I 2024-04-08 09:29:26,761] Trial 78 finished with value: 521.4339900838353 and parameters: {'loss': 'poisson', 'quantile': 0.08744165706531686, 'max_iter': 435, 'learning_rate': 0.013225263328243699, 'l2_regularization': 0.010606868213007409, 'max_leaf_nodes': 28, 'min_samples_leaf': 43, 'max_depth': 10}. Best is trial 62 with value: 519.2947262865175.\n",
      "[I 2024-04-08 09:29:30,432] Trial 79 finished with value: 525.5923084610683 and parameters: {'loss': 'absolute_error', 'quantile': 0.09588249979804757, 'max_iter': 421, 'learning_rate': 0.026063588342429257, 'l2_regularization': 0.09226677804565063, 'max_leaf_nodes': 33, 'min_samples_leaf': 16, 'max_depth': 12}. Best is trial 62 with value: 519.2947262865175.\n",
      "[I 2024-04-08 09:29:32,627] Trial 80 finished with value: 521.8447893361651 and parameters: {'loss': 'poisson', 'quantile': 0.09716477449161551, 'max_iter': 491, 'learning_rate': 0.031231979879085478, 'l2_regularization': 0.08638069743281807, 'max_leaf_nodes': 24, 'min_samples_leaf': 36, 'max_depth': 11}. Best is trial 62 with value: 519.2947262865175.\n",
      "[I 2024-04-08 09:29:36,666] Trial 81 finished with value: 520.2832996539197 and parameters: {'loss': 'poisson', 'quantile': 0.09972295373945535, 'max_iter': 469, 'learning_rate': 0.015372105394256732, 'l2_regularization': 0.09478557024823606, 'max_leaf_nodes': 40, 'min_samples_leaf': 46, 'max_depth': 10}. Best is trial 62 with value: 519.2947262865175.\n",
      "[I 2024-04-08 09:29:40,061] Trial 82 finished with value: 521.1365671476697 and parameters: {'loss': 'poisson', 'quantile': 0.0941622416244806, 'max_iter': 443, 'learning_rate': 0.019473119281882945, 'l2_regularization': 0.09808821802252896, 'max_leaf_nodes': 40, 'min_samples_leaf': 45, 'max_depth': 10}. Best is trial 62 with value: 519.2947262865175.\n",
      "[I 2024-04-08 09:29:44,099] Trial 83 finished with value: 521.8603923364274 and parameters: {'loss': 'poisson', 'quantile': 0.09133396248615851, 'max_iter': 471, 'learning_rate': 0.016172220621841094, 'l2_regularization': 0.09350635042235401, 'max_leaf_nodes': 38, 'min_samples_leaf': 49, 'max_depth': 10}. Best is trial 62 with value: 519.2947262865175.\n",
      "[I 2024-04-08 09:29:49,315] Trial 84 finished with value: 521.2154570383199 and parameters: {'loss': 'poisson', 'quantile': 0.09806122041827535, 'max_iter': 455, 'learning_rate': 0.010023457751859617, 'l2_regularization': 0.08436833949379323, 'max_leaf_nodes': 36, 'min_samples_leaf': 42, 'max_depth': 9}. Best is trial 62 with value: 519.2947262865175.\n",
      "[I 2024-04-08 09:29:53,674] Trial 85 finished with value: 520.5748603626537 and parameters: {'loss': 'poisson', 'quantile': 0.09458243931527123, 'max_iter': 383, 'learning_rate': 0.012943267265688205, 'l2_regularization': 0.0907819138542579, 'max_leaf_nodes': 31, 'min_samples_leaf': 46, 'max_depth': 11}. Best is trial 62 with value: 519.2947262865175.\n",
      "[I 2024-04-08 09:29:57,873] Trial 86 finished with value: 519.5805175383387 and parameters: {'loss': 'poisson', 'quantile': 0.09408917885266133, 'max_iter': 411, 'learning_rate': 0.012576720544756706, 'l2_regularization': 0.09041118048733335, 'max_leaf_nodes': 30, 'min_samples_leaf': 47, 'max_depth': 11}. Best is trial 62 with value: 519.2947262865175.\n",
      "[I 2024-04-08 09:30:01,792] Trial 87 finished with value: 520.5512068525153 and parameters: {'loss': 'poisson', 'quantile': 0.0969694483940466, 'max_iter': 410, 'learning_rate': 0.02059208241814324, 'l2_regularization': 0.09529053518928232, 'max_leaf_nodes': 35, 'min_samples_leaf': 41, 'max_depth': 12}. Best is trial 62 with value: 519.2947262865175.\n",
      "[I 2024-04-08 09:30:07,267] Trial 88 finished with value: 522.7504473946109 and parameters: {'loss': 'poisson', 'quantile': 0.08658070857794246, 'max_iter': 430, 'learning_rate': 0.012680714166799622, 'l2_regularization': 0.08804949454888499, 'max_leaf_nodes': 42, 'min_samples_leaf': 49, 'max_depth': 11}. Best is trial 62 with value: 519.2947262865175.\n",
      "[I 2024-04-08 09:30:10,677] Trial 89 finished with value: 521.9412908816846 and parameters: {'loss': 'poisson', 'quantile': 0.0919814156844457, 'max_iter': 467, 'learning_rate': 0.016696343508119486, 'l2_regularization': 0.09830700453434782, 'max_leaf_nodes': 30, 'min_samples_leaf': 46, 'max_depth': 12}. Best is trial 62 with value: 519.2947262865175.\n",
      "[I 2024-04-08 09:30:10,801] Trial 90 finished with value: 849.3954047919908 and parameters: {'loss': 'quantile', 'quantile': 0.09965606481689525, 'max_iter': 500, 'learning_rate': 0.024386452129393194, 'l2_regularization': 0.09119684248062067, 'max_leaf_nodes': 32, 'min_samples_leaf': 48, 'max_depth': 10}. Best is trial 62 with value: 519.2947262865175.\n",
      "[I 2024-04-08 09:30:14,682] Trial 91 finished with value: 522.3390952947152 and parameters: {'loss': 'poisson', 'quantile': 0.09680602229538289, 'max_iter': 410, 'learning_rate': 0.020506775197224665, 'l2_regularization': 0.09500060627141488, 'max_leaf_nodes': 34, 'min_samples_leaf': 41, 'max_depth': 12}. Best is trial 62 with value: 519.2947262865175.\n",
      "[I 2024-04-08 09:30:19,678] Trial 92 finished with value: 521.9432757601329 and parameters: {'loss': 'poisson', 'quantile': 0.09367138699170069, 'max_iter': 449, 'learning_rate': 0.014473218257117008, 'l2_regularization': 0.0963242796135527, 'max_leaf_nodes': 35, 'min_samples_leaf': 39, 'max_depth': 12}. Best is trial 62 with value: 519.2947262865175.\n",
      "[I 2024-04-08 09:30:22,937] Trial 93 finished with value: 520.9703583733999 and parameters: {'loss': 'poisson', 'quantile': 0.09642637476965193, 'max_iter': 409, 'learning_rate': 0.02113246742723497, 'l2_regularization': 0.09392146025449277, 'max_leaf_nodes': 39, 'min_samples_leaf': 43, 'max_depth': 11}. Best is trial 62 with value: 519.2947262865175.\n",
      "[I 2024-04-08 09:30:26,483] Trial 94 finished with value: 520.5456895946771 and parameters: {'loss': 'poisson', 'quantile': 0.09804106036015951, 'max_iter': 418, 'learning_rate': 0.017205234024555698, 'l2_regularization': 0.09979069587079752, 'max_leaf_nodes': 28, 'min_samples_leaf': 47, 'max_depth': 12}. Best is trial 62 with value: 519.2947262865175.\n"
     ]
    },
    {
     "name": "stderr",
     "output_type": "stream",
     "text": [
      "[I 2024-04-08 09:30:30,407] Trial 95 finished with value: 521.509497134005 and parameters: {'loss': 'poisson', 'quantile': 0.09993378937547691, 'max_iter': 430, 'learning_rate': 0.01795632457211603, 'l2_regularization': 0.09973958667669484, 'max_leaf_nodes': 26, 'min_samples_leaf': 47, 'max_depth': 11}. Best is trial 62 with value: 519.2947262865175.\n",
      "[I 2024-04-08 09:30:34,642] Trial 96 finished with value: 520.7613981617787 and parameters: {'loss': 'poisson', 'quantile': 0.08488711371241527, 'max_iter': 391, 'learning_rate': 0.011813812619118973, 'l2_regularization': 0.08954095045192281, 'max_leaf_nodes': 28, 'min_samples_leaf': 44, 'max_depth': 12}. Best is trial 62 with value: 519.2947262865175.\n",
      "[I 2024-04-08 09:30:38,447] Trial 97 finished with value: 520.933358593134 and parameters: {'loss': 'poisson', 'quantile': 0.08836082993825767, 'max_iter': 489, 'learning_rate': 0.01568788506561074, 'l2_regularization': 0.08179944203972923, 'max_leaf_nodes': 30, 'min_samples_leaf': 46, 'max_depth': 11}. Best is trial 62 with value: 519.2947262865175.\n",
      "[I 2024-04-08 09:30:42,302] Trial 98 finished with value: 524.8888313221149 and parameters: {'loss': 'absolute_error', 'quantile': 0.09140855180922354, 'max_iter': 476, 'learning_rate': 0.023409438377607658, 'l2_regularization': 0.09736893840001454, 'max_leaf_nodes': 29, 'min_samples_leaf': 48, 'max_depth': 12}. Best is trial 62 with value: 519.2947262865175.\n",
      "[I 2024-04-08 09:30:45,105] Trial 99 finished with value: 522.449687111613 and parameters: {'loss': 'poisson', 'quantile': 0.09455439777900153, 'max_iter': 376, 'learning_rate': 0.02666235684114137, 'l2_regularization': 0.08754245822296892, 'max_leaf_nodes': 37, 'min_samples_leaf': 33, 'max_depth': 10}. Best is trial 62 with value: 519.2947262865175.\n",
      "[I 2024-04-08 09:30:45,472] Trial 100 finished with value: 591.4078701191596 and parameters: {'loss': 'poisson', 'quantile': 0.09811456125370525, 'max_iter': 20, 'learning_rate': 0.01811552486323976, 'l2_regularization': 0.08524261770737455, 'max_leaf_nodes': 32, 'min_samples_leaf': 50, 'max_depth': 11}. Best is trial 62 with value: 519.2947262865175.\n",
      "[I 2024-04-08 09:30:49,263] Trial 101 finished with value: 521.0256256329861 and parameters: {'loss': 'poisson', 'quantile': 0.09776752082515781, 'max_iter': 419, 'learning_rate': 0.02006841394556036, 'l2_regularization': 0.09488566801930422, 'max_leaf_nodes': 33, 'min_samples_leaf': 41, 'max_depth': 12}. Best is trial 62 with value: 519.2947262865175.\n",
      "[I 2024-04-08 09:30:55,142] Trial 102 finished with value: 521.1284866860556 and parameters: {'loss': 'poisson', 'quantile': 0.09552255654477589, 'max_iter': 438, 'learning_rate': 0.014065225107958568, 'l2_regularization': 0.09249208160278397, 'max_leaf_nodes': 34, 'min_samples_leaf': 36, 'max_depth': 12}. Best is trial 62 with value: 519.2947262865175.\n",
      "[I 2024-04-08 09:30:59,529] Trial 103 finished with value: 522.4858199621397 and parameters: {'loss': 'poisson', 'quantile': 0.09336921617194999, 'max_iter': 452, 'learning_rate': 0.022219784604476364, 'l2_regularization': 0.0966616027454758, 'max_leaf_nodes': 36, 'min_samples_leaf': 14, 'max_depth': 12}. Best is trial 62 with value: 519.2947262865175.\n",
      "[I 2024-04-08 09:31:01,792] Trial 104 finished with value: 521.6374313883871 and parameters: {'loss': 'poisson', 'quantile': 0.09819392363790279, 'max_iter': 395, 'learning_rate': 0.028285357418636827, 'l2_regularization': 0.09980670981599032, 'max_leaf_nodes': 22, 'min_samples_leaf': 38, 'max_depth': 12}. Best is trial 62 with value: 519.2947262865175.\n",
      "[I 2024-04-08 09:31:08,382] Trial 105 finished with value: 521.0530112138849 and parameters: {'loss': 'poisson', 'quantile': 0.01558959643132133, 'max_iter': 416, 'learning_rate': 0.010046273369484314, 'l2_regularization': 0.09062733108552809, 'max_leaf_nodes': 41, 'min_samples_leaf': 44, 'max_depth': 11}. Best is trial 62 with value: 519.2947262865175.\n",
      "[I 2024-04-08 09:31:11,559] Trial 106 finished with value: 520.3347095369148 and parameters: {'loss': 'poisson', 'quantile': 0.09061550168546384, 'max_iter': 458, 'learning_rate': 0.01694479630536936, 'l2_regularization': 0.09295036562976279, 'max_leaf_nodes': 27, 'min_samples_leaf': 45, 'max_depth': 12}. Best is trial 62 with value: 519.2947262865175.\n",
      "[I 2024-04-08 09:31:15,011] Trial 107 finished with value: 521.4490305025607 and parameters: {'loss': 'poisson', 'quantile': 0.09021880583482256, 'max_iter': 460, 'learning_rate': 0.016827742575119566, 'l2_regularization': 0.08807898424959017, 'max_leaf_nodes': 26, 'min_samples_leaf': 48, 'max_depth': 11}. Best is trial 62 with value: 519.2947262865175.\n",
      "[I 2024-04-08 09:31:16,098] Trial 108 finished with value: 547.2073256599521 and parameters: {'loss': 'poisson', 'quantile': 0.0885582054589221, 'max_iter': 80, 'learning_rate': 0.0123020405727284, 'l2_regularization': 0.09294085198628918, 'max_leaf_nodes': 27, 'min_samples_leaf': 47, 'max_depth': 12}. Best is trial 62 with value: 519.2947262865175.\n",
      "[I 2024-04-08 09:31:19,218] Trial 109 finished with value: 521.1977538111038 and parameters: {'loss': 'poisson', 'quantile': 0.09266807997274165, 'max_iter': 444, 'learning_rate': 0.018923651423844716, 'l2_regularization': 0.07621522945763684, 'max_leaf_nodes': 24, 'min_samples_leaf': 45, 'max_depth': 11}. Best is trial 62 with value: 519.2947262865175.\n",
      "[I 2024-04-08 09:31:19,357] Trial 110 finished with value: 849.3954047919908 and parameters: {'loss': 'quantile', 'quantile': 0.08224314862158424, 'max_iter': 478, 'learning_rate': 0.015200534204613089, 'l2_regularization': 0.09760122863394559, 'max_leaf_nodes': 28, 'min_samples_leaf': 42, 'max_depth': 10}. Best is trial 62 with value: 519.2947262865175.\n",
      "[I 2024-04-08 09:31:23,581] Trial 111 finished with value: 521.1571328186902 and parameters: {'loss': 'poisson', 'quantile': 0.0957588343745145, 'max_iter': 433, 'learning_rate': 0.02123224164463197, 'l2_regularization': 0.0947257949546402, 'max_leaf_nodes': 31, 'min_samples_leaf': 16, 'max_depth': 12}. Best is trial 62 with value: 519.2947262865175.\n",
      "[I 2024-04-08 09:31:26,301] Trial 112 finished with value: 520.5919105241235 and parameters: {'loss': 'poisson', 'quantile': 0.09797924406023452, 'max_iter': 403, 'learning_rate': 0.02457382492871038, 'l2_regularization': 0.0912011632895938, 'max_leaf_nodes': 30, 'min_samples_leaf': 41, 'max_depth': 12}. Best is trial 62 with value: 519.2947262865175.\n",
      "[I 2024-04-08 09:31:30,530] Trial 113 finished with value: 521.3522612693547 and parameters: {'loss': 'poisson', 'quantile': 0.09512682192767954, 'max_iter': 425, 'learning_rate': 0.016930262861587195, 'l2_regularization': 0.09567654897153362, 'max_leaf_nodes': 33, 'min_samples_leaf': 39, 'max_depth': 12}. Best is trial 62 with value: 519.2947262865175.\n",
      "[I 2024-04-08 09:31:37,297] Trial 114 finished with value: 520.5886869321051 and parameters: {'loss': 'poisson', 'quantile': 0.0910393093548285, 'max_iter': 458, 'learning_rate': 0.012398653426072725, 'l2_regularization': 0.0936436603572318, 'max_leaf_nodes': 38, 'min_samples_leaf': 37, 'max_depth': 12}. Best is trial 62 with value: 519.2947262865175.\n",
      "[I 2024-04-08 09:31:41,687] Trial 115 finished with value: 520.0342148085086 and parameters: {'loss': 'poisson', 'quantile': 0.09980807393063514, 'max_iter': 471, 'learning_rate': 0.019218807158324133, 'l2_regularization': 0.08945232414687136, 'max_leaf_nodes': 35, 'min_samples_leaf': 43, 'max_depth': 11}. Best is trial 62 with value: 519.2947262865175.\n",
      "[I 2024-04-08 09:31:45,989] Trial 116 finished with value: 520.8970608244861 and parameters: {'loss': 'poisson', 'quantile': 0.09974499964054226, 'max_iter': 470, 'learning_rate': 0.014180706436687753, 'l2_regularization': 0.08309332031041665, 'max_leaf_nodes': 24, 'min_samples_leaf': 43, 'max_depth': 11}. Best is trial 62 with value: 519.2947262865175.\n",
      "[I 2024-04-08 09:31:49,646] Trial 117 finished with value: 521.5302040140951 and parameters: {'loss': 'poisson', 'quantile': 0.09318781391069707, 'max_iter': 487, 'learning_rate': 0.018554236170679105, 'l2_regularization': 0.08773040756610925, 'max_leaf_nodes': 29, 'min_samples_leaf': 46, 'max_depth': 10}. Best is trial 62 with value: 519.2947262865175.\n",
      "[I 2024-04-08 09:31:55,688] Trial 118 finished with value: 526.4104982650371 and parameters: {'loss': 'absolute_error', 'quantile': 0.09997538631836904, 'max_iter': 450, 'learning_rate': 0.015457609826799485, 'l2_regularization': 0.08582311758506717, 'max_leaf_nodes': 32, 'min_samples_leaf': 44, 'max_depth': 11}. Best is trial 62 with value: 519.2947262865175.\n"
     ]
    },
    {
     "name": "stderr",
     "output_type": "stream",
     "text": [
      "[I 2024-04-08 09:31:59,701] Trial 119 finished with value: 521.0230246451308 and parameters: {'loss': 'poisson', 'quantile': 0.09565295522982864, 'max_iter': 462, 'learning_rate': 0.011328823282801388, 'l2_regularization': 0.08904890985326025, 'max_leaf_nodes': 20, 'min_samples_leaf': 45, 'max_depth': 9}. Best is trial 62 with value: 519.2947262865175.\n",
      "[I 2024-04-08 09:32:02,271] Trial 120 finished with value: 522.0132035296502 and parameters: {'loss': 'poisson', 'quantile': 0.08573849744049654, 'max_iter': 474, 'learning_rate': 0.02264996955496327, 'l2_regularization': 0.09194904585229513, 'max_leaf_nodes': 25, 'min_samples_leaf': 47, 'max_depth': 10}. Best is trial 62 with value: 519.2947262865175.\n",
      "[I 2024-04-08 09:32:06,233] Trial 121 finished with value: 523.0562203333561 and parameters: {'loss': 'poisson', 'quantile': 0.09699621357389626, 'max_iter': 444, 'learning_rate': 0.020420801664260982, 'l2_regularization': 0.08989115105341182, 'max_leaf_nodes': 35, 'min_samples_leaf': 17, 'max_depth': 12}. Best is trial 62 with value: 519.2947262865175.\n",
      "[I 2024-04-08 09:32:08,766] Trial 122 finished with value: 520.5116127370073 and parameters: {'loss': 'poisson', 'quantile': 0.09751995134993244, 'max_iter': 414, 'learning_rate': 0.025318006301270984, 'l2_regularization': 0.09829737467336039, 'max_leaf_nodes': 37, 'min_samples_leaf': 39, 'max_depth': 11}. Best is trial 62 with value: 519.2947262865175.\n",
      "[I 2024-04-08 09:32:14,051] Trial 123 finished with value: 521.925959551361 and parameters: {'loss': 'poisson', 'quantile': 0.09416772503703098, 'max_iter': 438, 'learning_rate': 0.024863861213312487, 'l2_regularization': 0.020707103732035798, 'max_leaf_nodes': 37, 'min_samples_leaf': 39, 'max_depth': 11}. Best is trial 62 with value: 519.2947262865175.\n",
      "[I 2024-04-08 09:32:20,198] Trial 124 finished with value: 522.9661549066298 and parameters: {'loss': 'poisson', 'quantile': 0.09837934740860328, 'max_iter': 425, 'learning_rate': 0.0173932702197864, 'l2_regularization': 0.09827200279263436, 'max_leaf_nodes': 39, 'min_samples_leaf': 35, 'max_depth': 11}. Best is trial 62 with value: 519.2947262865175.\n",
      "[I 2024-04-08 09:32:24,981] Trial 125 finished with value: 523.0242776287674 and parameters: {'loss': 'poisson', 'quantile': 0.09127120908716056, 'max_iter': 459, 'learning_rate': 0.013351148413235647, 'l2_regularization': 0.09316682274713839, 'max_leaf_nodes': 41, 'min_samples_leaf': 43, 'max_depth': 11}. Best is trial 62 with value: 519.2947262865175.\n",
      "[I 2024-04-08 09:32:30,273] Trial 126 finished with value: 521.1858775969245 and parameters: {'loss': 'poisson', 'quantile': 0.09673680402461068, 'max_iter': 487, 'learning_rate': 0.01951558847572578, 'l2_regularization': 0.09665757119057448, 'max_leaf_nodes': 36, 'min_samples_leaf': 14, 'max_depth': 10}. Best is trial 62 with value: 519.2947262865175.\n",
      "[I 2024-04-08 09:32:35,447] Trial 127 finished with value: 522.367546667961 and parameters: {'loss': 'poisson', 'quantile': 0.0734694684675222, 'max_iter': 419, 'learning_rate': 0.029672173739931713, 'l2_regularization': 0.09819191322704957, 'max_leaf_nodes': 34, 'min_samples_leaf': 19, 'max_depth': 11}. Best is trial 62 with value: 519.2947262865175.\n",
      "[I 2024-04-08 09:32:37,227] Trial 128 finished with value: 520.714914250917 and parameters: {'loss': 'poisson', 'quantile': 0.093060666269206, 'max_iter': 469, 'learning_rate': 0.026521572179710344, 'l2_regularization': 0.09109731037875202, 'max_leaf_nodes': 17, 'min_samples_leaf': 37, 'max_depth': 10}. Best is trial 62 with value: 519.2947262865175.\n",
      "[I 2024-04-08 09:32:42,227] Trial 129 finished with value: 520.5134272196608 and parameters: {'loss': 'poisson', 'quantile': 0.08970910360161433, 'max_iter': 437, 'learning_rate': 0.015332042506586253, 'l2_regularization': 0.09446914905894928, 'max_leaf_nodes': 38, 'min_samples_leaf': 40, 'max_depth': 12}. Best is trial 62 with value: 519.2947262865175.\n",
      "[I 2024-04-08 09:32:47,571] Trial 130 finished with value: 521.0183158954911 and parameters: {'loss': 'poisson', 'quantile': 0.08939478963513388, 'max_iter': 451, 'learning_rate': 0.015258525238219352, 'l2_regularization': 0.09421758993895354, 'max_leaf_nodes': 38, 'min_samples_leaf': 39, 'max_depth': 11}. Best is trial 62 with value: 519.2947262865175.\n",
      "[I 2024-04-08 09:32:53,968] Trial 131 finished with value: 522.0242328536607 and parameters: {'loss': 'poisson', 'quantile': 0.09459397569566305, 'max_iter': 434, 'learning_rate': 0.010058748180298876, 'l2_regularization': 0.095990549420204, 'max_leaf_nodes': 37, 'min_samples_leaf': 40, 'max_depth': 12}. Best is trial 62 with value: 519.2947262865175.\n",
      "[I 2024-04-08 09:32:57,968] Trial 132 finished with value: 522.9538918348878 and parameters: {'loss': 'poisson', 'quantile': 0.09873343620723367, 'max_iter': 441, 'learning_rate': 0.021589781520317767, 'l2_regularization': 0.09252384559680367, 'max_leaf_nodes': 40, 'min_samples_leaf': 42, 'max_depth': 12}. Best is trial 62 with value: 519.2947262865175.\n",
      "[I 2024-04-08 09:33:02,648] Trial 133 finished with value: 520.8311176533299 and parameters: {'loss': 'poisson', 'quantile': 0.09998493337814954, 'max_iter': 399, 'learning_rate': 0.016685763213789343, 'l2_regularization': 0.08686951562271607, 'max_leaf_nodes': 31, 'min_samples_leaf': 36, 'max_depth': 12}. Best is trial 62 with value: 519.2947262865175.\n",
      "[I 2024-04-08 09:33:07,532] Trial 134 finished with value: 522.5570986427244 and parameters: {'loss': 'poisson', 'quantile': 0.06155451144196348, 'max_iter': 385, 'learning_rate': 0.013638633037778073, 'l2_regularization': 0.0999234647276533, 'max_leaf_nodes': 39, 'min_samples_leaf': 49, 'max_depth': 12}. Best is trial 62 with value: 519.2947262865175.\n",
      "[I 2024-04-08 09:33:11,010] Trial 135 finished with value: 521.9707607038143 and parameters: {'loss': 'poisson', 'quantile': 0.09594243816613324, 'max_iter': 413, 'learning_rate': 0.018697004138477386, 'l2_regularization': 0.0899116139126653, 'max_leaf_nodes': 36, 'min_samples_leaf': 46, 'max_depth': 11}. Best is trial 62 with value: 519.2947262865175.\n",
      "[I 2024-04-08 09:33:11,139] Trial 136 finished with value: 849.3954047919908 and parameters: {'loss': 'quantile', 'quantile': 0.09238762302187262, 'max_iter': 425, 'learning_rate': 0.024186235612980896, 'l2_regularization': 0.09458289959435855, 'max_leaf_nodes': 33, 'min_samples_leaf': 45, 'max_depth': 11}. Best is trial 62 with value: 519.2947262865175.\n",
      "[I 2024-04-08 09:33:15,822] Trial 137 finished with value: 519.7898510232515 and parameters: {'loss': 'poisson', 'quantile': 0.08811831378384881, 'max_iter': 453, 'learning_rate': 0.011598836541977275, 'l2_regularization': 0.0974068252213206, 'max_leaf_nodes': 21, 'min_samples_leaf': 44, 'max_depth': 12}. Best is trial 62 with value: 519.2947262865175.\n",
      "[I 2024-04-08 09:33:19,868] Trial 138 finished with value: 520.3698104326144 and parameters: {'loss': 'poisson', 'quantile': 0.08825626072428477, 'max_iter': 464, 'learning_rate': 0.011421973323292789, 'l2_regularization': 0.06144608665716533, 'max_leaf_nodes': 20, 'min_samples_leaf': 44, 'max_depth': 12}. Best is trial 62 with value: 519.2947262865175.\n",
      "[I 2024-04-08 09:33:22,373] Trial 139 finished with value: 523.1834917080704 and parameters: {'loss': 'squared_error', 'quantile': 0.08734879978465093, 'max_iter': 478, 'learning_rate': 0.011743540493161814, 'l2_regularization': 0.06975436156499829, 'max_leaf_nodes': 20, 'min_samples_leaf': 44, 'max_depth': 9}. Best is trial 62 with value: 519.2947262865175.\n",
      "[I 2024-04-08 09:33:26,813] Trial 140 finished with value: 521.05006192352 and parameters: {'loss': 'poisson', 'quantile': 0.09088774550967041, 'max_iter': 465, 'learning_rate': 0.011819007421826058, 'l2_regularization': 0.05742328295723509, 'max_leaf_nodes': 21, 'min_samples_leaf': 43, 'max_depth': 11}. Best is trial 62 with value: 519.2947262865175.\n",
      "[I 2024-04-08 09:33:29,616] Trial 141 finished with value: 521.1772592510484 and parameters: {'loss': 'poisson', 'quantile': 0.08862277990036901, 'max_iter': 451, 'learning_rate': 0.014226623613685964, 'l2_regularization': 0.09720748971429903, 'max_leaf_nodes': 18, 'min_samples_leaf': 41, 'max_depth': 12}. Best is trial 62 with value: 519.2947262865175.\n",
      "[I 2024-04-08 09:33:34,232] Trial 142 finished with value: 520.1017135360601 and parameters: {'loss': 'poisson', 'quantile': 0.08481005394767295, 'max_iter': 492, 'learning_rate': 0.010320267568618218, 'l2_regularization': 0.09196329103011475, 'max_leaf_nodes': 20, 'min_samples_leaf': 40, 'max_depth': 12}. Best is trial 62 with value: 519.2947262865175.\n"
     ]
    },
    {
     "name": "stderr",
     "output_type": "stream",
     "text": [
      "[I 2024-04-08 09:33:38,588] Trial 143 finished with value: 521.3921641272966 and parameters: {'loss': 'poisson', 'quantile': 0.08501999414718014, 'max_iter': 492, 'learning_rate': 0.010189067580183928, 'l2_regularization': 0.0633756507921646, 'max_leaf_nodes': 22, 'min_samples_leaf': 16, 'max_depth': 7}. Best is trial 62 with value: 519.2947262865175.\n",
      "[I 2024-04-08 09:33:41,808] Trial 144 finished with value: 519.9571168692363 and parameters: {'loss': 'poisson', 'quantile': 0.09422318440842718, 'max_iter': 483, 'learning_rate': 0.013037826188430171, 'l2_regularization': 0.06671115339484109, 'max_leaf_nodes': 20, 'min_samples_leaf': 38, 'max_depth': 12}. Best is trial 62 with value: 519.2947262865175.\n",
      "[I 2024-04-08 09:33:45,844] Trial 145 finished with value: 519.1879838348441 and parameters: {'loss': 'poisson', 'quantile': 0.08759098867222093, 'max_iter': 482, 'learning_rate': 0.012574724351851313, 'l2_regularization': 0.06345563442086194, 'max_leaf_nodes': 19, 'min_samples_leaf': 38, 'max_depth': 12}. Best is trial 145 with value: 519.1879838348441.\n",
      "[I 2024-04-08 09:33:50,476] Trial 146 finished with value: 521.1526678497435 and parameters: {'loss': 'poisson', 'quantile': 0.07872098195912697, 'max_iter': 494, 'learning_rate': 0.012302126788063797, 'l2_regularization': 0.06087267648112416, 'max_leaf_nodes': 19, 'min_samples_leaf': 35, 'max_depth': 12}. Best is trial 145 with value: 519.1879838348441.\n",
      "[I 2024-04-08 09:33:56,234] Trial 147 finished with value: 525.7648390335139 and parameters: {'loss': 'absolute_error', 'quantile': 0.08585942977939236, 'max_iter': 482, 'learning_rate': 0.013300634775489437, 'l2_regularization': 0.06654502218003584, 'max_leaf_nodes': 20, 'min_samples_leaf': 38, 'max_depth': 12}. Best is trial 145 with value: 519.1879838348441.\n",
      "[I 2024-04-08 09:33:56,948] Trial 148 finished with value: 520.0732309400682 and parameters: {'loss': 'poisson', 'quantile': 0.08323850507489645, 'max_iter': 500, 'learning_rate': 0.094179691683077, 'l2_regularization': 0.05916904744948328, 'max_leaf_nodes': 17, 'min_samples_leaf': 37, 'max_depth': 12}. Best is trial 145 with value: 519.1879838348441.\n",
      "[I 2024-04-08 09:33:57,546] Trial 149 finished with value: 519.5225344417703 and parameters: {'loss': 'poisson', 'quantile': 0.08402773832557733, 'max_iter': 499, 'learning_rate': 0.08434200301995842, 'l2_regularization': 0.06487654079123514, 'max_leaf_nodes': 16, 'min_samples_leaf': 38, 'max_depth': 12}. Best is trial 145 with value: 519.1879838348441.\n"
     ]
    },
    {
     "name": "stdout",
     "output_type": "stream",
     "text": [
      "Best hyperparameters: {'loss': 'poisson', 'quantile': 0.08759098867222093, 'max_iter': 482, 'learning_rate': 0.012574724351851313, 'l2_regularization': 0.06345563442086194, 'max_leaf_nodes': 19, 'min_samples_leaf': 38, 'max_depth': 12}\n",
      "Best RMSE: 519.1879838348441\n"
     ]
    }
   ],
   "source": [
    "def hgb_objective(trial):\n",
    "    param = {\n",
    "        'loss':trial.suggest_categorical('loss', ['squared_error', 'absolute_error', 'poisson', 'quantile']),\n",
    "        'quantile' : trial.suggest_float('quantile', 0.01, 0.1),\n",
    "        'max_iter':trial.suggest_int('max_iter', 10, 500),\n",
    "        'learning_rate':trial.suggest_float('learning_rate', 0.01, 0.1),\n",
    "        'l2_regularization' : trial.suggest_float('l2_regularization', 0.01, 0.1),\n",
    "        'max_leaf_nodes' : trial.suggest_int('max_leaf_nodes', 5, 50),\n",
    "        'min_samples_leaf':trial.suggest_int('min_samples_leaf', 5, 50),\n",
    "        'max_depth':trial.suggest_int('max_depth', 2, 12),\n",
    "    }\n",
    "    \n",
    "    model = HistGradientBoostingRegressor(**param,\n",
    "                                         categorical_features=[1, 2, 3, 5, 6, 7, 8 , 9, 10, 11, 12, 13, 14, 17, 18])\n",
    "    model.fit(X_tr, y_tr)\n",
    "    y_pred = model.predict(X_val)\n",
    "    rmse = root_mean_squared_error(y_val, y_pred)\n",
    "    return rmse\n",
    "study = optuna.create_study(direction='minimize')\n",
    "study.optimize(hgb_objective, n_trials=150)\n",
    "print(f\"Best hyperparameters: {study.best_params}\")\n",
    "print(f\"Best RMSE: {study.best_value}\")\n",
    "hgb_best_params = study.best_params"
   ]
  },
  {
   "cell_type": "code",
   "execution_count": 76,
   "id": "3610d26e",
   "metadata": {
    "ExecuteTime": {
     "end_time": "2024-04-08T00:48:00.831213Z",
     "start_time": "2024-04-08T00:47:27.246757Z"
    }
   },
   "outputs": [
    {
     "name": "stdout",
     "output_type": "stream",
     "text": [
      "0:\tlearn: 623.0672405\ttotal: 18.4ms\tremaining: 18.4s\n",
      "200:\tlearn: 485.1055437\ttotal: 5.2s\tremaining: 20.7s\n",
      "400:\tlearn: 468.3065915\ttotal: 10.9s\tremaining: 16.4s\n",
      "600:\tlearn: 452.6217918\ttotal: 16.8s\tremaining: 11.1s\n",
      "800:\tlearn: 439.5916260\ttotal: 22.5s\tremaining: 5.58s\n",
      "999:\tlearn: 427.7634913\ttotal: 28.1s\tremaining: 0us\n"
     ]
    }
   ],
   "source": [
    "# xgb_params = {'learning_rate': 0.016838742164370216, \n",
    "#               'subsample': 0.8666720048612185, \n",
    "#               'colsample_bytree': 0.18688459705364951, \n",
    "#               'gamma': 20, 'n_estimators': 641, \n",
    "#               'min_child_weight': 0.3509849473293521}\n",
    "\n",
    "# hgb_params = {'max_leaf_nodes': 19, \n",
    "#               'learning_rate': 0.049120475865009075, \n",
    "#               'max_depth': 18, \n",
    "#               'min_samples_leaf': 38}\n",
    "\n",
    "xgb_model = XGBRegressor(**xgb_best_params)\n",
    "cat_model = CatBoostRegressor(**cat_best_params,\n",
    "                              verbose=200,\n",
    "                             cat_features=[1, 2, 3, 5, 6, 7, 8 , 9, 10, 11, 12, 13, 14, 17, 18])\n",
    "hgb_model = HistGradientBoostingRegressor(**hgb_best_params,\n",
    "                                         categorical_features=[1, 2, 3, 5, 6, 7, 8 , 9, 10, 11, 12, 13, 14, 17, 18])\n",
    "\n",
    "voting_regressor = VotingRegressor(estimators=[('catboost', cat_model),\n",
    "                                  ('xgb', xgb_model),\n",
    "                                  ('hgb', hgb_model)])\n",
    "\n",
    "model = voting_regressor.fit(X_tr, y_tr)"
   ]
  },
  {
   "cell_type": "code",
   "execution_count": 77,
   "id": "6ae03d8d",
   "metadata": {
    "ExecuteTime": {
     "end_time": "2024-04-08T00:53:21.423947Z",
     "start_time": "2024-04-08T00:48:00.834702Z"
    },
    "scrolled": true
   },
   "outputs": [
    {
     "data": {
      "text/plain": [
       "506.59485377399585"
      ]
     },
     "execution_count": 77,
     "metadata": {},
     "output_type": "execute_result"
    }
   ],
   "source": [
    "scores = cross_val_score(estimator=model,\n",
    "                        X=X, y=y,\n",
    "                        scoring='neg_root_mean_squared_error',\n",
    "                        cv=10,\n",
    "                        n_jobs=-1)\n",
    "\n",
    "-scores.mean()"
   ]
  },
  {
   "cell_type": "code",
   "execution_count": 79,
   "id": "4c88958d",
   "metadata": {
    "ExecuteTime": {
     "end_time": "2024-04-08T00:53:33.065244Z",
     "start_time": "2024-04-08T00:53:32.858155Z"
    }
   },
   "outputs": [],
   "source": [
    "test.drop('Income', axis=1, inplace=True)\n",
    "pred = model.predict(test)\n",
    "pred = [0 if i < 0 else i for i in pred]"
   ]
  },
  {
   "cell_type": "code",
   "execution_count": 80,
   "id": "5fdf9ed5",
   "metadata": {
    "ExecuteTime": {
     "end_time": "2024-04-08T00:53:33.686745Z",
     "start_time": "2024-04-08T00:53:33.675201Z"
    }
   },
   "outputs": [],
   "source": [
    "test['Income'] = pred\n",
    "test.loc[test['Age'] == 0, 'Income'] = 0\n",
    "y_result = test['Income'].values"
   ]
  },
  {
   "cell_type": "code",
   "execution_count": 82,
   "id": "adf672c1",
   "metadata": {
    "ExecuteTime": {
     "end_time": "2024-04-08T00:53:39.701224Z",
     "start_time": "2024-04-08T00:53:39.515582Z"
    },
    "scrolled": false
   },
   "outputs": [
    {
     "data": {
      "text/plain": [
       "Text(0.5, 1.0, '0406')"
      ]
     },
     "execution_count": 82,
     "metadata": {},
     "output_type": "execute_result"
    },
    {
     "data": {
      "image/png": "[encoded data removed]",
      "text/plain": [
       "<Figure size 640x480 with 1 Axes>"
      ]
     },
     "metadata": {},
     "output_type": "display_data"
    }
   ],
   "source": [
    "sub['Income'] = y_result\n",
    "sub.to_csv('data/sub_0408_3.csv', index=False)\n",
    "df_sub = pd.read_csv('data/sub_0408_3.csv')\n",
    "sns.histplot(df_sub['Income'])\n",
    "plt.title(\"0406\")"
   ]
  },
  {
   "cell_type": "code",
   "execution_count": null,
   "id": "e984f979",
   "metadata": {},
   "outputs": [],
   "source": []
  }
 ],
 "metadata": {
  "hide_input": false,
  "kernelspec": {
   "display_name": "Python 3 (ipykernel)",
   "language": "python",
   "name": "python3"
  },
  "language_info": {
   "codemirror_mode": {
    "name": "ipython",
    "version": 3
   },
   "file_extension": ".py",
   "mimetype": "text/x-python",
   "name": "python",
   "nbconvert_exporter": "python",
   "pygments_lexer": "ipython3",
   "version": "3.10.12"
  },
  "toc": {
   "base_numbering": 1,
   "nav_menu": {},
   "number_sections": true,
   "sideBar": true,
   "skip_h1_title": false,
   "title_cell": "Table of Contents",
   "title_sidebar": "Contents",
   "toc_cell": false,
   "toc_position": {},
   "toc_section_display": true,
   "toc_window_display": false
  }
 },
 "nbformat": 4,
 "nbformat_minor": 5
}
